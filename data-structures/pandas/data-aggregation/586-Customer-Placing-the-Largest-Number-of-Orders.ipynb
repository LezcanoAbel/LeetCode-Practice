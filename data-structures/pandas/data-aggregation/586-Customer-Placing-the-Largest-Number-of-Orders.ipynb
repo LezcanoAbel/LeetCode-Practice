{
 "cells": [
  {
   "cell_type": "markdown",
   "metadata": {},
   "source": [
    "# LeetCode Problem 586: Customer Placing the Largest Number of Orders  \n",
    "---  \n",
    "[Problem Link](https://leetcode.com/problems/customer-placing-the-largest-number-of-orders/description/?envType=study-plan-v2&envId=30-days-of-pandas&lang=pythondata)  \n",
    "\n",
    "## Problem Description  \n",
    "\n",
    "You are given a table `Orders` with the following structure:  \n",
    "\n",
    "### Table: Orders  \n",
    "\n",
    "| Column Name     | Type |  \n",
    "|-----------------|------|  \n",
    "| order_number    | int  |  \n",
    "| customer_number | int  |  \n",
    "\n",
    "- `order_number` is the **primary key**, meaning each row represents a unique order.  \n",
    "- Each row in the table contains information about the **order ID** and the **customer ID**.  \n",
    "- The goal is to **find the customer_number for the customer who has placed the most orders**.  \n",
    "\n",
    "### Example 1  \n",
    "\n",
    "**Input:**  \n",
    "\n",
    "**Orders table:**  \n",
    "\n",
    "| order_number | customer_number |  \n",
    "|-------------|----------------|  \n",
    "| 1           | 1              |  \n",
    "| 2           | 2              |  \n",
    "| 3           | 3              |  \n",
    "| 4           | 3              |  \n",
    "\n",
    "**Output:**  \n",
    "\n",
    "| customer_number |  \n",
    "|----------------|  \n",
    "| 3              |  \n",
    "\n",
    "**Explanation:**  \n",
    "\n",
    "- **Customer 1** placed **1 order**  \n",
    "- **Customer 2** placed **1 order**  \n",
    "- **Customer 3** placed **2 orders** (which is the highest)  \n",
    "- The result is **customer_number = 3**  \n",
    "\n",
    "## Approach to Solve the Problem  \n",
    "\n",
    "1. **Group by `customer_number`**  \n",
    "   - Count the number of orders for each customer.  \n",
    "\n",
    "2. **Find the maximum order count**  \n",
    "   - Use `.max()` to determine the highest number of orders.  \n",
    "\n",
    "3. **Filter customers who have the maximum order count**  \n",
    "   - Return only the customers with the highest order count. \n",
    "\n",
    "Happy coding! 🎉"
   ]
  },
  {
   "cell_type": "code",
   "execution_count": 54,
   "metadata": {},
   "outputs": [],
   "source": [
    "import pandas as pd\n",
    "\n",
    "\n",
    "def largest_orders(orders):\n",
    "    orders = (\n",
    "        orders.groupby(\"customer_number\")\n",
    "        .agg({\"order_number\": \"count\"})\n",
    "        .reset_index()\n",
    "        .rename(columns={\"order_number\": \"order_count\"})\n",
    "    )\n",
    "\n",
    "    condition = orders[\"order_count\"] == orders[\"order_count\"].max()\n",
    "    return orders[condition][[\"customer_number\"]]"
   ]
  },
  {
   "cell_type": "code",
   "execution_count": 55,
   "metadata": {},
   "outputs": [
    {
     "data": {
      "text/html": [
       "<div>\n",
       "<style scoped>\n",
       "    .dataframe tbody tr th:only-of-type {\n",
       "        vertical-align: middle;\n",
       "    }\n",
       "\n",
       "    .dataframe tbody tr th {\n",
       "        vertical-align: top;\n",
       "    }\n",
       "\n",
       "    .dataframe thead th {\n",
       "        text-align: right;\n",
       "    }\n",
       "</style>\n",
       "<table border=\"1\" class=\"dataframe\">\n",
       "  <thead>\n",
       "    <tr style=\"text-align: right;\">\n",
       "      <th></th>\n",
       "      <th>customer_number</th>\n",
       "    </tr>\n",
       "  </thead>\n",
       "  <tbody>\n",
       "    <tr>\n",
       "      <th>2</th>\n",
       "      <td>3</td>\n",
       "    </tr>\n",
       "  </tbody>\n",
       "</table>\n",
       "</div>"
      ],
      "text/plain": [
       "   customer_number\n",
       "2                3"
      ]
     },
     "execution_count": 55,
     "metadata": {},
     "output_type": "execute_result"
    }
   ],
   "source": [
    "# Data from LeetCode problem\n",
    "data = [[1, 1], [2, 2], [3, 3], [4, 3]]\n",
    "\n",
    "# Create DataFrame\n",
    "orders = pd.DataFrame(data, columns=[\"order_number\", \"customer_number\"]).astype(\n",
    "    {\"order_number\": \"Int64\", \"customer_number\": \"Int64\"}\n",
    ")\n",
    "\n",
    "# Call function\n",
    "largest_orders(orders)"
   ]
  }
 ],
 "metadata": {
  "kernelspec": {
   "display_name": "base",
   "language": "python",
   "name": "python3"
  },
  "language_info": {
   "codemirror_mode": {
    "name": "ipython",
    "version": 3
   },
   "file_extension": ".py",
   "mimetype": "text/x-python",
   "name": "python",
   "nbconvert_exporter": "python",
   "pygments_lexer": "ipython3",
   "version": "3.12.7"
  }
 },
 "nbformat": 4,
 "nbformat_minor": 2
}
