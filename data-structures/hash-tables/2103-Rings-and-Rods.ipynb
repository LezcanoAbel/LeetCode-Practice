{
 "cells": [
  {
   "cell_type": "markdown",
   "metadata": {},
   "source": [
    "# LeetCode Problem 2103: Rings and Rods\n",
    "---\n",
    "[Problem Link](https://leetcode.com/problems/rings-and-rods/description/)\n",
    "\n",
    "## Problem Description\n",
    "There are `n` rings and each ring is either red, green, or blue. The rings are distributed across ten rods labeled from 0 to 9.\n",
    "\n",
    "You are given a string `rings` of length `2n` that describes the `n` rings that are placed onto the rods. Every two characters in `rings` forms a color-position pair that is used to describe each ring where:\n",
    "\n",
    "- The first character of the ith pair denotes the ith ring's color ('R', 'G', 'B').\n",
    "- The second character of the ith pair denotes the rod that the ith ring is placed on ('0' to '9').\n",
    "\n",
    "For example, \"R3G2B1\" describes `n == 3` rings: a red ring placed onto the rod labeled 3, a green ring placed onto the rod labeled 2, and a blue ring placed onto the rod labeled 1.\n",
    "\n",
    "Return the number of rods that have all three colors of rings on them.\n",
    "\n",
    "### Example 1:\n",
    "<img src=\"../hash-tables/images/2103_example1.png\" alt=\"Descrição da imagem\" width=\"150\" height=\"150\">\n",
    "\n",
    "**Input**: `rings = \"B0B6G0R6R0R6G9\"`  \n",
    "**Output**: `1`  \n",
    "**Explanation**:\n",
    "- The rod labeled 0 holds 3 rings with all colors: red, green, and blue.\n",
    "- The rod labeled 6 holds 3 rings, but it only has red and blue.\n",
    "- The rod labeled 9 holds only a green ring.\n",
    "Thus, the number of rods with all three colors is 1.\n",
    "\n",
    "### Example 2:\n",
    "<img src=\"../hash-tables/images/2103_example2.png\" alt=\"Descrição da imagem\" width=\"150\" height=\"150\">\n",
    "\n",
    "**Input**: `rings = \"B0R0G0R9R0B0G0\"`  \n",
    "**Output**: `1`  \n",
    "**Explanation**:\n",
    "- The rod labeled 0 holds 6 rings with all colors: red, green, and blue.\n",
    "- The rod labeled 9 holds only a red ring.\n",
    "Thus, the number of rods with all three colors is 1.\n",
    "\n",
    "### Example 3:\n",
    "**Input**: `rings = \"G4\"`  \n",
    "**Output**: `0`  \n",
    "**Explanation**:\n",
    "- Only one ring is given. Thus, no rods have all three colors.\n",
    "\n",
    "## Constraints\n",
    "- `rings.length == 2 * n`\n",
    "- `1 <= n <= 100`\n",
    "- `rings[i]` where `i` is even is either 'R', 'G', or 'B' (0-indexed)\n",
    "- `rings[i]` where `i` is odd is a digit from '0' to '9' (0-indexed)\n",
    "\n",
    "## Approach to Solve the Problem\n",
    "1. Initialize lists `colors` and `position` to store ring colors and positions\n",
    "2. Iterate through `rings` to separate colors and positions\n",
    "3. Create a dictionary `rods` to store colors for each rod\n",
    "4. Populate `rods` with corresponding colors and positions\n",
    "5. Count rods with all three colors (R, G, B) and return the count\n",
    "\n",
    "Happy coding! 👨‍💻\n"
   ]
  },
  {
   "cell_type": "code",
   "execution_count": 5,
   "metadata": {},
   "outputs": [],
   "source": [
    "class Solution(object):\n",
    "    def countPoints(self, rings):\n",
    "        \"\"\"\n",
    "        :type rings: str\n",
    "        :rtype: int\n",
    "        \"\"\"\n",
    "        colors = []\n",
    "        position = []\n",
    "        for value in rings:\n",
    "            if value.isdigit():\n",
    "                position.append(int(value))\n",
    "            else:\n",
    "                colors.append(value)\n",
    "\n",
    "        rods = {i: '' for i in range(10)}\n",
    "\n",
    "        for key, value in zip(position, colors):\n",
    "            rods[key] += value\n",
    "\n",
    "        count = 0\n",
    "        for key, values in rods.items():\n",
    "            if len(set(values)) == 3:\n",
    "                count += 1\n",
    "        return count"
   ]
  },
  {
   "cell_type": "code",
   "execution_count": 7,
   "metadata": {},
   "outputs": [
    {
     "name": "stdout",
     "output_type": "stream",
     "text": [
      "1\n"
     ]
    }
   ],
   "source": [
    "rings = \"B0B6G0R6R0R6G9\"\n",
    "sol1 = Solution()\n",
    "print(sol1.countPoints(rings))"
   ]
  },
  {
   "cell_type": "code",
   "execution_count": 8,
   "metadata": {},
   "outputs": [
    {
     "name": "stdout",
     "output_type": "stream",
     "text": [
      "1\n"
     ]
    }
   ],
   "source": [
    "rings = \"B0R0G0R9R0B0G0\"\n",
    "sol2 = Solution()\n",
    "print(sol2.countPoints(rings))"
   ]
  },
  {
   "cell_type": "code",
   "execution_count": 9,
   "metadata": {},
   "outputs": [
    {
     "name": "stdout",
     "output_type": "stream",
     "text": [
      "0\n"
     ]
    }
   ],
   "source": [
    "rings = \"G4\"\n",
    "sol3 = Solution()\n",
    "print(sol3.countPoints(rings))"
   ]
  }
 ],
 "metadata": {
  "kernelspec": {
   "display_name": "base",
   "language": "python",
   "name": "python3"
  },
  "language_info": {
   "codemirror_mode": {
    "name": "ipython",
    "version": 3
   },
   "file_extension": ".py",
   "mimetype": "text/x-python",
   "name": "python",
   "nbconvert_exporter": "python",
   "pygments_lexer": "ipython3",
   "version": "3.12.7"
  }
 },
 "nbformat": 4,
 "nbformat_minor": 2
}
