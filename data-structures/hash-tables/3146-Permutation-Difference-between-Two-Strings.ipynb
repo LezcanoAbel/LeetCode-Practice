{
 "cells": [
  {
   "cell_type": "markdown",
   "metadata": {},
   "source": [
    "# LeetCode Problem 3146: Permutation Difference between Two Strings\n",
    "---\n",
    "\n",
    "[Problem Link](https://leetcode.com/problems/permutation-difference-between-two-strings/description/)\n",
    "\n",
    "## Problem Description\n",
    "\n",
    "You are given two strings `s` and `t` such that:\n",
    "- Every character occurs at most once in `s`\n",
    "- `t` is a permutation of `s`\n",
    "\n",
    "The **permutation difference** between `s` and `t` is defined as the sum of the absolute difference between the indices of each character in `s` and the same character in `t`.\n",
    "\n",
    "Your task is to return the permutation difference between `s` and `t`.\n",
    "\n",
    "### Example 1\n",
    "\n",
    "**Input:**  \n",
    "`s = \"abc\"`  \n",
    "`t = \"bac\"`  \n",
    "**Output:**  \n",
    "`2`  \n",
    "\n",
    "**Explanation:**  \n",
    "The permutation difference is calculated as follows:\n",
    "- For character 'a': |0 - 1| = 1\n",
    "- For character 'b': |1 - 0| = 1\n",
    "- For character 'c': |2 - 2| = 0  \n",
    "\n",
    "Total permutation difference: 1 + 1 + 0 = 2\n",
    "\n",
    "### Example 2\n",
    "\n",
    "**Input:**  \n",
    "`s = \"abcde\"`  \n",
    "`t = \"edbac\"`  \n",
    "**Output:**  \n",
    "`12`  \n",
    "\n",
    "**Explanation:**  \n",
    "The permutation difference is calculated as follows:\n",
    "- For character 'a': |0 - 3| = 3\n",
    "- For character 'b': |1 - 2| = 1\n",
    "- For character 'c': |2 - 4| = 2\n",
    "- For character 'd': |3 - 1| = 2\n",
    "- For character 'e': |4 - 0| = 4  \n",
    "\n",
    "Total permutation difference: 3 + 1 + 2 + 2 + 4 = 12\n",
    "\n",
    "## Constraints\n",
    "\n",
    "- 1 ≤ s.length ≤ 26\n",
    "- Each character occurs at most once in `s`\n",
    "- `t` is a permutation of `s`\n",
    "- `s` consists only of lowercase English letters\n",
    "\n",
    "## Approach to Solve the Problem\n",
    "\n",
    "1. Create a dictionary to map each character in `s` to its index\n",
    "2. Iterate over each character in `t` and calculate the absolute difference between the index of the character in `s` and `t`\n",
    "3. Sum up all the absolute differences to get the permutation difference\n",
    "4. Return the total sum as the result\n",
    "\n",
    "Happy coding! 👍\n"
   ]
  },
  {
   "cell_type": "code",
   "execution_count": null,
   "metadata": {},
   "outputs": [],
   "source": [
    "class Solution(object):\n",
    "    def findPermutationDifference(self, s, t):\n",
    "        \"\"\"\n",
    "        :type s: str\n",
    "        :type t: str\n",
    "        :rtype: int\n",
    "        \"\"\"\n",
    "        permutation = 0\n",
    "        for pos_s, letter_s in enumerate(s):\n",
    "            for pos_t, letter_t in enumerate(t):\n",
    "                if letter_t in letter_s:\n",
    "                    permutation += abs(pos_s - pos_t)\n",
    "        return permutation"
   ]
  },
  {
   "cell_type": "code",
   "execution_count": 8,
   "metadata": {},
   "outputs": [
    {
     "name": "stdout",
     "output_type": "stream",
     "text": [
      "2\n"
     ]
    }
   ],
   "source": [
    "s = \"abc\"\n",
    "t = \"bac\"\n",
    "sol1 = Solution()\n",
    "print(sol1.findPermutationDifference(s, t)) "
   ]
  },
  {
   "cell_type": "code",
   "execution_count": 9,
   "metadata": {},
   "outputs": [
    {
     "name": "stdout",
     "output_type": "stream",
     "text": [
      "12\n"
     ]
    }
   ],
   "source": [
    "s = \"abcde\"\n",
    "t = \"edbac\"\n",
    "sol2 = Solution()\n",
    "print(sol2.findPermutationDifference(s, t))"
   ]
  },
  {
   "cell_type": "code",
   "execution_count": null,
   "metadata": {},
   "outputs": [],
   "source": []
  }
 ],
 "metadata": {
  "kernelspec": {
   "display_name": "base",
   "language": "python",
   "name": "python3"
  },
  "language_info": {
   "codemirror_mode": {
    "name": "ipython",
    "version": 3
   },
   "file_extension": ".py",
   "mimetype": "text/x-python",
   "name": "python",
   "nbconvert_exporter": "python",
   "pygments_lexer": "ipython3",
   "version": "3.12.7"
  }
 },
 "nbformat": 4,
 "nbformat_minor": 2
}
