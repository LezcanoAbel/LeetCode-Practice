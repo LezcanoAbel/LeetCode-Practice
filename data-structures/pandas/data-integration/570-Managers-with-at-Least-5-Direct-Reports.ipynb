{
 "cells": [
  {
   "cell_type": "markdown",
   "metadata": {},
   "source": [
    "# LeetCode Problem 570: Managers with at Least 5 Direct Reports\n",
    "---\n",
    "[Problem Link](https://leetcode.com/problems/managers-with-at-least-5-direct-reports/description/)\n",
    "\n",
    "## Problem Description\n",
    "\n",
    "Given an `Employee` table, write a solution to find managers who have at least five direct reports.\n",
    "\n",
    "Return the result table in any order.\n",
    "\n",
    "### Example 1\n",
    "\n",
    "**Input:**  \n",
    "**Employee table:**\n",
    "\n",
    "| id  | name  | department | managerId |\n",
    "|-----|-------|------------|-----------|\n",
    "| 101 | John  | A          | null      |\n",
    "| 102 | Dan   | A          | 101       |\n",
    "| 103 | James | A          | 101       |\n",
    "| 104 | Amy   | A          | 101       |\n",
    "| 105 | Anne  | A          | 101       |\n",
    "| 106 | Ron   | B          | 101       |\n",
    "\n",
    "**Output:**  \n",
    "\n",
    "| name |\n",
    "|------|\n",
    "| John |\n",
    "\n",
    "## Approach to Solve the Problem\n",
    "\n",
    "1. Group employees by `managerId` and count the number of direct reports.\n",
    "2. Filter managers who have at least 5 direct reports.\n",
    "3. Retrieve the names of those managers.\n",
    "\n",
    "Happy coding! 🎉\n"
   ]
  },
  {
   "cell_type": "code",
   "execution_count": 149,
   "metadata": {},
   "outputs": [],
   "source": [
    "import pandas as pd\n",
    "\n",
    "\n",
    "def find_managers(employee):\n",
    "    report_count = (\n",
    "        employee.groupby(\"managerId\")[[\"id\"]].count().rename(columns={\"id\": \"reports\"})\n",
    "    )\n",
    "    managers = report_count[report_count[\"reports\"] >= 5].index\n",
    "    return employee[employee[\"id\"].isin(managers)][[\"name\"]]"
   ]
  },
  {
   "cell_type": "code",
   "execution_count": 151,
   "metadata": {},
   "outputs": [
    {
     "data": {
      "text/html": [
       "<div>\n",
       "<style scoped>\n",
       "    .dataframe tbody tr th:only-of-type {\n",
       "        vertical-align: middle;\n",
       "    }\n",
       "\n",
       "    .dataframe tbody tr th {\n",
       "        vertical-align: top;\n",
       "    }\n",
       "\n",
       "    .dataframe thead th {\n",
       "        text-align: right;\n",
       "    }\n",
       "</style>\n",
       "<table border=\"1\" class=\"dataframe\">\n",
       "  <thead>\n",
       "    <tr style=\"text-align: right;\">\n",
       "      <th></th>\n",
       "      <th>name</th>\n",
       "    </tr>\n",
       "  </thead>\n",
       "  <tbody>\n",
       "    <tr>\n",
       "      <th>0</th>\n",
       "      <td>John</td>\n",
       "    </tr>\n",
       "  </tbody>\n",
       "</table>\n",
       "</div>"
      ],
      "text/plain": [
       "   name\n",
       "0  John"
      ]
     },
     "execution_count": 151,
     "metadata": {},
     "output_type": "execute_result"
    }
   ],
   "source": [
    "# Data from Leetcode problem \n",
    "data = [\n",
    "    [101, \"John\", \"A\", None],\n",
    "    [102, \"Dan\", \"A\", 101],\n",
    "    [103, \"James\", \"A\", 101],\n",
    "    [104, \"Amy\", \"A\", 101],\n",
    "    [105, \"Anne\", \"A\", 101],\n",
    "    [106, \"Ron\", \"B\", 101],\n",
    "]\n",
    "\n",
    "# Create DataFrame\n",
    "employee = pd.DataFrame(data, columns=[\"id\", \"name\", \"department\", \"managerId\"]).astype(\n",
    "    {\"id\": \"Int64\", \"name\": \"object\", \"department\": \"object\", \"managerId\": \"Int64\"}\n",
    ")\n",
    "\n",
    "# Call the function\n",
    "find_managers(employee)"
   ]
  }
 ],
 "metadata": {
  "kernelspec": {
   "display_name": "base",
   "language": "python",
   "name": "python3"
  },
  "language_info": {
   "codemirror_mode": {
    "name": "ipython",
    "version": 3
   },
   "file_extension": ".py",
   "mimetype": "text/x-python",
   "name": "python",
   "nbconvert_exporter": "python",
   "pygments_lexer": "ipython3",
   "version": "3.12.7"
  }
 },
 "nbformat": 4,
 "nbformat_minor": 2
}
