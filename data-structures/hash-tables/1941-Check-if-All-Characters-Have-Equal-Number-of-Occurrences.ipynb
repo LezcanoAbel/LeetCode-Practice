{
 "cells": [
  {
   "cell_type": "markdown",
   "metadata": {},
   "source": [
    "# LeetCode Problem 1941: Check if All Characters Have Equal Number of Occurrences\n",
    "---\n",
    "[Problem Link](https://leetcode.com/problems/check-if-all-characters-have-equal-number-of-occurrences/description/)\n",
    "\n",
    "## Problem Description\n",
    "\n",
    "Given a string `s`, return `true` if `s` is a good string, or `false` otherwise.\n",
    "\n",
    "A string `s` is good if all the characters that appear in `s` have the same number of occurrences (i.e., the same frequency).\n",
    "\n",
    "## Example 1\n",
    "\n",
    "**Input:**  \n",
    "`s = \"abacbc\"`  \n",
    "**Output:**  \n",
    "`true`\n",
    "\n",
    "**Explanation:**  \n",
    "The characters that appear in `s` are 'a', 'b', and 'c'. All characters occur 2 times in `s`.\n",
    "\n",
    "## Example 2\n",
    "\n",
    "**Input:**  \n",
    "`s = \"aaabb\"`  \n",
    "**Output:**  \n",
    "`false`\n",
    "\n",
    "**Explanation:**  \n",
    "The characters that appear in `s` are 'a' and 'b'.  \n",
    "'a' occurs 3 times while 'b' occurs 2 times, which is not the same number of times.\n",
    "\n",
    "## Constraints\n",
    "\n",
    "- 1 ≤ s.length ≤ 1000\n",
    "- `s` consists of lowercase English letters.\n",
    "\n",
    "## Approach to Solve the Problem\n",
    "\n",
    "1. Initialize a dictionary `count` to store the frequency of each character in `s`.\n",
    "2. Iterate through each character in `s` and update the dictionary `count`.\n",
    "3. Check if all values in `count` are the same by converting them to a set and checking its length.\n",
    "4. Return `True` if the length of the set is 1, otherwise return `False`.\n",
    "\n",
    "Happy coding! 🎉"
   ]
  },
  {
   "cell_type": "code",
   "execution_count": 1,
   "metadata": {},
   "outputs": [],
   "source": [
    "class Solution(object):\n",
    "    def areOccurrencesEqual(self, s):\n",
    "        \"\"\"\n",
    "        :type s: str\n",
    "        :rtype: bool\n",
    "        \"\"\"\n",
    "        count = {}\n",
    "        for letter in s:\n",
    "            if letter not in count:\n",
    "                count[letter] = 1\n",
    "            else:\n",
    "                count[letter] += 1\n",
    "        return len(set(count.values())) == 1"
   ]
  },
  {
   "cell_type": "code",
   "execution_count": 2,
   "metadata": {},
   "outputs": [
    {
     "name": "stdout",
     "output_type": "stream",
     "text": [
      "True\n"
     ]
    }
   ],
   "source": [
    "s = \"abacbc\"\n",
    "sol1 = Solution()\n",
    "print(sol1.areOccurrencesEqual(s))"
   ]
  },
  {
   "cell_type": "code",
   "execution_count": 3,
   "metadata": {},
   "outputs": [
    {
     "name": "stdout",
     "output_type": "stream",
     "text": [
      "False\n"
     ]
    }
   ],
   "source": [
    "s = \"aaabb\"\n",
    "sol2 = Solution()\n",
    "print(sol2.areOccurrencesEqual(s))"
   ]
  }
 ],
 "metadata": {
  "kernelspec": {
   "display_name": "base",
   "language": "python",
   "name": "python3"
  },
  "language_info": {
   "codemirror_mode": {
    "name": "ipython",
    "version": 3
   },
   "file_extension": ".py",
   "mimetype": "text/x-python",
   "name": "python",
   "nbconvert_exporter": "python",
   "pygments_lexer": "ipython3",
   "version": "3.12.7"
  }
 },
 "nbformat": 4,
 "nbformat_minor": 2
}
