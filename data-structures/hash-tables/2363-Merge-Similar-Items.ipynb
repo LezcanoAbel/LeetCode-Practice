{
 "cells": [
  {
   "cell_type": "markdown",
   "metadata": {},
   "source": [
    "# LeetCode Problem 2363: Merge Similar Items\n",
    "---\n",
    "[Problem Link](https://leetcode.com/problems/merge-similar-items/description/)\n",
    "\n",
    "## Problem Description\n",
    "\n",
    "You are given two 2D integer arrays, `items1` and `items2`, representing two sets of items. Each array `items` has the following properties:\n",
    "- `items[i] = [value_i, weight_i]` where `value_i` represents the value and `weight_i` represents the weight of the `i`th item.\n",
    "- The value of each item in `items` is unique.\n",
    "\n",
    "Return a 2D integer array `ret` where `ret[i] = [value_i, weight_i]`, with `weight_i` being the sum of weights of all items with value `value_i`.\n",
    "\n",
    "Note: `ret` should be returned in ascending order by value.\n",
    "\n",
    "## Examples\n",
    "\n",
    "### Example 1\n",
    "**Input:**  \n",
    "`items1 = [[1,1],[4,5],[3,8]], items2 = [[3,1],[1,5]]`  \n",
    "**Output:**  \n",
    "`[[1,6],[3,9],[4,5]]`  \n",
    "\n",
    "**Explanation:**  \n",
    "- The item with value = 1 occurs in `items1` with weight = 1 and in `items2` with weight = 5. Total weight = \\(1 + 5 = 6\\).\n",
    "- The item with value = 3 occurs in `items1` with weight = 8 and in `items2` with weight = 1. Total weight = \\(8 + 1 = 9\\).\n",
    "- The item with value = 4 occurs only in `items1` with weight = 5.\n",
    "\n",
    "### Example 2\n",
    "**Input:**  \n",
    "`items1 = [[1,1],[3,2],[2,3]], items2 = [[2,1],[3,2],[1,3]]`  \n",
    "**Output:**  \n",
    "`[[1,4],[2,4],[3,4]]`\n",
    "\n",
    "### Example 3\n",
    "**Input:**  \n",
    "`items1 = [[1,3],[2,2]], items2 = [[7,1],[2,2],[1,4]]`  \n",
    "**Output:**  \n",
    "`[[1,7],[2,4],[7,1]]`\n",
    "\n",
    "## Constraints\n",
    "- `1 <= items1.length, items2.length <= 1000`\n",
    "- `items1[i].length = items2[i].length = 2`\n",
    "- `1 <= valuei, weighti <= 1000`\n",
    "- Each `valuei` in `items1` is unique.\n",
    "- Each `valuei` in `items2` is unique.\n",
    "\n",
    "## Approach to Solve the Problem\n",
    "1. Initialize a dictionary `ret` to store the cumulative weights of each item.\n",
    "2. Iterate through `items1` and update the `ret` dictionary with the weights of each item.\n",
    "3. Iterate through `items2` and update the `ret` dictionary with the weights of each item.\n",
    "4. Convert the `ret` dictionary to a list of lists, where each sublist contains the item and its cumulative weight.\n",
    "5. Sort the list of lists based on the item values.\n",
    "6. Return the sorted list of lists.\n",
    "\n",
    "Happy coding! 🚀"
   ]
  },
  {
   "cell_type": "code",
   "execution_count": 5,
   "metadata": {},
   "outputs": [],
   "source": [
    "class Solution(object):\n",
    "    def mergeSimilarItems(self, items1, items2):\n",
    "        ret = {}\n",
    "        for value, weight in items1:\n",
    "            ret[value] = ret.get(value, 0) + weight\n",
    "        for value, weight in items2:\n",
    "            ret[value] = ret.get(value, 0) + weight\n",
    "\n",
    "        sorted_items = sorted([[k, v] for k, v in ret.items()])\n",
    "        return sorted_items"
   ]
  },
  {
   "cell_type": "code",
   "execution_count": 6,
   "metadata": {},
   "outputs": [
    {
     "name": "stdout",
     "output_type": "stream",
     "text": [
      "[[1, 6], [3, 9], [4, 5]]\n"
     ]
    }
   ],
   "source": [
    "items1 = [[1,1],[4,5],[3,8]]\n",
    "items2 = [[3,1],[1,5]]\n",
    "sol1 = Solution()\n",
    "print(sol1.mergeSimilarItems(items1, items2))"
   ]
  },
  {
   "cell_type": "code",
   "execution_count": 7,
   "metadata": {},
   "outputs": [
    {
     "name": "stdout",
     "output_type": "stream",
     "text": [
      "[[1, 4], [2, 4], [3, 4]]\n"
     ]
    }
   ],
   "source": [
    "items1 = [[1,1],[3,2],[2,3]]\n",
    "items2 = [[2,1],[3,2],[1,3]]\n",
    "sol2 = Solution()\n",
    "print(sol2.mergeSimilarItems(items1, items2))"
   ]
  },
  {
   "cell_type": "code",
   "execution_count": 8,
   "metadata": {},
   "outputs": [
    {
     "name": "stdout",
     "output_type": "stream",
     "text": [
      "[[1, 7], [2, 4], [7, 1]]\n"
     ]
    }
   ],
   "source": [
    "items1 = [[1,3],[2,2]]\n",
    "items2 = [[7,1],[2,2],[1,4]]\n",
    "sol3 = Solution()\n",
    "print(sol3.mergeSimilarItems(items1, items2))"
   ]
  }
 ],
 "metadata": {
  "kernelspec": {
   "display_name": "base",
   "language": "python",
   "name": "python3"
  },
  "language_info": {
   "codemirror_mode": {
    "name": "ipython",
    "version": 3
   },
   "file_extension": ".py",
   "mimetype": "text/x-python",
   "name": "python",
   "nbconvert_exporter": "python",
   "pygments_lexer": "ipython3",
   "version": "3.12.7"
  }
 },
 "nbformat": 4,
 "nbformat_minor": 2
}
