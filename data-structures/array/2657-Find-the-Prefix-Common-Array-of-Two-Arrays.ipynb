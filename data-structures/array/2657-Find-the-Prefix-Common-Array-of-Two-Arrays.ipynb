{
 "cells": [
  {
   "cell_type": "markdown",
   "metadata": {},
   "source": [
    "# LeetCode Problem 2657: Find the Prefix Common Array of Two Arrays\n",
    "---\n",
    "[Problem Link](https://leetcode.com/problems/find-the-prefix-common-array-of-two-arrays/description/)\n",
    "\n",
    "## Problem Description\n",
    "\n",
    "You are given two 0-indexed integer permutations `A` and `B` of length `n`.  \n",
    "\n",
    "A **prefix common array** of `A` and `B` is an array `C` such that `C[i]` is equal to the count of numbers that are present at or before the index `i` in both `A` and `B`.  \n",
    "\n",
    "Return the prefix common array of `A` and `B`.  \n",
    "\n",
    "A sequence of `n` integers is called a permutation if it contains all integers from `1` to `n` exactly once.\n",
    "\n",
    "### Example 1\n",
    "\n",
    "**Input:**  \n",
    "`A = [1,3,2,4]`  \n",
    "`B = [3,1,2,4]`  \n",
    "**Output:**  \n",
    "`[0,2,3,4]`  \n",
    "\n",
    "**Explanation:**  \n",
    "- At `i = 0`: no number is common, so `C[0] = 0`.  \n",
    "- At `i = 1`: 1 and 3 are common in `A` and `B`, so `C[1] = 2`.  \n",
    "- At `i = 2`: 1, 2, and 3 are common in `A` and `B`, so `C[2] = 3`.  \n",
    "- At `i = 3`: 1, 2, 3, and 4 are common in `A` and `B`, so `C[3] = 4`.  \n",
    "\n",
    "### Example 2\n",
    "\n",
    "**Input:**  \n",
    "`A = [2,3,1]`  \n",
    "`B = [3,1,2]`  \n",
    "**Output:**  \n",
    "`[0,1,3]`  \n",
    "\n",
    "**Explanation:**  \n",
    "- At `i = 0`: no number is common, so `C[0] = 0`.  \n",
    "- At `i = 1`: only 3 is common in `A` and `B`, so `C[1] = 1`.  \n",
    "- At `i = 2`: 1, 2, and 3 are common in `A` and `B`, so `C[2] = 3`.  \n",
    "\n",
    "## Constraints\n",
    "\n",
    "- `1 ≤ A.length == B.length == n ≤ 50`\n",
    "- `1 ≤ A[i], B[i] ≤ n`\n",
    "- It is guaranteed that `A` and `B` are both a permutation of `n` integers.\n",
    "\n",
    "## Approach to Solve the Problem\n",
    "\n",
    "1. Use two sets, `set1` and `set2`, to track numbers encountered in `A` and `B` up to index `i`.\n",
    "2. Iterate through the arrays `A` and `B` simultaneously:\n",
    "   - Add the current elements of `A` and `B` to their respective sets.\n",
    "   - Calculate the intersection of the two sets to count the common elements.\n",
    "   - Append this count to the result array `C`.\n",
    "3. Return the array `C` as the result.\n",
    "\n",
    "\n",
    "Happy coding! 👨‍💻\n"
   ]
  },
  {
   "cell_type": "code",
   "execution_count": 16,
   "metadata": {},
   "outputs": [],
   "source": [
    "class Solution:\n",
    "    def findThePrefixCommonArray(self, A, B):\n",
    "        set1 = set()\n",
    "        set2 = set()\n",
    "        C = []\n",
    "        for i in range(len(A)):\n",
    "            set1.add(A[i])\n",
    "            set2.add(B[i])\n",
    "            C.append(len(set1 & set2))\n",
    "        return C"
   ]
  },
  {
   "cell_type": "code",
   "execution_count": 13,
   "metadata": {},
   "outputs": [
    {
     "name": "stdout",
     "output_type": "stream",
     "text": [
      "[0, 2, 3, 4]\n"
     ]
    }
   ],
   "source": [
    "A = [1,3,2,4]\n",
    "B = [3,1,2,4]\n",
    "sol1 = Solution()\n",
    "print(sol1.findThePrefixCommonArray(A, B))"
   ]
  },
  {
   "cell_type": "code",
   "execution_count": 15,
   "metadata": {},
   "outputs": [
    {
     "name": "stdout",
     "output_type": "stream",
     "text": [
      "[0, 1, 3]\n"
     ]
    }
   ],
   "source": [
    "A = [2,3,1]\n",
    "B = [3,1,2]\n",
    "sol2 = Solution()\n",
    "print(sol2.findThePrefixCommonArray(A, B))"
   ]
  }
 ],
 "metadata": {
  "kernelspec": {
   "display_name": "base",
   "language": "python",
   "name": "python3"
  },
  "language_info": {
   "codemirror_mode": {
    "name": "ipython",
    "version": 3
   },
   "file_extension": ".py",
   "mimetype": "text/x-python",
   "name": "python",
   "nbconvert_exporter": "python",
   "pygments_lexer": "ipython3",
   "version": "3.12.7"
  }
 },
 "nbformat": 4,
 "nbformat_minor": 2
}
