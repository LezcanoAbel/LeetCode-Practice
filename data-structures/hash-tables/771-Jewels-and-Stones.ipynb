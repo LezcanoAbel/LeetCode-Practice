{
 "cells": [
  {
   "cell_type": "markdown",
   "metadata": {},
   "source": [
    "# LeetCode Problem 771: Jewels and Stones\n",
    "https://leetcode.com/problems/jewels-and-stones/description/\n",
    "\n",
    "## Problem Description\n",
    "\n",
    "You are given two strings:\n",
    "- `jewels`, representing the types of stones that are jewels.\n",
    "- `stones`, representing the stones you have.\n",
    "\n",
    "Each character in `stones` is a type of stone you have. You need to determine how many of the stones you have are also jewels.  \n",
    "\n",
    "**Note:**  \n",
    "- Letters are case-sensitive, so `\"a\"` is considered different from `\"A\"`.  \n",
    "\n",
    "---\n",
    "\n",
    "### Example 1\n",
    "\n",
    "**Input:**  \n",
    "`jewels = \"aA\"`  \n",
    "`stones = \"aAAbbbb\"`  \n",
    "**Output:**  \n",
    "`3`  \n",
    "\n",
    "**Explanation:**  \n",
    "You have 3 jewels: `\"a\"`, `\"A\"`, and `\"A\"`.\n",
    "\n",
    "---\n",
    "\n",
    "### Example 2\n",
    "\n",
    "**Input:**  \n",
    "`jewels = \"z\"`  \n",
    "`stones = \"ZZ\"`  \n",
    "**Output:**  \n",
    "`0`  \n",
    "\n",
    "**Explanation:**  \n",
    "You have no jewels in the given stones.\n",
    "\n",
    "---\n",
    "\n",
    "## Constraints\n",
    "\n",
    "- \\( 1 \\leq \\text{jewels.length}, \\text{stones.length} \\leq 50 \\)\n",
    "- `jewels` and `stones` consist of only English letters.\n",
    "- All characters in `jewels` are unique.\n",
    "\n",
    "---\n",
    "\n",
    "## Approach to Solve the Problem\n",
    "\n",
    "1. Convert the string `jewels` into a set for fast lookup.\n",
    "2. Iterate through the string `stones` and count how many characters are present in the `jewels` set.\n",
    "3. Return the count as the result.\n",
    "\n",
    "---\n",
    "\n",
    "Happy coding! 😊\n"
   ]
  },
  {
   "cell_type": "code",
   "execution_count": 10,
   "metadata": {},
   "outputs": [],
   "source": [
    "class Solution:\n",
    "    def numJewelsInStones(self, jewels, stones):\n",
    "        count = 0\n",
    "        for j in jewels:\n",
    "            for s in stones:\n",
    "                if s in j:\n",
    "                    count += 1\n",
    "        return count"
   ]
  },
  {
   "cell_type": "code",
   "execution_count": 11,
   "metadata": {},
   "outputs": [
    {
     "name": "stdout",
     "output_type": "stream",
     "text": [
      "3\n"
     ]
    }
   ],
   "source": [
    "jewels = \"aA\"\n",
    "stones = \"aAAbbbb\"\n",
    "\n",
    "sol1 = Solution()\n",
    "print(sol1.numJewelsInStones(jewels, stones))"
   ]
  },
  {
   "cell_type": "code",
   "execution_count": 12,
   "metadata": {},
   "outputs": [
    {
     "name": "stdout",
     "output_type": "stream",
     "text": [
      "0\n"
     ]
    }
   ],
   "source": [
    "jewels = \"z\"\n",
    "stones = \"ZZ\"\n",
    "\n",
    "sol2 = Solution()\n",
    "print(sol2.numJewelsInStones(jewels, stones))"
   ]
  }
 ],
 "metadata": {
  "kernelspec": {
   "display_name": "base",
   "language": "python",
   "name": "python3"
  },
  "language_info": {
   "codemirror_mode": {
    "name": "ipython",
    "version": 3
   },
   "file_extension": ".py",
   "mimetype": "text/x-python",
   "name": "python",
   "nbconvert_exporter": "python",
   "pygments_lexer": "ipython3",
   "version": "3.12.7"
  }
 },
 "nbformat": 4,
 "nbformat_minor": 2
}
