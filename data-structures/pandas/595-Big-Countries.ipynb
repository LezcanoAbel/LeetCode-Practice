{
 "cells": [
  {
   "cell_type": "markdown",
   "metadata": {},
   "source": [
    "# LeetCode Problem 595: Big Countries\n",
    "---\n",
    "[Problem Link](https://leetcode.com/problems/big-countries/description/?envType=study-plan-v2&envId=30-days-of-pandas&lang=pythondata595)\n",
    "\n",
    "## Problem Description\n",
    "\n",
    "You are given a table `World` with the following columns:\n",
    "\n",
    "- `name`: the name of the country.\n",
    "- `continent`: the continent to which the country belongs.\n",
    "- `area`: the area of the country (in km²).\n",
    "- `population`: the population of the country.\n",
    "- `gdp`: the GDP of the country.\n",
    "\n",
    "A country is considered \"big\" if it satisfies one of the following conditions:\n",
    "1. The country has an area of at least 3 million km².\n",
    "2. The country has a population of at least 25 million people.\n",
    "\n",
    "Write an SQL query to find the name, population, and area of the big countries.\n",
    "\n",
    "### Example 1\n",
    "\n",
    "**Input:**\n",
    "| name        | continent | area    | population | gdp          |\n",
    "|:------------|:-----------|:---------|:------------|:--------------|\n",
    "| Afghanistan | Asia      | 652230  | 25500100   | 20343000000  |\n",
    "| Albania     | Europe    | 28748   | 2831741    | 12960000000  |\n",
    "| Algeria     | Africa    | 2381741 | 37100000   | 188681000000 |\n",
    "| Andorra     | Europe    | 468     | 78115      | 3712000000   |\n",
    "| Angola      | Africa    | 1246700 | 20609294   | 100990000000 |\n",
    "\n",
    "**Output:**\n",
    "\n",
    "| name        | population | area    |\n",
    "|:------------|:------------|:---------|\n",
    "| Afghanistan | 25500100   | 652230  |\n",
    "| Algeria     | 37100000   | 2381741 |\n",
    "\n",
    "## Approach to Solve the Problem\n",
    "\n",
    "1. Convert the given data into a pandas DataFrame.\n",
    "2. Define a function `big_countries` that filters the DataFrame based on the given conditions (area >= 3 million km² or population >= 25 million).\n",
    "3. Return the filtered DataFrame with only the columns `name`, `population`, and `area`.\n",
    "4. Call the function with the DataFrame and display the result.\n",
    "\n",
    "Happy coding! 🎉"
   ]
  },
  {
   "cell_type": "code",
   "execution_count": 27,
   "metadata": {},
   "outputs": [],
   "source": [
    "import pandas as pd\n",
    "\n",
    "def big_countries(world):\n",
    "  filter = world[(world['area']>= 3000000) | (world['population']>= 25000000)]\n",
    "  return filter[['name','population','area']]"
   ]
  },
  {
   "cell_type": "code",
   "execution_count": 32,
   "metadata": {},
   "outputs": [],
   "source": [
    "# Example 1:\n",
    "# Data from the leetcode problem 595. Big Countries\n",
    "data = [['Afghanistan', 'Asia', 652230, 25500100, 20343000000], \n",
    "        ['Albania', 'Europe', 28748, 2831741, 12960000000], \n",
    "        ['Algeria', 'Africa', 2381741, 37100000, 188681000000], \n",
    "        ['Andorra', 'Europe', 468, 78115, 3712000000], \n",
    "        ['Angola', 'Africa', 1246700, 20609294, 100990000000]]"
   ]
  },
  {
   "cell_type": "code",
   "execution_count": 31,
   "metadata": {},
   "outputs": [],
   "source": [
    "# Convert the data to a DataFrame\n",
    "world = pd.DataFrame(data, columns=['name', 'continent', 'area', 'population', 'gdp']).astype({'name':'object', 'continent':'object', 'area':'Int64', 'population':'Int64', 'gdp':'Int64'})"
   ]
  },
  {
   "cell_type": "code",
   "execution_count": 33,
   "metadata": {},
   "outputs": [
    {
     "data": {
      "text/html": [
       "<div>\n",
       "<style scoped>\n",
       "    .dataframe tbody tr th:only-of-type {\n",
       "        vertical-align: middle;\n",
       "    }\n",
       "\n",
       "    .dataframe tbody tr th {\n",
       "        vertical-align: top;\n",
       "    }\n",
       "\n",
       "    .dataframe thead th {\n",
       "        text-align: right;\n",
       "    }\n",
       "</style>\n",
       "<table border=\"1\" class=\"dataframe\">\n",
       "  <thead>\n",
       "    <tr style=\"text-align: right;\">\n",
       "      <th></th>\n",
       "      <th>name</th>\n",
       "      <th>population</th>\n",
       "      <th>area</th>\n",
       "    </tr>\n",
       "  </thead>\n",
       "  <tbody>\n",
       "    <tr>\n",
       "      <th>0</th>\n",
       "      <td>Afghanistan</td>\n",
       "      <td>25500100</td>\n",
       "      <td>652230</td>\n",
       "    </tr>\n",
       "    <tr>\n",
       "      <th>2</th>\n",
       "      <td>Algeria</td>\n",
       "      <td>37100000</td>\n",
       "      <td>2381741</td>\n",
       "    </tr>\n",
       "  </tbody>\n",
       "</table>\n",
       "</div>"
      ],
      "text/plain": [
       "          name  population     area\n",
       "0  Afghanistan    25500100   652230\n",
       "2      Algeria    37100000  2381741"
      ]
     },
     "execution_count": 33,
     "metadata": {},
     "output_type": "execute_result"
    }
   ],
   "source": [
    "# Output:\n",
    "big_countries(world)"
   ]
  }
 ],
 "metadata": {
  "kernelspec": {
   "display_name": "base",
   "language": "python",
   "name": "python3"
  },
  "language_info": {
   "codemirror_mode": {
    "name": "ipython",
    "version": 3
   },
   "file_extension": ".py",
   "mimetype": "text/x-python",
   "name": "python",
   "nbconvert_exporter": "python",
   "pygments_lexer": "ipython3",
   "version": "3.12.7"
  }
 },
 "nbformat": 4,
 "nbformat_minor": 2
}
