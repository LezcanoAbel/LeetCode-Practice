{
 "cells": [
  {
   "cell_type": "markdown",
   "metadata": {},
   "source": [
    "# LeetCode Problem 1832: Check if the Sentence Is Pangram\n",
    "---\n",
    "[Problem Link](https://leetcode.com/problems/check-if-the-sentence-is-pangram/description/)\n",
    "\n",
    "## Problem Description\n",
    "A pangram is a sentence where every letter of the English alphabet appears at least once.\n",
    "\n",
    "Given a string `sentence` containing only lowercase English letters, return `true` if `sentence` is a pangram, or `false` otherwise.\n",
    "\n",
    "### Example 1\n",
    "**Input:** `sentence = \"thequickbrownfoxjumpsoverthelazydog\"`  \n",
    "**Output:** `true`  \n",
    "**Explanation:** `sentence` contains at least one of every letter of the English alphabet.\n",
    "\n",
    "### Example 2\n",
    "**Input:** `sentence = \"leetcode\"`  \n",
    "**Output:** `false`  \n",
    "\n",
    "## Constraints\n",
    "- `1 <= sentence.length <= 1000`\n",
    "- `sentence` consists of lowercase English letters.\n",
    "\n",
    "## Approach to Solve the Problem\n",
    "1. Use a set to track the unique letters in the string\n",
    "2. Check if the size of the set is 26 (indicating all letters of the alphabet are present)\n",
    "3. Return `true` if the condition is met; otherwise, return `false`\n"
   ]
  },
  {
   "cell_type": "code",
   "execution_count": 4,
   "metadata": {},
   "outputs": [],
   "source": [
    "class Solution(object):\n",
    "    def checkIfPangram(self, sentence):\n",
    "        \"\"\"\n",
    "        :type sentence: str\n",
    "        :rtype: bool\n",
    "        \"\"\"\n",
    "        \n",
    "        return len(set(sentence)) == 26"
   ]
  },
  {
   "cell_type": "code",
   "execution_count": 5,
   "metadata": {},
   "outputs": [
    {
     "name": "stdout",
     "output_type": "stream",
     "text": [
      "True\n"
     ]
    }
   ],
   "source": [
    "sentence = \"thequickbrownfoxjumpsoverthelazydog\"\n",
    "sol1 = Solution()\n",
    "print(sol1.checkIfPangram(sentence))"
   ]
  },
  {
   "cell_type": "code",
   "execution_count": 6,
   "metadata": {},
   "outputs": [
    {
     "name": "stdout",
     "output_type": "stream",
     "text": [
      "False\n"
     ]
    }
   ],
   "source": [
    "sentence = \"leetcode\"\n",
    "sol2 = Solution()\n",
    "print(sol2.checkIfPangram(sentence))"
   ]
  }
 ],
 "metadata": {
  "kernelspec": {
   "display_name": "base",
   "language": "python",
   "name": "python3"
  },
  "language_info": {
   "codemirror_mode": {
    "name": "ipython",
    "version": 3
   },
   "file_extension": ".py",
   "mimetype": "text/x-python",
   "name": "python",
   "nbconvert_exporter": "python",
   "pygments_lexer": "ipython3",
   "version": "3.12.7"
  }
 },
 "nbformat": 4,
 "nbformat_minor": 2
}
