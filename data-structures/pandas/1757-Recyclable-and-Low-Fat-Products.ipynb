{
 "cells": [
  {
   "cell_type": "markdown",
   "metadata": {},
   "source": [
    "# LeetCode Problem 1757: Recyclable and Low Fat Products\n",
    "---\n",
    "[Problem Link](http://leetcode.com/problems/recyclable-and-low-fat-products/description/?envType=study-plan-v2&envId=30-days-of-pandas&lang=pythondata)\n",
    "\n",
    "## Problem Description\n",
    "\n",
    "You are given a table `Products` with the following columns:\n",
    "\n",
    "- `product_id`: the unique identifier for the product.\n",
    "- `low_fats`: an ENUM with values 'Y' or 'N', indicating whether the product is low fat.\n",
    "- `recyclable`: an ENUM with values 'Y' or 'N', indicating whether the product is recyclable.\n",
    "\n",
    "Write a SQL query to find the ids of products that are both low fat and recyclable.\n",
    "\n",
    "### Example 1\n",
    "\n",
    "**Input:**\n",
    "\n",
    "| product_id | low_fats | recyclable |\n",
    "|------------|----------|------------|\n",
    "| 0          | Y        | N          |\n",
    "| 1          | Y        | Y          |\n",
    "| 2          | N        | Y          |\n",
    "| 3          | Y        | Y          |\n",
    "| 4          | N        | N          |\n",
    "\n",
    "**Output:**\n",
    "\n",
    "| product_id |\n",
    "|------------|\n",
    "| 1          |\n",
    "| 3          |\n",
    "\n",
    "### Explanation:\n",
    "Only products 1 and 3 are both low fat and recyclable.\n",
    "\n",
    "## Approach to Solve the Problem\n",
    "\n",
    "1. Convert the given data into a pandas DataFrame.\n",
    "2. Define a function find_products that filters the DataFrame based on the given conditions `(low_fats == 'Y' and recyclable == 'Y')`.\n",
    "3. Return the filtered DataFrame with only the column `product_id`.\n",
    "4. Call the function with the DataFrame and display the result.\n",
    "\n",
    "Happy coding! 🎉"
   ]
  },
  {
   "cell_type": "code",
   "execution_count": 5,
   "metadata": {},
   "outputs": [],
   "source": [
    "import pandas as pd\n",
    "\n",
    "def find_products(products):\n",
    "    filter = products[(products['low_fats'] == 'Y') & (products['recyclable'] == 'Y')]\n",
    "    return filter[['product_id']]"
   ]
  },
  {
   "cell_type": "code",
   "execution_count": 9,
   "metadata": {},
   "outputs": [],
   "source": [
    "# # Example 1:\n",
    "# Data from the leetcode problem 1757\n",
    "data = [['0', 'Y', 'N'], \n",
    "        ['1', 'Y', 'Y'], \n",
    "        ['2', 'N', 'Y'], \n",
    "        ['3', 'Y', 'Y'], \n",
    "        ['4', 'N', 'N']]"
   ]
  },
  {
   "cell_type": "code",
   "execution_count": 10,
   "metadata": {},
   "outputs": [],
   "source": [
    "# Create a DataFrame from the data\n",
    "products = pd.DataFrame(data, columns=['product_id', 'low_fats', 'recyclable']).astype({'product_id':'int64', 'low_fats':'category', 'recyclable':'category'})"
   ]
  },
  {
   "cell_type": "code",
   "execution_count": 8,
   "metadata": {},
   "outputs": [
    {
     "data": {
      "text/html": [
       "<div>\n",
       "<style scoped>\n",
       "    .dataframe tbody tr th:only-of-type {\n",
       "        vertical-align: middle;\n",
       "    }\n",
       "\n",
       "    .dataframe tbody tr th {\n",
       "        vertical-align: top;\n",
       "    }\n",
       "\n",
       "    .dataframe thead th {\n",
       "        text-align: right;\n",
       "    }\n",
       "</style>\n",
       "<table border=\"1\" class=\"dataframe\">\n",
       "  <thead>\n",
       "    <tr style=\"text-align: right;\">\n",
       "      <th></th>\n",
       "      <th>product_id</th>\n",
       "    </tr>\n",
       "  </thead>\n",
       "  <tbody>\n",
       "    <tr>\n",
       "      <th>1</th>\n",
       "      <td>1</td>\n",
       "    </tr>\n",
       "    <tr>\n",
       "      <th>3</th>\n",
       "      <td>3</td>\n",
       "    </tr>\n",
       "  </tbody>\n",
       "</table>\n",
       "</div>"
      ],
      "text/plain": [
       "   product_id\n",
       "1           1\n",
       "3           3"
      ]
     },
     "execution_count": 8,
     "metadata": {},
     "output_type": "execute_result"
    }
   ],
   "source": [
    "find_products(products)"
   ]
  },
  {
   "cell_type": "code",
   "execution_count": null,
   "metadata": {},
   "outputs": [],
   "source": []
  }
 ],
 "metadata": {
  "kernelspec": {
   "display_name": "base",
   "language": "python",
   "name": "python3"
  },
  "language_info": {
   "codemirror_mode": {
    "name": "ipython",
    "version": 3
   },
   "file_extension": ".py",
   "mimetype": "text/x-python",
   "name": "python",
   "nbconvert_exporter": "python",
   "pygments_lexer": "ipython3",
   "version": "3.12.7"
  }
 },
 "nbformat": 4,
 "nbformat_minor": 2
}
