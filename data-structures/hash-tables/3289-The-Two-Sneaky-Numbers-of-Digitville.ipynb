{
 "cells": [
  {
   "cell_type": "markdown",
   "metadata": {},
   "source": [
    "# LeetCode Problem 3289: The Two Sneaky Numbers of Digitville\n",
    "https://leetcode.com/problems/the-two-sneaky-numbers-of-digitville/description/\n",
    "\n",
    "## Problem Description\n",
    "\n",
    "In the town of Digitville, there is a list of numbers called `nums` containing integers from \\(0\\) to \\(n - 1\\). Each number is supposed to appear **exactly once** in the list. However, two numbers appear **twice**, making the list longer than usual.\n",
    "\n",
    "As the town detective, your task is to find these two sneaky numbers. Return an array of size two containing the two numbers (in any order).\n",
    "\n",
    "---\n",
    "\n",
    "### Example 1\n",
    "\n",
    "**Input:**  \n",
    "`nums = [0,1,1,0]`  \n",
    "**Output:**  \n",
    "`[0,1]`  \n",
    "\n",
    "**Explanation:**  \n",
    "The numbers `0` and `1` each appear twice in the array.\n",
    "\n",
    "---\n",
    "\n",
    "### Example 2\n",
    "\n",
    "**Input:**  \n",
    "`nums = [0,3,2,1,3,2]`  \n",
    "**Output:**  \n",
    "`[2,3]`  \n",
    "\n",
    "**Explanation:**  \n",
    "The numbers `2` and `3` each appear twice in the array.\n",
    "\n",
    "---\n",
    "\n",
    "### Example 3\n",
    "\n",
    "**Input:**  \n",
    "`nums = [7,1,5,4,3,4,6,0,9,5,8,2]`  \n",
    "**Output:**  \n",
    "`[4,5]`  \n",
    "\n",
    "**Explanation:**  \n",
    "The numbers `4` and `5` each appear twice in the array.\n",
    "\n",
    "---\n",
    "\n",
    "## Constraints\n",
    "\n",
    "- \\( 2 \\leq n \\leq 100 \\)\n",
    "- \\( \\text{nums.length} == n + 2 \\)\n",
    "- \\( 0 \\leq \\text{nums[i]} < n \\)\n",
    "- The input is generated such that `nums` contains **exactly two repeated elements**.\n",
    "\n",
    "---\n",
    "\n",
    "## Approach to Solve the Problem\n",
    "\n",
    "1. Create a dictionary or use a `Counter` from the `collections` module to count the occurrences of each number in `nums`.\n",
    "2. Identify the numbers that appear exactly twice in the count.\n",
    "3. Return these two numbers as a list.\n",
    "\n",
    "---\n",
    "\n",
    "Happy coding! 😊\n"
   ]
  },
  {
   "cell_type": "code",
   "execution_count": 6,
   "metadata": {},
   "outputs": [],
   "source": [
    "class Solution:\n",
    "    def getSneakyNumbers(self, nums):\n",
    "      cache = list()\n",
    "      repeated = list()\n",
    "      for n in nums:\n",
    "        if n not in cache:\n",
    "          cache.append(n)\n",
    "        else:\n",
    "          repeated.append(n)\n",
    "      return sorted(repeated)"
   ]
  },
  {
   "cell_type": "code",
   "execution_count": 7,
   "metadata": {},
   "outputs": [
    {
     "name": "stdout",
     "output_type": "stream",
     "text": [
      "[0, 1]\n"
     ]
    }
   ],
   "source": [
    "nums = [0, 1, 1, 0]\n",
    "sol1 = Solution()\n",
    "print(sol1.getSneakyNumbers(nums)) "
   ]
  },
  {
   "cell_type": "code",
   "execution_count": 8,
   "metadata": {},
   "outputs": [
    {
     "name": "stdout",
     "output_type": "stream",
     "text": [
      "[2, 3]\n"
     ]
    }
   ],
   "source": [
    "nums = [0,3,2,1,3,2]\n",
    "sol2 = Solution()\n",
    "print(sol2.getSneakyNumbers(nums))"
   ]
  },
  {
   "cell_type": "code",
   "execution_count": 9,
   "metadata": {},
   "outputs": [
    {
     "name": "stdout",
     "output_type": "stream",
     "text": [
      "[4, 5]\n"
     ]
    }
   ],
   "source": [
    "nums = nums = [7,1,5,4,3,4,6,0,9,5,8,2]\n",
    "sol3 = Solution()\n",
    "print(sol3.getSneakyNumbers(nums))"
   ]
  },
  {
   "cell_type": "code",
   "execution_count": null,
   "metadata": {},
   "outputs": [],
   "source": []
  }
 ],
 "metadata": {
  "kernelspec": {
   "display_name": "base",
   "language": "python",
   "name": "python3"
  },
  "language_info": {
   "codemirror_mode": {
    "name": "ipython",
    "version": 3
   },
   "file_extension": ".py",
   "mimetype": "text/x-python",
   "name": "python",
   "nbconvert_exporter": "python",
   "pygments_lexer": "ipython3",
   "version": "3.12.7"
  }
 },
 "nbformat": 4,
 "nbformat_minor": 2
}
