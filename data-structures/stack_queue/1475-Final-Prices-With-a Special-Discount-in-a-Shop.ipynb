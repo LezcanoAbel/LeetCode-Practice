{
 "cells": [
  {
   "cell_type": "markdown",
   "metadata": {},
   "source": [
    "# LeetCode Problem 1475: Final Prices With a Special Discount in a Shop\n",
    "---\n",
    "[Problem Link](https://leetcode.com/problems/final-prices-with-a-special-discount-in-a-shop/description/)\n",
    "\n",
    "## Problem Description\n",
    "\n",
    "You are given an integer array `prices` where `prices[i]` is the price of the i-th item in a shop.\n",
    "\n",
    "There is a special discount for items in the shop. If you buy the i-th item, then you will receive a discount equivalent to `prices[j]` where `j` is the minimum index such that `j > i` and `prices[j] <= prices[i]`. Otherwise, you will not receive any discount at all.\n",
    "\n",
    "Return an integer array `answer` where `answer[i]` is the final price you will pay for the i-th item of the shop, considering the special discount.\n",
    "\n",
    "### Example 1\n",
    "\n",
    "**Input:**  \n",
    "`prices = [8, 4, 6, 2, 3]`  \n",
    "**Output:**  \n",
    "`[4, 2, 4, 2, 3]`\n",
    "\n",
    "**Explanation:**  \n",
    "- For item 0 with `price[0]=8`, you will receive a discount equivalent to `prices[1]=4`, therefore, the final price you will pay is `8 - 4 = 4`.  \n",
    "- For item 1 with `price[1]=4`, you will receive a discount equivalent to `prices[3]=2`, therefore, the final price you will pay is `4 - 2 = 2`.  \n",
    "- For item 2 with `price[2]=6`, you will receive a discount equivalent to `prices[3]=2`, therefore, the final price you will pay is `6 - 2 = 4`.  \n",
    "- For items 3 and 4, you will not receive any discount at all.\n",
    "\n",
    "### Example 2\n",
    "\n",
    "**Input:**  \n",
    "`prices = [1, 2, 3, 4, 5]`  \n",
    "**Output:**  \n",
    "`[1, 2, 3, 4, 5]`\n",
    "\n",
    "**Explanation:**  \n",
    "In this case, for all items, you will not receive any discount at all.\n",
    "\n",
    "### Example 3\n",
    "\n",
    "**Input:**  \n",
    "`prices = [10, 1, 1, 6]`  \n",
    "**Output:**  \n",
    "`[9, 0, 1, 6]`\n",
    "\n",
    "## Constraints\n",
    "\n",
    "- `1 ≤ prices.length ≤ 500`\n",
    "- `1 ≤ prices[i] ≤ 1000`\n",
    "\n",
    "## Approach to Solve the Problem\n",
    "\n",
    "1. Initialize an empty stack to keep track of indices of the prices.\n",
    "2. Iterate through each price in the list.\n",
    "3. For each price, check if the stack is not empty and the price at the index stored at the top of the stack is greater than or equal to the current price.\n",
    "4. If the condition is met, pop the index from the stack and subtract the current price from the price at that index.\n",
    "5. Append the current index to the stack.\n",
    "6. Continue this process until all prices have been processed.\n",
    "7. Return the modified list of prices.\n",
    "\n",
    "Happy coding! 🎉"
   ]
  },
  {
   "cell_type": "code",
   "execution_count": null,
   "metadata": {},
   "outputs": [],
   "source": []
  },
  {
   "cell_type": "code",
   "execution_count": 2,
   "metadata": {},
   "outputs": [],
   "source": [
    "class Solution:\n",
    "    def finalPrices(self, prices):\n",
    "        stack = []\n",
    "        for i in range(len(prices)):\n",
    "            while stack and prices[stack[-1]] >= prices[i]:\n",
    "                prices[stack.pop()] -= prices[i]\n",
    "            stack.append(i)\n",
    "        return prices"
   ]
  },
  {
   "cell_type": "code",
   "execution_count": 3,
   "metadata": {},
   "outputs": [
    {
     "name": "stdout",
     "output_type": "stream",
     "text": [
      "[4, 2, 4, 2, 3]\n"
     ]
    }
   ],
   "source": [
    "prices = [8,4,6,2,3]\n",
    "sol1 = Solution()\n",
    "print(sol1.finalPrices(prices))"
   ]
  },
  {
   "cell_type": "code",
   "execution_count": 6,
   "metadata": {},
   "outputs": [
    {
     "name": "stdout",
     "output_type": "stream",
     "text": [
      "[1, 2, 3, 4, 5]\n"
     ]
    }
   ],
   "source": [
    "prices = [1,2,3,4,5]\n",
    "sol2 = Solution()\n",
    "print(sol2.finalPrices(prices))"
   ]
  },
  {
   "cell_type": "code",
   "execution_count": 5,
   "metadata": {},
   "outputs": [
    {
     "name": "stdout",
     "output_type": "stream",
     "text": [
      "[9, 0, 1, 6]\n"
     ]
    }
   ],
   "source": [
    "prices = [10,1,1,6]\n",
    "sol3 = Solution()\n",
    "print(sol3.finalPrices(prices))"
   ]
  }
 ],
 "metadata": {
  "kernelspec": {
   "display_name": "base",
   "language": "python",
   "name": "python3"
  },
  "language_info": {
   "codemirror_mode": {
    "name": "ipython",
    "version": 3
   },
   "file_extension": ".py",
   "mimetype": "text/x-python",
   "name": "python",
   "nbconvert_exporter": "python",
   "pygments_lexer": "ipython3",
   "version": "3.12.7"
  }
 },
 "nbformat": 4,
 "nbformat_minor": 2
}
