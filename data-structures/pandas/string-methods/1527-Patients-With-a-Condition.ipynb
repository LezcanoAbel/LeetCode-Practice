{
 "cells": [
  {
   "cell_type": "markdown",
   "metadata": {},
   "source": [
    "# LeetCode Problem 1527: Patients With a Condition  \n",
    "---  \n",
    "[Problem Link](https://leetcode.com/problems/patients-with-a-condition/?envType=study-plan-v2&envId=30-days-of-pandas&lang=pythondata1527)  \n",
    "\n",
    "## Problem Description  \n",
    "\n",
    "You are given a table `Patients` with the following structure:  \n",
    "\n",
    "### Table: Patients  \n",
    "\n",
    "| Column Name  | Type    |  \n",
    "|--------------|---------|  \n",
    "| patient_id   | int     |  \n",
    "| patient_name | varchar |  \n",
    "| conditions   | varchar |  \n",
    "\n",
    "- `patient_id` is the primary key (column with unique values) for this table.  \n",
    "- The `conditions` column contains **0 or more medical condition codes separated by spaces**.  \n",
    "- This table contains information about patients in the hospital.  \n",
    "\n",
    "Write a solution to find the `patient_id`, `patient_name`, and `conditions` of the patients who have **Type I Diabetes**.  \n",
    "- **Type I Diabetes always starts with the prefix \"DIAB1\"**.  \n",
    "\n",
    "Return the result table in any order.  \n",
    "\n",
    "### Example 1  \n",
    "\n",
    "**Input:**  \n",
    "\n",
    "**Patients table:**  \n",
    "\n",
    "| patient_id | patient_name | conditions   |  \n",
    "|------------|--------------|--------------|  \n",
    "| 1          | Daniel       | YFEV COUGH   |  \n",
    "| 2          | Alice        |              |  \n",
    "| 3          | Bob          | DIAB100 MYOP |  \n",
    "| 4          | George       | ACNE DIAB100 |  \n",
    "| 5          | Alain        | DIAB201      |  \n",
    "\n",
    "**Output:**  \n",
    "\n",
    "| patient_id | patient_name | conditions   |  \n",
    "|------------|--------------|--------------|  \n",
    "| 3          | Bob          | DIAB100 MYOP |  \n",
    "| 4          | George       | ACNE DIAB100 |  \n",
    "\n",
    "## Approach to Solve the Problem \n",
    "\n",
    "1. Define a function `find_patients` that filters the DataFrame to find rows where the `conditions` column contains Type I Diabetes.\n",
    "2. Use the `str.startswith` method to check if the `conditions` column starts with `\"DIAB1\"` or contains `\" DIAB1\"`.\n",
    "3. Return the filtered DataFrame with the patients who have Type I Diabetes.\n",
    "4. Call the function with the `patients` DataFrame and display the result.\n",
    "\n",
    "Happy coding! 🎉"
   ]
  },
  {
   "cell_type": "code",
   "execution_count": null,
   "metadata": {},
   "outputs": [],
   "source": [
    "import pandas as pd\n",
    "\n",
    "\n",
    "def find_patients(patients):\n",
    "    is_diabetic = patients[\"conditions\"].str.startswith(\"DIAB1\") | patients[\n",
    "        \"conditions\"\n",
    "    ].str.contains(\" DIAB1\")\n",
    "    return patients[is_diabetic]"
   ]
  },
  {
   "cell_type": "code",
   "execution_count": 16,
   "metadata": {},
   "outputs": [],
   "source": [
    "# Data from leetcode problem\n",
    "data = [\n",
    "    [1, \"Daniel\", \"YFEV COUGH\"],\n",
    "    [2, \"Alice\", \"\"],\n",
    "    [3, \"Bob\", \"DIAB100 MYOP\"],\n",
    "    [4, \"George\", \"ACNE DIAB100\"],\n",
    "    [5, \"Alain\", \"DIAB201\"],\n",
    "]\n",
    "\n",
    "# Create a DataFrame\n",
    "patients = pd.DataFrame(\n",
    "    data, columns=[\"patient_id\", \"patient_name\", \"conditions\"]\n",
    ").astype({\"patient_id\": \"int64\", \"patient_name\": \"object\", \"conditions\": \"object\"})"
   ]
  },
  {
   "cell_type": "code",
   "execution_count": 17,
   "metadata": {},
   "outputs": [
    {
     "data": {
      "application/vnd.microsoft.datawrangler.viewer.v0+json": {
       "columns": [
        {
         "name": "index",
         "rawType": "int64",
         "type": "integer"
        },
        {
         "name": "patient_id",
         "rawType": "int64",
         "type": "integer"
        },
        {
         "name": "patient_name",
         "rawType": "object",
         "type": "string"
        },
        {
         "name": "conditions",
         "rawType": "object",
         "type": "string"
        }
       ],
       "conversionMethod": "pd.DataFrame",
       "ref": "516a6e57-316c-481a-96d3-3ee28e21f538",
       "rows": [
        [
         "2",
         "3",
         "Bob",
         "DIAB100 MYOP"
        ],
        [
         "3",
         "4",
         "George",
         "ACNE DIAB100"
        ]
       ],
       "shape": {
        "columns": 3,
        "rows": 2
       }
      },
      "text/html": [
       "<div>\n",
       "<style scoped>\n",
       "    .dataframe tbody tr th:only-of-type {\n",
       "        vertical-align: middle;\n",
       "    }\n",
       "\n",
       "    .dataframe tbody tr th {\n",
       "        vertical-align: top;\n",
       "    }\n",
       "\n",
       "    .dataframe thead th {\n",
       "        text-align: right;\n",
       "    }\n",
       "</style>\n",
       "<table border=\"1\" class=\"dataframe\">\n",
       "  <thead>\n",
       "    <tr style=\"text-align: right;\">\n",
       "      <th></th>\n",
       "      <th>patient_id</th>\n",
       "      <th>patient_name</th>\n",
       "      <th>conditions</th>\n",
       "    </tr>\n",
       "  </thead>\n",
       "  <tbody>\n",
       "    <tr>\n",
       "      <th>2</th>\n",
       "      <td>3</td>\n",
       "      <td>Bob</td>\n",
       "      <td>DIAB100 MYOP</td>\n",
       "    </tr>\n",
       "    <tr>\n",
       "      <th>3</th>\n",
       "      <td>4</td>\n",
       "      <td>George</td>\n",
       "      <td>ACNE DIAB100</td>\n",
       "    </tr>\n",
       "  </tbody>\n",
       "</table>\n",
       "</div>"
      ],
      "text/plain": [
       "   patient_id patient_name    conditions\n",
       "2           3          Bob  DIAB100 MYOP\n",
       "3           4       George  ACNE DIAB100"
      ]
     },
     "execution_count": 17,
     "metadata": {},
     "output_type": "execute_result"
    }
   ],
   "source": [
    "find_patients(patients)"
   ]
  }
 ],
 "metadata": {
  "kernelspec": {
   "display_name": "base",
   "language": "python",
   "name": "python3"
  },
  "language_info": {
   "codemirror_mode": {
    "name": "ipython",
    "version": 3
   },
   "file_extension": ".py",
   "mimetype": "text/x-python",
   "name": "python",
   "nbconvert_exporter": "python",
   "pygments_lexer": "ipython3",
   "version": "3.12.7"
  }
 },
 "nbformat": 4,
 "nbformat_minor": 2
}
