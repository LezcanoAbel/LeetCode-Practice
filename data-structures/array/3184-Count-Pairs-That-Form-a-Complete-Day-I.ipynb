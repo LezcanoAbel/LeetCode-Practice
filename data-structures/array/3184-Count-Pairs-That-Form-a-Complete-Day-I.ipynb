{
 "cells": [
  {
   "cell_type": "markdown",
   "metadata": {},
   "source": [
    "# LeetCode Problem 3184: Count Pairs That Form a Complete Day I\n",
    "---\n",
    "[Problem Link](https://leetcode.com/problems/count-pairs-that-form-a-complete-day-i/description/)\n",
    "\n",
    "## Problem Description\n",
    "\n",
    "Given an integer array `hours` representing times in hours, return an integer denoting the number of pairs `i, j` where `i < j` and `hours[i] + hours[j]` forms a complete day.\n",
    "\n",
    "A complete day is defined as a time duration that is an exact multiple of 24 hours.\n",
    "\n",
    "For example, 1 day is 24 hours, 2 days is 48 hours, 3 days is 72 hours, and so on.\n",
    "\n",
    "## Example 1\n",
    "\n",
    "**Input:**  \n",
    "`hours = [12,12,30,24,24]`  \n",
    "**Output:**  \n",
    "`2`\n",
    "\n",
    "**Explanation:**  \n",
    "The pairs of indices that form a complete day are (0, 1) and (3, 4).\n",
    "\n",
    "## Example 2\n",
    "\n",
    "**Input:**  \n",
    "`hours = [72,48,24,3]`  \n",
    "**Output:**  \n",
    "`3`\n",
    "\n",
    "**Explanation:**  \n",
    "The pairs of indices that form a complete day are (0, 1), (0, 2), and (1, 2).\n",
    "\n",
    "## Constraints\n",
    "\n",
    "- 1 ≤ hours.length ≤ 100\n",
    "- 1 ≤ hours[i] ≤ 10^9\n",
    "\n",
    "## Approach to Solve the Problem\n",
    "\n",
    "1. Iterate through all pairs of indices `(i, j)` such that `i < j`.\n",
    "2. Calculate the sum of `hours[i]` and `hours[j]`.\n",
    "3. Check if the sum is a multiple of 24.\n",
    "4. Count pairs where the sum is a multiple of 24.\n",
    "\n",
    "Happy coding! 🎉"
   ]
  },
  {
   "cell_type": "code",
   "execution_count": null,
   "metadata": {},
   "outputs": [],
   "source": [
    "class Solution(object):\n",
    "    def countCompleteDayPairs(self, hours):\n",
    "        \"\"\"\n",
    "        :type hours: List[int]\n",
    "        :rtype: int\n",
    "        \"\"\"\n",
    "        count = 0\n",
    "        for i, hour_i in enumerate(hours):\n",
    "            for j, hour_j in enumerate(hours):\n",
    "                if i < j and (hour_i + hour_j) % 24 == 0:\n",
    "                    count += 1\n",
    "        return count"
   ]
  },
  {
   "cell_type": "code",
   "execution_count": 5,
   "metadata": {},
   "outputs": [
    {
     "name": "stdout",
     "output_type": "stream",
     "text": [
      "2\n"
     ]
    }
   ],
   "source": [
    "hours = [12,12,30,24,24]\n",
    "sol1 = Solution()\n",
    "print(sol1.countCompleteDayPairs(hours)) "
   ]
  },
  {
   "cell_type": "code",
   "execution_count": 6,
   "metadata": {},
   "outputs": [
    {
     "name": "stdout",
     "output_type": "stream",
     "text": [
      "3\n"
     ]
    }
   ],
   "source": [
    "hours = [72,48,24,3]\n",
    "sol2 = Solution()\n",
    "print(sol2.countCompleteDayPairs(hours))"
   ]
  }
 ],
 "metadata": {
  "kernelspec": {
   "display_name": "base",
   "language": "python",
   "name": "python3"
  },
  "language_info": {
   "codemirror_mode": {
    "name": "ipython",
    "version": 3
   },
   "file_extension": ".py",
   "mimetype": "text/x-python",
   "name": "python",
   "nbconvert_exporter": "python",
   "pygments_lexer": "ipython3",
   "version": "3.12.7"
  }
 },
 "nbformat": 4,
 "nbformat_minor": 2
}
