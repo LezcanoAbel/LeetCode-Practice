{
 "cells": [
  {
   "cell_type": "markdown",
   "metadata": {},
   "source": [
    "# LeetCode Problem 1517: Find Users With Valid E-Mails  \n",
    "---  \n",
    "[Problem Link](https://leetcode.com/problems/find-users-with-valid-e-mails/?envType=study-plan-v2&envId=30-days-of-pandas&lang=pythondata1517)  \n",
    "\n",
    "## Problem Description  \n",
    "\n",
    "You are given a table `Users` with the following structure:  \n",
    "\n",
    "### Table: Users  \n",
    "\n",
    "| Column Name | Type    |  \n",
    "|------------|---------|  \n",
    "| user_id    | int     |  \n",
    "| name       | varchar |  \n",
    "| mail       | varchar |  \n",
    "\n",
    "- `user_id` is the primary key (column with unique values) for this table.  \n",
    "- This table contains information of the users signed up in a website. Some e-mails are invalid.  \n",
    "\n",
    "Write a solution to find the users who have valid emails.  \n",
    "\n",
    "A valid e-mail has a **prefix name** and a **domain** where:  \n",
    "\n",
    "- The **prefix name** is a string that may contain letters (upper or lower case), digits, underscore `_`, period `.`, and/or dash `-`. The prefix name **must start with a letter**.  \n",
    "- The **domain** is `@leetcode.com`.  \n",
    "\n",
    "Return the result table in any order.  \n",
    "\n",
    "### Example 1  \n",
    "\n",
    "**Input:**  \n",
    "\n",
    "**Users table:**  \n",
    "\n",
    "| user_id | name      | mail                    |  \n",
    "|---------|-----------|-------------------------|  \n",
    "| 1       | Winston   | winston@leetcode.com    |  \n",
    "| 2       | Jonathan  | jonathanisgreat         |  \n",
    "| 3       | Annabelle | bella-@leetcode.com     |  \n",
    "| 4       | Sally     | sally.come@leetcode.com |  \n",
    "| 5       | Marwan    | quarz#2020@leetcode.com |  \n",
    "| 6       | David     | david69@gmail.com       |  \n",
    "| 7       | Shapiro   | .shapo@leetcode.com     |  \n",
    "\n",
    "**Output:**  \n",
    "\n",
    "| user_id | name      | mail                    |  \n",
    "|---------|-----------|-------------------------|  \n",
    "| 1       | Winston   | winston@leetcode.com    |  \n",
    "| 3       | Annabelle | bella-@leetcode.com     |  \n",
    "| 4       | Sally     | sally.come@leetcode.com |  \n",
    "\n",
    "\n",
    "## Approach to Solve the Problem  \n",
    "\n",
    "1. Define a function `valid_emails` that filters the DataFrame to find rows where the email matches the given pattern.\n",
    "2. Use a regular expression pattern to match valid emails.\n",
    "3. Filter the DataFrame using the `str.match` method with the pattern.\n",
    "4. Return the filtered DataFrame containing only valid emails.\n",
    "\n",
    "Happy coding! 🎉\n"
   ]
  },
  {
   "cell_type": "code",
   "execution_count": 28,
   "metadata": {},
   "outputs": [],
   "source": [
    "import pandas as pd\n",
    "\n",
    "def valid_emails(users):\n",
    "    pattern = r\"^[a-zA-Z][a-zA-Z0-9._-]*@leetcode\\.com$\"\n",
    "    valid_email = users[users[\"mail\"].str.match(pattern, na=False)]\n",
    "    return valid_email"
   ]
  },
  {
   "cell_type": "code",
   "execution_count": 29,
   "metadata": {},
   "outputs": [],
   "source": [
    "data = [\n",
    "    [1, \"Winston\", \"winston@leetcode.com\"],\n",
    "    [2, \"Jonathan\", \"jonathanisgreat\"],\n",
    "    [3, \"Annabelle\", \"bella-@leetcode.com\"],\n",
    "    [4, \"Sally\", \"sally.come@leetcode.com\"],\n",
    "    [5, \"Marwan\", \"quarz#2020@leetcode.com\"],\n",
    "    [6, \"David\", \"david69@gmail.com\"],\n",
    "    [7, \"Shapiro\", \".shapo@leetcode.com\"],\n",
    "]\n",
    "users = pd.DataFrame(data, columns=[\"user_id\", \"name\", \"mail\"]).astype(\n",
    "    {\"user_id\": \"int64\", \"name\": \"object\", \"mail\": \"object\"}\n",
    ")"
   ]
  },
  {
   "cell_type": "code",
   "execution_count": 30,
   "metadata": {},
   "outputs": [
    {
     "data": {
      "application/vnd.microsoft.datawrangler.viewer.v0+json": {
       "columns": [
        {
         "name": "index",
         "rawType": "int64",
         "type": "integer"
        },
        {
         "name": "user_id",
         "rawType": "int64",
         "type": "integer"
        },
        {
         "name": "name",
         "rawType": "object",
         "type": "string"
        },
        {
         "name": "mail",
         "rawType": "object",
         "type": "string"
        }
       ],
       "conversionMethod": "pd.DataFrame",
       "ref": "a9845806-9b31-46ec-868d-fcbcb6d7795a",
       "rows": [
        [
         "0",
         "1",
         "Winston",
         "winston@leetcode.com"
        ],
        [
         "2",
         "3",
         "Annabelle",
         "bella-@leetcode.com"
        ],
        [
         "3",
         "4",
         "Sally",
         "sally.come@leetcode.com"
        ]
       ],
       "shape": {
        "columns": 3,
        "rows": 3
       }
      },
      "text/html": [
       "<div>\n",
       "<style scoped>\n",
       "    .dataframe tbody tr th:only-of-type {\n",
       "        vertical-align: middle;\n",
       "    }\n",
       "\n",
       "    .dataframe tbody tr th {\n",
       "        vertical-align: top;\n",
       "    }\n",
       "\n",
       "    .dataframe thead th {\n",
       "        text-align: right;\n",
       "    }\n",
       "</style>\n",
       "<table border=\"1\" class=\"dataframe\">\n",
       "  <thead>\n",
       "    <tr style=\"text-align: right;\">\n",
       "      <th></th>\n",
       "      <th>user_id</th>\n",
       "      <th>name</th>\n",
       "      <th>mail</th>\n",
       "    </tr>\n",
       "  </thead>\n",
       "  <tbody>\n",
       "    <tr>\n",
       "      <th>0</th>\n",
       "      <td>1</td>\n",
       "      <td>Winston</td>\n",
       "      <td>winston@leetcode.com</td>\n",
       "    </tr>\n",
       "    <tr>\n",
       "      <th>2</th>\n",
       "      <td>3</td>\n",
       "      <td>Annabelle</td>\n",
       "      <td>bella-@leetcode.com</td>\n",
       "    </tr>\n",
       "    <tr>\n",
       "      <th>3</th>\n",
       "      <td>4</td>\n",
       "      <td>Sally</td>\n",
       "      <td>sally.come@leetcode.com</td>\n",
       "    </tr>\n",
       "  </tbody>\n",
       "</table>\n",
       "</div>"
      ],
      "text/plain": [
       "   user_id       name                     mail\n",
       "0        1    Winston     winston@leetcode.com\n",
       "2        3  Annabelle      bella-@leetcode.com\n",
       "3        4      Sally  sally.come@leetcode.com"
      ]
     },
     "execution_count": 30,
     "metadata": {},
     "output_type": "execute_result"
    }
   ],
   "source": [
    "valid_emails(users)"
   ]
  },
  {
   "cell_type": "code",
   "execution_count": null,
   "metadata": {},
   "outputs": [],
   "source": []
  }
 ],
 "metadata": {
  "kernelspec": {
   "display_name": "base",
   "language": "python",
   "name": "python3"
  },
  "language_info": {
   "codemirror_mode": {
    "name": "ipython",
    "version": 3
   },
   "file_extension": ".py",
   "mimetype": "text/x-python",
   "name": "python",
   "nbconvert_exporter": "python",
   "pygments_lexer": "ipython3",
   "version": "3.12.7"
  }
 },
 "nbformat": 4,
 "nbformat_minor": 2
}
