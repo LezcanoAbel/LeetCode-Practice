{
 "cells": [
  {
   "cell_type": "markdown",
   "metadata": {},
   "source": [
    "# LeetCode Problem 2367: Number of Arithmetic Triplets\n",
    "---\n",
    "[Problem Link](https://leetcode.com/problems/number-of-arithmetic-triplets/description/)\n",
    "\n",
    "## Problem Description\n",
    "\n",
    "You are given a **0-indexed, strictly increasing** integer array `nums` and a positive integer `diff`. A triplet (i, j, k) is an **arithmetic triplet** if the following conditions are met:\n",
    "1. `i < j < k`\n",
    "2. `nums[j] - nums[i] == diff` \n",
    "3. `nums[k] - nums[j] == diff`\n",
    "\n",
    "Return the **number of unique arithmetic triplets**.\n",
    "\n",
    "### Example 1\n",
    "\n",
    "**Input:**  \n",
    "`nums = [0,1,4,6,7,10]`  \n",
    "`diff = 3`  \n",
    "\n",
    "**Output:**  \n",
    "`2`  \n",
    "\n",
    "**Explanation:**\n",
    "- `(1, 2, 4)` is an arithmetic triplet because 7 - 4 = 3 and 4 - 1 = 3\n",
    "- `(2, 4, 5)` is an arithmetic triplet because 10 - 7 = 3 and 7 - 4 = 3\n",
    "\n",
    "### Example 2\n",
    "\n",
    "**Input:**  \n",
    "`nums = [4,5,6,7,8,9]`  \n",
    "`diff = 2`  \n",
    "\n",
    "**Output:**  \n",
    "`2`  \n",
    "\n",
    "**Explanation:**\n",
    "- `(0, 2, 4)` is an arithmetic triplet because 8 - 6 = 2 and 6 - 4 = 2\n",
    "- `(1, 3, 5)` is an arithmetic triplet because 9 - 7 = 2 and 7 - 5 = 2\n",
    "\n",
    "## Constraints\n",
    "\n",
    "- 3 ≤ nums.length ≤ 200\n",
    "- 0 ≤ nums[i] ≤ 200\n",
    "- 1 ≤ diff ≤ 50\n",
    "- `nums` is **strictly increasing**\n",
    "\n",
    "## Approach to Solve the Problem\n",
    "\n",
    "1. Use a set to track elements in the array for quick lookup\n",
    "2. For each number in `nums`, check if the sequence:\n",
    "    - num - diff exists\n",
    "    - num + diff exists\n",
    "3. Count and return the valid triplets\n",
    "\n",
    "Happy coding! 👨‍💻\n"
   ]
  },
  {
   "cell_type": "code",
   "execution_count": null,
   "metadata": {},
   "outputs": [],
   "source": [
    "class Solution(object):\n",
    "    def arithmeticTriplets(self, nums, diff):\n",
    "        \"\"\"\n",
    "        :type nums: List[int]\n",
    "        :type diff: int\n",
    "        :rtype: int\n",
    "        \"\"\"\n",
    "        count = 0\n",
    "        for i, value_i in enumerate(nums):\n",
    "            for j, value_j in enumerate(nums):\n",
    "                for k, value_k in enumerate((nums)):\n",
    "                    if (\n",
    "                        i < j < k\n",
    "                        and (value_j - value_i) == diff\n",
    "                        and (value_k - value_j) == diff\n",
    "                    ):\n",
    "                        count += 1\n",
    "        return count"
   ]
  },
  {
   "cell_type": "code",
   "execution_count": 7,
   "metadata": {},
   "outputs": [
    {
     "name": "stdout",
     "output_type": "stream",
     "text": [
      "2\n"
     ]
    }
   ],
   "source": [
    "nums = [0,1,4,6,7,10]\n",
    "diff = 3\n",
    "\n",
    "sol1 = Solution()\n",
    "print(sol1.arithmeticTriplets(nums, diff))"
   ]
  },
  {
   "cell_type": "code",
   "execution_count": 8,
   "metadata": {},
   "outputs": [
    {
     "name": "stdout",
     "output_type": "stream",
     "text": [
      "2\n"
     ]
    }
   ],
   "source": [
    "nums = [4,5,6,7,8,9]\n",
    "diff = 2\n",
    "\n",
    "sol2 = Solution()\n",
    "print(sol2.arithmeticTriplets(nums, diff))"
   ]
  }
 ],
 "metadata": {
  "kernelspec": {
   "display_name": "base",
   "language": "python",
   "name": "python3"
  },
  "language_info": {
   "codemirror_mode": {
    "name": "ipython",
    "version": 3
   },
   "file_extension": ".py",
   "mimetype": "text/x-python",
   "name": "python",
   "nbconvert_exporter": "python",
   "pygments_lexer": "ipython3",
   "version": "3.12.7"
  }
 },
 "nbformat": 4,
 "nbformat_minor": 2
}
