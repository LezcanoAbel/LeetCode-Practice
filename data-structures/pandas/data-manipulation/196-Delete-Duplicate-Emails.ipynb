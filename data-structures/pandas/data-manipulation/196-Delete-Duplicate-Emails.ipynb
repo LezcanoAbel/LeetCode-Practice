{
 "cells": [
  {
   "cell_type": "markdown",
   "id": "270a6964",
   "metadata": {},
   "source": [
    "# LeetCode Problem 196: Delete Duplicate Emails\n",
    "---\n",
    "[Problem Link](https://leetcode.com/problems/delete-duplicate-emails/description/?envType=study-plan-v2&envId=30-days-of-pandas&lang=pythondata)\n",
    "\n",
    "## Problem Description\n",
    "\n",
    "Given the table `Person(id, email)`, delete all duplicate emails, keeping only the one with the **smallest id**.  \n",
    "- For SQL: write a `DELETE` statement.  \n",
    "- For Pandas: modify the DataFrame **in place**.\n",
    "\n",
    "**Table: Person**\n",
    "\n",
    "| Column Name | Type    |\n",
    "|-------------|---------|\n",
    "| id          | int     |\n",
    "| email       | varchar |\n",
    "\n",
    "- `id` is the primary key.\n",
    "- Emails contain only lowercase letters.\n",
    "\n",
    "### Example 1\n",
    "\n",
    "**Input:**\n",
    "\n",
    "Person table:\n",
    "\n",
    "| id | email            |\n",
    "|----|------------------|\n",
    "| 1  | john@example.com |\n",
    "| 2  | bob@example.com  |\n",
    "| 3  | john@example.com |\n",
    "\n",
    "**Output:**\n",
    "\n",
    "| id | email            |\n",
    "|----|------------------|\n",
    "| 1  | john@example.com |\n",
    "| 2  | bob@example.com  |\n",
    "\n",
    "**Explanation:**  \n",
    "`john@example.com` appears twice. Keep the row with the smallest `id = 1` and remove the duplicate.\n",
    "\n",
    "\n",
    "## Approach to Solve the Problem (aligned with your pandas code)\n",
    "\n",
    "1. Sort the table by `id` in ascending order to prioritize smaller ids.  \n",
    "2. Drop duplicates in the `email` column, keeping only the first occurrence.  \n",
    "3. Perform the operation **in place**, so the modified DataFrame reflects the correct result.  \n"
   ]
  },
  {
   "cell_type": "code",
   "execution_count": 271,
   "id": "4ebd9dc9",
   "metadata": {},
   "outputs": [],
   "source": [
    "import pandas as pd\n",
    "\n",
    "\n",
    "def delete_duplicate_emails(person: pd.DataFrame) -> None:\n",
    "    person.sort_values(by=\"id\", ascending=True, inplace=True)\n",
    "    person.drop_duplicates(subset=\"email\", keep=\"first\", inplace=True)\n"
   ]
  },
  {
   "cell_type": "code",
   "execution_count": 274,
   "id": "6af17bb0",
   "metadata": {},
   "outputs": [
    {
     "data": {
      "text/html": [
       "<div>\n",
       "<style scoped>\n",
       "    .dataframe tbody tr th:only-of-type {\n",
       "        vertical-align: middle;\n",
       "    }\n",
       "\n",
       "    .dataframe tbody tr th {\n",
       "        vertical-align: top;\n",
       "    }\n",
       "\n",
       "    .dataframe thead th {\n",
       "        text-align: right;\n",
       "    }\n",
       "</style>\n",
       "<table border=\"1\" class=\"dataframe\">\n",
       "  <thead>\n",
       "    <tr style=\"text-align: right;\">\n",
       "      <th></th>\n",
       "      <th>id</th>\n",
       "      <th>email</th>\n",
       "    </tr>\n",
       "  </thead>\n",
       "  <tbody>\n",
       "    <tr>\n",
       "      <th>0</th>\n",
       "      <td>1</td>\n",
       "      <td>john@example.com</td>\n",
       "    </tr>\n",
       "    <tr>\n",
       "      <th>1</th>\n",
       "      <td>2</td>\n",
       "      <td>bob@example.com</td>\n",
       "    </tr>\n",
       "    <tr>\n",
       "      <th>2</th>\n",
       "      <td>3</td>\n",
       "      <td>john@example.com</td>\n",
       "    </tr>\n",
       "  </tbody>\n",
       "</table>\n",
       "</div>"
      ],
      "text/plain": [
       "   id             email\n",
       "0   1  john@example.com\n",
       "1   2   bob@example.com\n",
       "2   3  john@example.com"
      ]
     },
     "execution_count": 274,
     "metadata": {},
     "output_type": "execute_result"
    }
   ],
   "source": [
    "data = [[1, 'john@example.com'], [2, 'bob@example.com'], [3, 'john@example.com']]\n",
    "person = pd.DataFrame(data, columns=['id', 'email']).astype({'id':'int64', 'email':'object'})\n",
    "\n",
    "person"
   ]
  },
  {
   "cell_type": "code",
   "execution_count": 275,
   "id": "43dd2991",
   "metadata": {},
   "outputs": [
    {
     "data": {
      "text/html": [
       "<div>\n",
       "<style scoped>\n",
       "    .dataframe tbody tr th:only-of-type {\n",
       "        vertical-align: middle;\n",
       "    }\n",
       "\n",
       "    .dataframe tbody tr th {\n",
       "        vertical-align: top;\n",
       "    }\n",
       "\n",
       "    .dataframe thead th {\n",
       "        text-align: right;\n",
       "    }\n",
       "</style>\n",
       "<table border=\"1\" class=\"dataframe\">\n",
       "  <thead>\n",
       "    <tr style=\"text-align: right;\">\n",
       "      <th></th>\n",
       "      <th>id</th>\n",
       "      <th>email</th>\n",
       "    </tr>\n",
       "  </thead>\n",
       "  <tbody>\n",
       "    <tr>\n",
       "      <th>0</th>\n",
       "      <td>1</td>\n",
       "      <td>john@example.com</td>\n",
       "    </tr>\n",
       "    <tr>\n",
       "      <th>1</th>\n",
       "      <td>2</td>\n",
       "      <td>bob@example.com</td>\n",
       "    </tr>\n",
       "  </tbody>\n",
       "</table>\n",
       "</div>"
      ],
      "text/plain": [
       "   id             email\n",
       "0   1  john@example.com\n",
       "1   2   bob@example.com"
      ]
     },
     "execution_count": 275,
     "metadata": {},
     "output_type": "execute_result"
    }
   ],
   "source": [
    "# Call the function\n",
    "delete_duplicate_emails(person)\n",
    "\n",
    "person"
   ]
  }
 ],
 "metadata": {
  "kernelspec": {
   "display_name": ".venv",
   "language": "python",
   "name": "python3"
  },
  "language_info": {
   "codemirror_mode": {
    "name": "ipython",
    "version": 3
   },
   "file_extension": ".py",
   "mimetype": "text/x-python",
   "name": "python",
   "nbconvert_exporter": "python",
   "pygments_lexer": "ipython3",
   "version": "3.13.5"
  }
 },
 "nbformat": 4,
 "nbformat_minor": 5
}
