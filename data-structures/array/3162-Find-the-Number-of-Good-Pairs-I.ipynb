{
 "cells": [
  {
   "cell_type": "markdown",
   "metadata": {},
   "source": [
    "# LeetCode Problem 1512: Number of Good Pairs\n",
    "\n",
    "## Problem Description\n",
    "\n",
    "Given an array of integers `nums`, return the number of good pairs.\n",
    "\n",
    "A pair (i, j) is called good if `nums[i] == nums[j]` and `i < j`.\n",
    "\n",
    "---\n",
    "\n",
    "### Example 1\n",
    "\n",
    "**Input:**  \n",
    "`nums = [1,2,3,1,1,3]`  \n",
    "**Output:**  \n",
    "`4`  \n",
    "**Explanation:**  \n",
    "The good pairs are:  \n",
    "- (0,3): `nums[0] = 1` and `nums[3] = 1`  \n",
    "- (0,4): `nums[0] = 1` and `nums[4] = 1`  \n",
    "- (3,4): `nums[3] = 1` and `nums[4] = 1`  \n",
    "- (2,5): `nums[2] = 3` and `nums[5] = 3`\n",
    "\n",
    "---\n",
    "\n",
    "### Example 2\n",
    "\n",
    "**Input:**  \n",
    "`nums = [1,1,1,1]`  \n",
    "**Output:**  \n",
    "`6`  \n",
    "**Explanation:**  \n",
    "Each pair in the array are good.\n",
    "\n",
    "---\n",
    "\n",
    "### Example 3\n",
    "\n",
    "**Input:**  \n",
    "`nums = [1,2,3]`  \n",
    "**Output:**  \n",
    "`0`  \n",
    "**Explanation:**  \n",
    "No good pairs exist.\n",
    "\n",
    "---\n",
    "\n",
    "## Constraints\n",
    "\n",
    "- `1 <= nums.length <= 100`\n",
    "- `1 <= nums[i] <= 100`\n",
    "\n",
    "---\n",
    "\n",
    "## Approach to Solve the Problem\n",
    "\n",
    "1. Iterate through the array using two nested loops.\n",
    "2. For each pair (i, j) where i < j, check if `nums[i] == nums[j]`.\n",
    "3. Count and sum up all such good pairs.\n",
    "\n",
    "---\n",
    "\n",
    "Happy coding! 😊\n"
   ]
  },
  {
   "cell_type": "code",
   "execution_count": 1,
   "metadata": {},
   "outputs": [],
   "source": [
    "class Solution(object):\n",
    "    def numberOfPairs(self, nums1, nums2, k):\n",
    "        \"\"\"\n",
    "        :type nums1: List[int]\n",
    "        :type nums2: List[int]\n",
    "        :type k: int\n",
    "        :rtype: int\n",
    "        \"\"\"\n",
    "        good_pairs = 0\n",
    "        for num1 in nums1:\n",
    "            for num2 in nums2:\n",
    "                if num1 // (num2*k):\n",
    "                    good_pairs += 1\n",
    "        return good_pairs"
   ]
  },
  {
   "cell_type": "code",
   "execution_count": null,
   "metadata": {},
   "outputs": [],
   "source": [
    "nums1 = [1,3,4]\n",
    "nums2 = [1,3,4]\n",
    "k = 1\n",
    "\n",
    "sol1 = "
   ]
  }
 ],
 "metadata": {
  "kernelspec": {
   "display_name": "base",
   "language": "python",
   "name": "python3"
  },
  "language_info": {
   "codemirror_mode": {
    "name": "ipython",
    "version": 3
   },
   "file_extension": ".py",
   "mimetype": "text/x-python",
   "name": "python",
   "nbconvert_exporter": "python",
   "pygments_lexer": "ipython3",
   "version": "3.12.7"
  }
 },
 "nbformat": 4,
 "nbformat_minor": 2
}
