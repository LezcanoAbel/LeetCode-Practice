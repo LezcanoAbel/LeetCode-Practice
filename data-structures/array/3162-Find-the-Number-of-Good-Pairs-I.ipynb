{
 "cells": [
  {
   "cell_type": "markdown",
   "metadata": {},
   "source": [
    "# LeetCode Problem 3162: Find the Number of Good Pairs I\n",
    "---\n",
    "\n",
    "[Problem Link](https://leetcode.com/problems/find-the-number-of-good-pairs-i/description/)\n",
    "\n",
    "## Problem Description\n",
    "\n",
    "You are given 2 integer arrays `nums1` and `nums2` of lengths `n` and `m` respectively. You are also given a positive integer `k`.\n",
    "\n",
    "A pair (i, j) is called good if `nums1[i]` is divisible by `nums2[j] * k` (0 <= i <= n - 1, 0 <= j <= m - 1).\n",
    "\n",
    "Return the total number of good pairs.\n",
    "\n",
    "### Example 1\n",
    "\n",
    "**Input:**  \n",
    "`nums1 = [1,3,4]`, `nums2 = [1,3,4]`, `k = 1`  \n",
    "**Output:**  \n",
    "`5`  \n",
    "**Explanation:**  \n",
    "The 5 good pairs are:\n",
    "- (0,0): nums1[0] = 1 and nums2[0] = 1\n",
    "- (1,0): nums1[1] = 3 and nums2[0] = 1  \n",
    "- (1,1): nums1[1] = 3 and nums2[1] = 3\n",
    "- (2,0): nums1[2] = 4 and nums2[0] = 1\n",
    "- (2,2): nums1[2] = 4 and nums2[2] = 4\n",
    "\n",
    "### Example 2\n",
    "\n",
    "**Input:**  \n",
    "`nums1 = [1,2,4,12]`, `nums2 = [2,4]`, `k = 3`  \n",
    "**Output:**  \n",
    "`2`  \n",
    "**Explanation:**  \n",
    "The 2 good pairs are:\n",
    "- (3,0): nums1[3] = 12 and nums2[0] = 2\n",
    "- (3,1): nums1[3] = 12 and nums2[1] = 4\n",
    "\n",
    "## Constraints\n",
    "\n",
    "- 1 ≤ n, m ≤ 50 \n",
    "- 1 ≤ nums1[i], nums2[j] ≤ 50\n",
    "- 1 ≤ k ≤ 50\n",
    "\n",
    "## Approach to Solve the Problem\n",
    "\n",
    "1. Iterate through `nums1` and `nums2` using nested loops.\n",
    "2. For each pair (i, j) where 0 ≤ i < n and 0 ≤ j < m, check if nums1[i] is divisible by nums2[j] × k.\n",
    "3. Count all such good pairs.\n",
    "\n",
    "Happy coding! 😊\n"
   ]
  },
  {
   "cell_type": "code",
   "execution_count": 3,
   "metadata": {},
   "outputs": [],
   "source": [
    "class Solution(object):\n",
    "    def numberOfPairs(self, nums1, nums2, k):\n",
    "        \"\"\"\n",
    "        :type nums1: List[int]\n",
    "        :type nums2: List[int]\n",
    "        :type k: int\n",
    "        :rtype: int\n",
    "        \"\"\"\n",
    "        good_pairs = 0\n",
    "        for num1 in nums1:\n",
    "            for num2 in nums2:\n",
    "                if num1 % (num2*k) == 0:\n",
    "                    good_pairs += 1\n",
    "        return good_pairs"
   ]
  },
  {
   "cell_type": "code",
   "execution_count": 4,
   "metadata": {},
   "outputs": [
    {
     "name": "stdout",
     "output_type": "stream",
     "text": [
      "5\n"
     ]
    }
   ],
   "source": [
    "nums1 = [1,3,4]\n",
    "nums2 = [1,3,4]\n",
    "k = 1\n",
    "\n",
    "sol1 = Solution()\n",
    "print(sol1.numberOfPairs(nums1, nums2, k))"
   ]
  },
  {
   "cell_type": "code",
   "execution_count": 5,
   "metadata": {},
   "outputs": [
    {
     "name": "stdout",
     "output_type": "stream",
     "text": [
      "2\n"
     ]
    }
   ],
   "source": [
    "nums1 = [1,2,4,12]\n",
    "nums2 = [2,4]\n",
    "k = 3\n",
    "\n",
    "sol2 = Solution()\n",
    "print(sol2.numberOfPairs(nums1, nums2, k))"
   ]
  }
 ],
 "metadata": {
  "kernelspec": {
   "display_name": "base",
   "language": "python",
   "name": "python3"
  },
  "language_info": {
   "codemirror_mode": {
    "name": "ipython",
    "version": 3
   },
   "file_extension": ".py",
   "mimetype": "text/x-python",
   "name": "python",
   "nbconvert_exporter": "python",
   "pygments_lexer": "ipython3",
   "version": "3.12.7"
  }
 },
 "nbformat": 4,
 "nbformat_minor": 2
}
