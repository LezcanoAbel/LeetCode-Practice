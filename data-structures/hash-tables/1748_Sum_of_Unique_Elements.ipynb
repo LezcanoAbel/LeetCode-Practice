{
 "cells": [
  {
   "cell_type": "markdown",
   "metadata": {},
   "source": [
    "# LeetCode Problem 1748: Sum of Unique Elements  \n",
    "https://leetcode.com/problems/sum-of-unique-elements/description/\n",
    "\n",
    "## Problem Description\n",
    "\n",
    "You are given an integer array `nums`. The unique elements of an array are the elements that appear **exactly once** in the array.\n",
    "\n",
    "Return the sum of all the unique elements of `nums`.\n",
    "\n",
    "---\n",
    "\n",
    "### Example 1\n",
    "\n",
    "**Input:**  \n",
    "`nums = [1,2,3,2]`  \n",
    "**Output:**  \n",
    "`4`  \n",
    "**Explanation:**  \n",
    "The unique elements are `[1,3]`, and their sum is `4`.\n",
    "\n",
    "---\n",
    "\n",
    "### Example 2\n",
    "\n",
    "**Input:**  \n",
    "`nums = [1,1,1,1,1]`  \n",
    "**Output:**  \n",
    "`0`  \n",
    "**Explanation:**  \n",
    "There are no unique elements, and the sum is `0`.\n",
    "\n",
    "---\n",
    "\n",
    "### Example 3\n",
    "\n",
    "**Input:**  \n",
    "`nums = [1,2,3,4,5]`  \n",
    "**Output:**  \n",
    "`15`  \n",
    "**Explanation:**  \n",
    "The unique elements are `[1,2,3,4,5]`, and their sum is `15`.\n",
    "\n",
    "---\n",
    "\n",
    "## Constraints\n",
    "\n",
    "- \\( 1 \\leq \\text{nums.length} \\leq 100 \\)\n",
    "- \\( 1 \\leq \\text{nums[i]} \\leq 100 \\)\n",
    "\n",
    "---\n",
    "\n",
    "## Approach to Solve the Problem\n",
    "\n",
    "1. Count the occurrences of each element in the array.\n",
    "2. Identify the elements that occur exactly once.\n",
    "3. Sum these unique elements and return the result.\n",
    "\n",
    "---\n",
    "\n",
    "Happy coding! 😊\n"
   ]
  },
  {
   "cell_type": "code",
   "execution_count": 1,
   "metadata": {},
   "outputs": [],
   "source": [
    "class Solution:\n",
    "    def sumOfUnique(self, nums):\n",
    "      appeared = set()\n",
    "      repeated = set()\n",
    "      unique = []\n",
    "      for n in nums:\n",
    "        if n not in appeared:\n",
    "          appeared.add(n)\n",
    "        else:\n",
    "          repeated.add(n)\n",
    "      for n in nums:\n",
    "        if n not in repeated:\n",
    "          unique.append(n)\n",
    "      return sum(unique)"
   ]
  },
  {
   "cell_type": "code",
   "execution_count": 2,
   "metadata": {},
   "outputs": [
    {
     "name": "stdout",
     "output_type": "stream",
     "text": [
      "4\n"
     ]
    }
   ],
   "source": [
    "nums = [1,2,3,2]\n",
    "sol1 = Solution()\n",
    "print(sol1.sumOfUnique(nums))"
   ]
  },
  {
   "cell_type": "code",
   "execution_count": 3,
   "metadata": {},
   "outputs": [
    {
     "name": "stdout",
     "output_type": "stream",
     "text": [
      "0\n"
     ]
    }
   ],
   "source": [
    "nums = [1,1,1,1,1]\n",
    "sol2 = Solution()\n",
    "print(sol2.sumOfUnique(nums))"
   ]
  },
  {
   "cell_type": "code",
   "execution_count": 4,
   "metadata": {},
   "outputs": [
    {
     "name": "stdout",
     "output_type": "stream",
     "text": [
      "15\n"
     ]
    }
   ],
   "source": [
    "nums = [1,2,3,4,5]\n",
    "sol3 = Solution()\n",
    "print(sol3.sumOfUnique(nums))"
   ]
  }
 ],
 "metadata": {
  "kernelspec": {
   "display_name": "base",
   "language": "python",
   "name": "python3"
  },
  "language_info": {
   "codemirror_mode": {
    "name": "ipython",
    "version": 3
   },
   "file_extension": ".py",
   "mimetype": "text/x-python",
   "name": "python",
   "nbconvert_exporter": "python",
   "pygments_lexer": "ipython3",
   "version": "3.12.7"
  }
 },
 "nbformat": 4,
 "nbformat_minor": 2
}
