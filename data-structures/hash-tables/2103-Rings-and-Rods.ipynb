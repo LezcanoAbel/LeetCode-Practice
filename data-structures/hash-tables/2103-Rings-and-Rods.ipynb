{
 "cells": [
  {
   "cell_type": "code",
   "execution_count": 1,
   "metadata": {},
   "outputs": [],
   "source": [
    "class Solution(object):\n",
    "    def countPoints(self, rings):\n",
    "        \"\"\"\n",
    "        :type rings: str\n",
    "        :rtype: int\n",
    "        \"\"\"\n",
    "        colors = []\n",
    "        position = []\n",
    "        for i, values_i in enumerate(rings):\n",
    "            if i % 2 == 0:\n",
    "                colors.append(values_i)\n",
    "            else:\n",
    "                position.append(int(values_i))\n",
    "\n",
    "        rods = {i: '' for i in range(10)}\n",
    "\n",
    "        for key, value in zip(position, colors):\n",
    "            rods[key] += value\n",
    "\n",
    "        count = 0\n",
    "        for key, values in rods.items():\n",
    "            if len(set(values)) == 3:\n",
    "                count += 1\n",
    "                \n",
    "        return count"
   ]
  },
  {
   "cell_type": "code",
   "execution_count": null,
   "metadata": {},
   "outputs": [],
   "source": []
  }
 ],
 "metadata": {
  "kernelspec": {
   "display_name": "base",
   "language": "python",
   "name": "python3"
  },
  "language_info": {
   "codemirror_mode": {
    "name": "ipython",
    "version": 3
   },
   "file_extension": ".py",
   "mimetype": "text/x-python",
   "name": "python",
   "nbconvert_exporter": "python",
   "pygments_lexer": "ipython3",
   "version": "3.12.7"
  }
 },
 "nbformat": 4,
 "nbformat_minor": 2
}
