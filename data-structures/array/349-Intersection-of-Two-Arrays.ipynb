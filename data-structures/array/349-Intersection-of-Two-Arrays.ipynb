{
 "cells": [
  {
   "cell_type": "markdown",
   "metadata": {},
   "source": [
    "# LeetCode Problem 349: Intersection of Two Arrays\n",
    "---\n",
    "[Problem Link](https://leetcode.com/problems/intersection-of-two-arrays/description/)\n",
    "\n",
    "## Problem Description\n",
    "\n",
    "Given two integer arrays `nums1` and `nums2`, return an array of their intersection.  \n",
    "Each element in the result must be unique, and you may return the result in any order.\n",
    "\n",
    "## Examples\n",
    "\n",
    "### Example 1\n",
    "**Input:**  \n",
    "`nums1 = [1,2,2,1]`  \n",
    "`nums2 = [2,2]`  \n",
    "**Output:**  \n",
    "`[2]`  \n",
    "\n",
    "### Example 2\n",
    "**Input:**  \n",
    "`nums1 = [4,9,5]`  \n",
    "`nums2 = [9,4,9,8,4]`  \n",
    "**Output:**  \n",
    "`[9,4]`  \n",
    "**Explanation:** `[4,9]` is also accepted.\n",
    "\n",
    "\n",
    "- 1 <= nums1.length, nums2.length <= 1000\n",
    "- 0 <= nums1[i], nums2[i] <= 1000\n",
    "\n",
    "## Approach to Solve the Problem\n",
    "1. Convert each list to a set.\n",
    "2. Find the intersection of the two sets.\n",
    "3. Convert the intersection set to a list and return it.\n",
    "\n",
    "Happy coding! 🎉"
   ]
  },
  {
   "cell_type": "code",
   "execution_count": 1,
   "metadata": {},
   "outputs": [],
   "source": [
    "class Solution(object):\n",
    "    def intersection(self, nums1, nums2):\n",
    "        output = []\n",
    "        output += set(nums1) & set(nums2)\n",
    "        return output"
   ]
  },
  {
   "cell_type": "code",
   "execution_count": 2,
   "metadata": {},
   "outputs": [
    {
     "name": "stdout",
     "output_type": "stream",
     "text": [
      "[2]\n"
     ]
    }
   ],
   "source": [
    "nums1 = [1,2,2,1]\n",
    "nums2 = [2,2]\n",
    "sol1 = Solution()\n",
    "print(sol1.intersection(nums1, nums2))"
   ]
  },
  {
   "cell_type": "code",
   "execution_count": 3,
   "metadata": {},
   "outputs": [
    {
     "name": "stdout",
     "output_type": "stream",
     "text": [
      "[9, 4]\n"
     ]
    }
   ],
   "source": [
    "nums1 = [4,9,5]\n",
    "nums2 = [9,4,9,8,4]\n",
    "sol2 = Solution()\n",
    "print(sol2.intersection(nums1, nums2))"
   ]
  }
 ],
 "metadata": {
  "kernelspec": {
   "display_name": "base",
   "language": "python",
   "name": "python3"
  },
  "language_info": {
   "codemirror_mode": {
    "name": "ipython",
    "version": 3
   },
   "file_extension": ".py",
   "mimetype": "text/x-python",
   "name": "python",
   "nbconvert_exporter": "python",
   "pygments_lexer": "ipython3",
   "version": "3.12.7"
  }
 },
 "nbformat": 4,
 "nbformat_minor": 2
}
