{
 "cells": [
  {
   "cell_type": "markdown",
   "metadata": {},
   "source": [
    "# LeetCode Problem 1050: Actors and Directors Who Cooperated At Least Three Times\n",
    "---\n",
    "[Problem Link](https://leetcode.com/problems/actors-and-directors-who-cooperated-at-least-three-times/)\n",
    "\n",
    "## Problem Description\n",
    "\n",
    "Given a table `ActorDirector` containing actor and director IDs along with a timestamp of their collaboration, write a solution to find all pairs `(actor_id, director_id)` where the actor has cooperated with the director at least three times.\n",
    "\n",
    "Return the result table in any order.\n",
    "\n",
    "### Example 1\n",
    "\n",
    "**Input:**  \n",
    "ActorDirector table:\n",
    "\n",
    "| actor_id | director_id | timestamp |\n",
    "|----------|------------|-----------|\n",
    "| 1        | 1          | 0         |\n",
    "| 1        | 1          | 1         |\n",
    "| 1        | 1          | 2         |\n",
    "| 1        | 2          | 3         |\n",
    "| 1        | 2          | 4         |\n",
    "| 2        | 1          | 5         |\n",
    "| 2        | 1          | 6         |\n",
    "\n",
    "\n",
    "**Output:**  \n",
    "\n",
    "| actor_id    | director_id |\n",
    "|-------------|-------------|\n",
    "| 1           | 1           |\n",
    "\n",
    "\n",
    "**Explanation:**\n",
    "The only pair is `(1, 1)` where they cooperated exactly 3 times.\n",
    "\n",
    "## Approach to Solve the Problem\n",
    "\n",
    "1. Group by `(actor_id, director_id)`.\n",
    "2. Count the number of unique timestamps.\n",
    "3. Filter out pairs where the count is less than 3.\n",
    "4. Return the resulting `(actor_id, director_id)` pairs.\n",
    "\n",
    "Happy coding! 🎉\n"
   ]
  },
  {
   "cell_type": "code",
   "execution_count": 42,
   "metadata": {},
   "outputs": [],
   "source": [
    "import pandas as pd\n",
    "\n",
    "def actors_and_directors(actor_director):\n",
    "    df = actor_director.groupby([\"actor_id\", \"director_id\"])[[\"timestamp\"]].nunique().reset_index()\n",
    "    df = df[df[\"timestamp\"] >= 3]\n",
    "    return df[[\"actor_id\", \"director_id\"]]"
   ]
  },
  {
   "cell_type": "code",
   "execution_count": 43,
   "metadata": {},
   "outputs": [
    {
     "data": {
      "text/html": [
       "<div>\n",
       "<style scoped>\n",
       "    .dataframe tbody tr th:only-of-type {\n",
       "        vertical-align: middle;\n",
       "    }\n",
       "\n",
       "    .dataframe tbody tr th {\n",
       "        vertical-align: top;\n",
       "    }\n",
       "\n",
       "    .dataframe thead th {\n",
       "        text-align: right;\n",
       "    }\n",
       "</style>\n",
       "<table border=\"1\" class=\"dataframe\">\n",
       "  <thead>\n",
       "    <tr style=\"text-align: right;\">\n",
       "      <th></th>\n",
       "      <th>actor_id</th>\n",
       "      <th>director_id</th>\n",
       "    </tr>\n",
       "  </thead>\n",
       "  <tbody>\n",
       "    <tr>\n",
       "      <th>0</th>\n",
       "      <td>1</td>\n",
       "      <td>1</td>\n",
       "    </tr>\n",
       "  </tbody>\n",
       "</table>\n",
       "</div>"
      ],
      "text/plain": [
       "   actor_id  director_id\n",
       "0         1            1"
      ]
     },
     "execution_count": 43,
     "metadata": {},
     "output_type": "execute_result"
    }
   ],
   "source": [
    "# Data from Leetcode problem \n",
    "data = [[1, 1, 0], [1, 1, 1], [1, 1, 2], [1, 2, 3], [1, 2, 4], [2, 1, 5], [2, 1, 6]]\n",
    "\n",
    "# Create DataFrame\n",
    "actor_director = pd.DataFrame(\n",
    "    data, columns=[\"actor_id\", \"director_id\", \"timestamp\"]\n",
    ").astype({\"actor_id\": \"int64\", \"director_id\": \"int64\", \"timestamp\": \"int64\"})\n",
    "\n",
    "# Call the function\n",
    "actors_and_directors(actor_director)"
   ]
  }
 ],
 "metadata": {
  "kernelspec": {
   "display_name": "base",
   "language": "python",
   "name": "python3"
  },
  "language_info": {
   "codemirror_mode": {
    "name": "ipython",
    "version": 3
   },
   "file_extension": ".py",
   "mimetype": "text/x-python",
   "name": "python",
   "nbconvert_exporter": "python",
   "pygments_lexer": "ipython3",
   "version": "3.12.7"
  }
 },
 "nbformat": 4,
 "nbformat_minor": 2
}
