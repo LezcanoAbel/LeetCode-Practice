{
 "cells": [
  {
   "cell_type": "markdown",
   "metadata": {},
   "source": [
    "# LeetCode Problem 242: Valid Anagram\n",
    "---\n",
    "[Problem Link](https://leetcode.com/problems/valid-anagram/description/)\n",
    "\n",
    "## Problem Description\n",
    "\n",
    "Given two strings `s` and `t`, return `true` if `t` is an anagram of `s`, and `false` otherwise.\n",
    "\n",
    "### Example 1\n",
    "\n",
    "**Input:** s = \"anagram\", t = \"nagaram\"  \n",
    "**Output:** true  \n",
    "\n",
    "### Example 2\n",
    "\n",
    "**Input:** s = \"rat\", t = \"car\"  \n",
    "**Output:** false  \n",
    "\n",
    "## Constraints\n",
    "\n",
    "- 1 <= s.length, t.length <= 5 * 10⁴\n",
    "- `s` and `t` consist of lowercase English letters.\n",
    "\n",
    "## Follow-up\n",
    "\n",
    "What if the inputs contain Unicode characters? How would you adapt your solution to such a case?\n",
    "\n",
    "## Approach to Solve the Problem\n",
    "\n",
    "1. Check if `s` and `t` have the same length; if not, return `False`.\n",
    "2. Use two dictionaries to count the occurrences of each character in both strings.\n",
    "3. Compare the dictionaries; if they are equal, return `True`; otherwise, return `False`.\n",
    "\n",
    "Happy coding! 🎉\n"
   ]
  },
  {
   "cell_type": "code",
   "execution_count": 14,
   "metadata": {},
   "outputs": [],
   "source": [
    "class Solution(object):\n",
    "    def isAnagram(self, s, t):\n",
    "        if len(s) != len(t):\n",
    "            return False\n",
    "\n",
    "        countS, countT = {}, {}\n",
    "        for i in range(len(s)):\n",
    "            countS[s[i]] = countS.get(s[i], 0) + 1\n",
    "            countT[t[i]] = countT.get(t[i], 0) + 1\n",
    "\n",
    "        return countS == countT"
   ]
  },
  {
   "cell_type": "code",
   "execution_count": 15,
   "metadata": {},
   "outputs": [
    {
     "data": {
      "text/plain": [
       "True"
      ]
     },
     "execution_count": 15,
     "metadata": {},
     "output_type": "execute_result"
    }
   ],
   "source": [
    "# Example 1\n",
    "s = \"anagram\"\n",
    "t = \"nagaram\"\n",
    "sol1 = Solution()\n",
    "sol1.isAnagram(s, t)"
   ]
  },
  {
   "cell_type": "code",
   "execution_count": 16,
   "metadata": {},
   "outputs": [
    {
     "data": {
      "text/plain": [
       "False"
      ]
     },
     "execution_count": 16,
     "metadata": {},
     "output_type": "execute_result"
    }
   ],
   "source": [
    "# Example 2\n",
    "s = \"rat\"\n",
    "t = \"car\"\n",
    "sol2 = Solution()\n",
    "sol2.isAnagram(s, t)"
   ]
  }
 ],
 "metadata": {
  "kernelspec": {
   "display_name": "base",
   "language": "python",
   "name": "python3"
  },
  "language_info": {
   "codemirror_mode": {
    "name": "ipython",
    "version": 3
   },
   "file_extension": ".py",
   "mimetype": "text/x-python",
   "name": "python",
   "nbconvert_exporter": "python",
   "pygments_lexer": "ipython3",
   "version": "3.12.7"
  }
 },
 "nbformat": 4,
 "nbformat_minor": 2
}
