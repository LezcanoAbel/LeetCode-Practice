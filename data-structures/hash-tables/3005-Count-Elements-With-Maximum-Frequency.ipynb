{
 "cells": [
  {
   "cell_type": "markdown",
   "metadata": {},
   "source": [
    "# LeetCode Problem 3005: Count Elements With Maximum Frequency\n",
    "---\n",
    "[Problem Link](https://leetcode.com/problems/count-elements-with-maximum-frequency/description/)\n",
    "\n",
    "## Problem Description\n",
    "\n",
    "You are given an array `nums` consisting of positive integers.\n",
    "\n",
    "Return the total frequencies of elements in `nums` such that those elements all have the maximum frequency.\n",
    "\n",
    "The frequency of an element is the number of occurrences of that element in the array.\n",
    "\n",
    "## Example 1\n",
    "\n",
    "**Input:**  \n",
    "`nums = [1,2,2,3,1,4]`  \n",
    "**Output:**  \n",
    "`4`\n",
    "\n",
    "**Explanation:**  \n",
    "The elements 1 and 2 have a frequency of 2, which is the maximum frequency in the array.  \n",
    "So the number of elements in the array with maximum frequency is 4.\n",
    "\n",
    "## Example 2\n",
    "\n",
    "**Input:**  \n",
    "`nums = [1,2,3,4,5]`  \n",
    "**Output:**  \n",
    "`5`\n",
    "\n",
    "**Explanation:**  \n",
    "All elements of the array have a frequency of 1, which is the maximum.  \n",
    "So the number of elements in the array with maximum frequency is 5.\n",
    "\n",
    "## Constraints\n",
    "\n",
    "- 1 ≤ nums.length ≤ 100\n",
    "- 1 ≤ nums[i] ≤ 100\n",
    "\n",
    "## Approach to Solve the Problem\n",
    "\n",
    "1. Create a dictionary to count the frequency of each element in `nums`.\n",
    "2. Find the maximum frequency value in the dictionary.\n",
    "3. Sum the frequencies of elements that have the maximum frequency.\n",
    "4. Return the total sum as the result.\n",
    "\n",
    "Happy coding! 👍\n",
    "\n"
   ]
  },
  {
   "cell_type": "code",
   "execution_count": 10,
   "metadata": {},
   "outputs": [],
   "source": [
    "class Solution(object):\n",
    "    def maxFrequencyElements(self, nums):\n",
    "        \"\"\"\n",
    "        :type nums: List[int]\n",
    "        :rtype: int\n",
    "        \"\"\"\n",
    "        count = {}\n",
    "        sum_max = 0\n",
    "\n",
    "        for num in nums:\n",
    "            if num not in count:\n",
    "                count[num] = 1\n",
    "            else:\n",
    "                count[num] += 1\n",
    "\n",
    "        for i in count:\n",
    "            if count[i] == max(count.values()):\n",
    "                sum_max += count[i]\n",
    "                \n",
    "        return sum_max"
   ]
  },
  {
   "cell_type": "code",
   "execution_count": 11,
   "metadata": {},
   "outputs": [
    {
     "name": "stdout",
     "output_type": "stream",
     "text": [
      "4\n"
     ]
    }
   ],
   "source": [
    "nums = [1,2,2,3,1,4]\n",
    "sol1 = Solution()\n",
    "print(sol1.maxFrequencyElements(nums)) "
   ]
  },
  {
   "cell_type": "code",
   "execution_count": 12,
   "metadata": {},
   "outputs": [
    {
     "name": "stdout",
     "output_type": "stream",
     "text": [
      "5\n"
     ]
    }
   ],
   "source": [
    "nums = [1,2,3,4,5]\n",
    "sol2 = Solution()\n",
    "print(sol2.maxFrequencyElements(nums)) "
   ]
  }
 ],
 "metadata": {
  "kernelspec": {
   "display_name": "base",
   "language": "python",
   "name": "python3"
  },
  "language_info": {
   "codemirror_mode": {
    "name": "ipython",
    "version": 3
   },
   "file_extension": ".py",
   "mimetype": "text/x-python",
   "name": "python",
   "nbconvert_exporter": "python",
   "pygments_lexer": "ipython3",
   "version": "3.12.7"
  }
 },
 "nbformat": 4,
 "nbformat_minor": 2
}
