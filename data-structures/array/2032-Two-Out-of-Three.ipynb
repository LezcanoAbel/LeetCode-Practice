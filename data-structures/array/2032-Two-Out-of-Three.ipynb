{
 "cells": [
  {
   "cell_type": "markdown",
   "metadata": {},
   "source": [
    "# LeetCode Problem 2032: Two Out of Three\n",
    "---\n",
    "[Problem Link](https://leetcode.com/problems/two-out-of-three/description/)\n",
    "\n",
    "## Problem Description\n",
    "\n",
    "Given three integer arrays `nums1`, `nums2`, and `nums3`, return a distinct array containing all the values that are present in **at least two out of the three arrays**. You may return the values in any order.\n",
    "\n",
    "## Examples\n",
    "\n",
    "### Example 1\n",
    "**Input:**  \n",
    "`nums1 = [1,1,3,2]`  \n",
    "`nums2 = [2,3]`  \n",
    "`nums3 = [3]`  \n",
    "**Output:**  \n",
    "`[3,2]`  \n",
    "**Explanation:**  \n",
    "The values present in at least two arrays are:  \n",
    "- `3` (present in all three arrays).  \n",
    "- `2` (present in `nums1` and `nums2`).  \n",
    "\n",
    "\n",
    "### Example 2\n",
    "**Input:**  \n",
    "`nums1 = [3,1]`  \n",
    "`nums2 = [2,3]`  \n",
    "`nums3 = [1,2]`  \n",
    "**Output:**  \n",
    "`[2,3,1]`  \n",
    "**Explanation:**  \n",
    "The values present in at least two arrays are:  \n",
    "- `2` (present in `nums2` and `nums3`).  \n",
    "- `3` (present in `nums1` and `nums2`).  \n",
    "- `1` (present in `nums1` and `nums3`).  \n",
    "\n",
    "\n",
    "### Example 3\n",
    "**Input:**  \n",
    "`nums1 = [1,2,2]`  \n",
    "`nums2 = [4,3,3]`  \n",
    "`nums3 = [5]`  \n",
    "**Output:**  \n",
    "`[]`  \n",
    "**Explanation:**  \n",
    "No value is present in at least two arrays.  \n",
    "\n",
    "\n",
    "## Constraints\n",
    "- \\(1 \\leq \\text{nums1.length}, \\text{nums2.length}, \\text{nums3.length} \\leq 100\\)\n",
    "- \\(1 \\leq \\text{nums1}[i], \\text{nums2}[j], \\text{nums3}[k] \\leq 100\\)\n",
    "\n",
    "\n",
    "## Approach\n",
    "1. Convert each list to a set.\n",
    "2. Create an empty set for the output.\n",
    "3. Check each element in the first set against the other two sets and add to the output if found.\n",
    "4. Repeat for the second and third sets.\n",
    "5. Convert the output set to a list and return it.\n",
    "\n",
    "Happy coding! 🎉"
   ]
  },
  {
   "cell_type": "code",
   "execution_count": 7,
   "metadata": {},
   "outputs": [],
   "source": [
    "class Solution(object):\n",
    "    def twoOutOfThree(self, nums1, nums2, nums3):\n",
    "        cache1 = set(nums1)\n",
    "        cache2 = set(nums2)\n",
    "        cache3 = set(nums3)\n",
    "        output = set()\n",
    "        for i in cache1:\n",
    "            if i in cache2 or i in cache3:\n",
    "                output.add(i)\n",
    "        for i in cache2:\n",
    "            if i in cache1 or i in cache3:\n",
    "                output.add(i)\n",
    "        for i in cache3:\n",
    "            if i in cache1 or i in cache2:\n",
    "                output.add(i)\n",
    "        return list(output)"
   ]
  },
  {
   "cell_type": "code",
   "execution_count": 8,
   "metadata": {},
   "outputs": [
    {
     "name": "stdout",
     "output_type": "stream",
     "text": [
      "[2, 3]\n"
     ]
    }
   ],
   "source": [
    "nums1 = [1,1,3,2]\n",
    "nums2 = [2,3]\n",
    "nums3 = [3]\n",
    "sol1 = Solution()\n",
    "print(sol1.twoOutOfThree(nums1, nums2, nums3))"
   ]
  },
  {
   "cell_type": "code",
   "execution_count": 9,
   "metadata": {},
   "outputs": [
    {
     "name": "stdout",
     "output_type": "stream",
     "text": [
      "[1, 2, 3]\n"
     ]
    }
   ],
   "source": [
    "nums1 = [3,1]\n",
    "nums2 = [2,3]\n",
    "nums3 = [1,2]\n",
    "sol2 = Solution()\n",
    "print(sol2.twoOutOfThree(nums1, nums2, nums3))"
   ]
  },
  {
   "cell_type": "code",
   "execution_count": 10,
   "metadata": {},
   "outputs": [
    {
     "name": "stdout",
     "output_type": "stream",
     "text": [
      "[]\n"
     ]
    }
   ],
   "source": [
    "nums1 = [1,2,2]\n",
    "nums2 = [4,3,3]\n",
    "nums3 = [5]\n",
    "sol3 = Solution()\n",
    "print(sol3.twoOutOfThree(nums1, nums2, nums3))"
   ]
  }
 ],
 "metadata": {
  "kernelspec": {
   "display_name": "base",
   "language": "python",
   "name": "python3"
  },
  "language_info": {
   "codemirror_mode": {
    "name": "ipython",
    "version": 3
   },
   "file_extension": ".py",
   "mimetype": "text/x-python",
   "name": "python",
   "nbconvert_exporter": "python",
   "pygments_lexer": "ipython3",
   "version": "3.12.7"
  }
 },
 "nbformat": 4,
 "nbformat_minor": 2
}
