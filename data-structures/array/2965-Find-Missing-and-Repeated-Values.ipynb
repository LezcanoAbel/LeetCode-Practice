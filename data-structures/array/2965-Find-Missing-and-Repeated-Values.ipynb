{
 "cells": [
  {
   "cell_type": "markdown",
   "metadata": {},
   "source": [
    "# LeetCode Problem 2965: Find Missing and Repeated Values\n",
    "---\n",
    "[Problem Link](https://leetcode.com/problems/find-missing-and-repeated-values/description/)\n",
    "\n",
    "## Problem Description\n",
    "\n",
    "You are given a 0-indexed 2D integer matrix `grid` of size `n x n` with values in the range `[1, n²]`. Each integer appears exactly once except:\n",
    "- One number `a`, which appears twice.\n",
    "- One number `b`, which is missing.\n",
    "\n",
    "The task is to find the repeating number `a` and the missing number `b`.\n",
    "\n",
    "Return a 0-indexed integer array `ans` of size 2 where:\n",
    "- `ans[0]` equals `a` (the repeated number),\n",
    "- `ans[1]` equals `b` (the missing number).\n",
    "\n",
    "\n",
    "## Examples\n",
    "\n",
    "### Example 1\n",
    "**Input:**  \n",
    "`grid = [[1,3],[2,2]]`  \n",
    "**Output:**  \n",
    "`[2,4]`  \n",
    "**Explanation:**  \n",
    "Number `2` is repeated, and number `4` is missing.  \n",
    "\n",
    "\n",
    "### Example 2\n",
    "**Input:**  \n",
    "`grid = [[9,1,7],[8,9,2],[3,4,6]]`  \n",
    "**Output:**  \n",
    "`[9,5]`  \n",
    "**Explanation:**  \n",
    "Number `9` is repeated, and number `5` is missing.  \n",
    "\n",
    "\n",
    "## Constraints\n",
    "- `2 <= n == grid.length == grid[i].length <= 50`\n",
    "- `1 <= grid[i][j] <= n * n`\n",
    "- Each number in `[1, n²]` appears exactly once, except:\n",
    "  - One number appears twice.\n",
    "  - One number is missing.\n",
    "\n",
    "\n",
    "## Approach to Solve the Problem\n",
    "1. Flatten the grid into a single list of numbers.\n",
    "2. Initialize a dictionary to count occurrences of each number.\n",
    "3. Iterate through the flattened list to populate the count dictionary.\n",
    "4. Identify the repeated and missing numbers by checking the counts.\n",
    "5. Return the repeated and missing numbers as a list.\n",
    "\n",
    "Happy coding! 🎉"
   ]
  },
  {
   "cell_type": "code",
   "execution_count": 4,
   "metadata": {},
   "outputs": [],
   "source": [
    "class Solution(object):\n",
    "    def findMissingAndRepeatedValues(self, grid):\n",
    "        nums = []\n",
    "        count = {}\n",
    "        repeated = None\n",
    "        missing = None\n",
    "\n",
    "        for i in grid:\n",
    "            nums += i\n",
    "            \n",
    "        for i in range(1, len(grid)**2+1):\n",
    "            count[i] = 0\n",
    "            \n",
    "        for i in nums:\n",
    "            count[i] += 1\n",
    "            \n",
    "        for i in range(1, len(grid)**2+1):\n",
    "            if count[i] == 2:\n",
    "                repeated = i\n",
    "            elif count[i] == 0:\n",
    "                missing = i\n",
    "\n",
    "        return [repeated, missing]"
   ]
  },
  {
   "cell_type": "code",
   "execution_count": 5,
   "metadata": {},
   "outputs": [
    {
     "name": "stdout",
     "output_type": "stream",
     "text": [
      "[2, 4]\n"
     ]
    }
   ],
   "source": [
    "grid = [[1,3],[2,2]]\n",
    "sol1 = Solution()\n",
    "print(sol1.findMissingAndRepeatedValues(grid))"
   ]
  },
  {
   "cell_type": "code",
   "execution_count": 6,
   "metadata": {},
   "outputs": [
    {
     "name": "stdout",
     "output_type": "stream",
     "text": [
      "[9, 5]\n"
     ]
    }
   ],
   "source": [
    "grid = [[9,1,7],[8,9,2],[3,4,6]]\n",
    "sol2 = Solution()\n",
    "print(sol2.findMissingAndRepeatedValues(grid))"
   ]
  }
 ],
 "metadata": {
  "kernelspec": {
   "display_name": "base",
   "language": "python",
   "name": "python3"
  },
  "language_info": {
   "codemirror_mode": {
    "name": "ipython",
    "version": 3
   },
   "file_extension": ".py",
   "mimetype": "text/x-python",
   "name": "python",
   "nbconvert_exporter": "python",
   "pygments_lexer": "ipython3",
   "version": "3.12.7"
  }
 },
 "nbformat": 4,
 "nbformat_minor": 2
}
