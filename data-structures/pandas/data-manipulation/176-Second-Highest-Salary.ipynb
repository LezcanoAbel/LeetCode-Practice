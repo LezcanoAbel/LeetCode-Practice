{
 "cells": [
  {
   "cell_type": "markdown",
   "id": "24f933f4",
   "metadata": {},
   "source": [
    "# LeetCode Problem 176: Second Highest Salary\n",
    "---\n",
    "[Problem Link](https://leetcode.com/problems/second-highest-salary/description/?envType=study-plan-v2&envId=30-days-of-pandas&lang=pythondata)\n",
    "\n",
    "## Problem Description\n",
    "\n",
    "Given the table `Employee` with columns `id` and `salary`, write a solution to find the **second highest distinct salary** from the Employee table.  \n",
    "If there is no second highest salary, return `null` (or `None` in Pandas).\n",
    "\n",
    "**Table: Employee**\n",
    "\n",
    "| Column Name | Type |\n",
    "|-------------|------|\n",
    "| id          | int  |\n",
    "| salary      | int  |\n",
    "\n",
    "- `id` is the primary key.\n",
    "- Each row contains the salary of an employee.\n",
    "\n",
    "\n",
    "\n",
    "### Example 1\n",
    "\n",
    "**Input:**  \n",
    "Employee table:\n",
    "\n",
    "| id | salary |\n",
    "|----|--------|\n",
    "| 1  | 100    |\n",
    "| 2  | 200    |\n",
    "| 3  | 300    |\n",
    "\n",
    "**Output:**  \n",
    "\n",
    "| SecondHighestSalary |\n",
    "|---------------------|\n",
    "| 200                 |\n",
    "\n",
    "\n",
    "### Example 2\n",
    "\n",
    "**Input:**  \n",
    "Employee table:\n",
    "\n",
    "| id | salary |\n",
    "|----|--------|\n",
    "| 1  | 100    |\n",
    "\n",
    "**Output:**  \n",
    "\n",
    "| SecondHighestSalary |\n",
    "|---------------------|\n",
    "| null                |\n",
    "\n",
    "\n",
    "**Explanation:**  \n",
    "The result should be the **second highest unique salary** from the Employee table.  \n",
    "\n",
    "- In Example 1, unique salaries in descending order are `[300, 200, 100]`, so the second highest salary is `200`.  \n",
    "- In Example 2, only one unique salary exists, so there is no second highest salary → `null`.\n",
    "\n",
    "\n",
    "## Approach to Solve the Problem\n",
    "\n",
    "1. Remove duplicate values from the `salary` column using `drop_duplicates()`, ensuring each salary is considered only once.\n",
    "2. Sort the unique salaries in descending order using `sort_values(ascending=False)`.\n",
    "3. Check if the number of unique salaries is less than 2:\n",
    "   - If true, return a DataFrame with `SecondHighestSalary` set to `None`.\n",
    "   - Otherwise, access the second value in the sorted series using `iloc[1]` and return it in the DataFrame.\n"
   ]
  },
  {
   "cell_type": "code",
   "execution_count": 87,
   "id": "9ee36f34",
   "metadata": {},
   "outputs": [],
   "source": [
    "import pandas as pd\n",
    "\n",
    "\n",
    "def second_highest_salary(employee: pd.DataFrame) -> pd.DataFrame:\n",
    "    unique = employee[\"salary\"].drop_duplicates()\n",
    "    sorted = unique.sort_values(ascending=False)\n",
    "    if len(sorted) < 2:\n",
    "        return pd.DataFrame({\"SecondHighestSalary\": [None]})\n",
    "    else:\n",
    "        return pd.DataFrame({\"SecondHighestSalary\": [sorted.iloc[1]]})"
   ]
  },
  {
   "cell_type": "code",
   "execution_count": 90,
   "id": "02c4f283",
   "metadata": {},
   "outputs": [
    {
     "data": {
      "text/html": [
       "<div>\n",
       "<style scoped>\n",
       "    .dataframe tbody tr th:only-of-type {\n",
       "        vertical-align: middle;\n",
       "    }\n",
       "\n",
       "    .dataframe tbody tr th {\n",
       "        vertical-align: top;\n",
       "    }\n",
       "\n",
       "    .dataframe thead th {\n",
       "        text-align: right;\n",
       "    }\n",
       "</style>\n",
       "<table border=\"1\" class=\"dataframe\">\n",
       "  <thead>\n",
       "    <tr style=\"text-align: right;\">\n",
       "      <th></th>\n",
       "      <th>SecondHighestSalary</th>\n",
       "    </tr>\n",
       "  </thead>\n",
       "  <tbody>\n",
       "    <tr>\n",
       "      <th>0</th>\n",
       "      <td>200</td>\n",
       "    </tr>\n",
       "  </tbody>\n",
       "</table>\n",
       "</div>"
      ],
      "text/plain": [
       "   SecondHighestSalary\n",
       "0                  200"
      ]
     },
     "execution_count": 90,
     "metadata": {},
     "output_type": "execute_result"
    }
   ],
   "source": [
    "# Data from LeetCode problem \n",
    "data = [[1, 100], [2, 200], [3, 300]]\n",
    "employee = pd.DataFrame(data, columns=['id', 'salary']).astype({'id':'int64', 'salary':'int64'})\n",
    "\n",
    "# Call the function \n",
    "second_highest_salary(employee)"
   ]
  }
 ],
 "metadata": {
  "kernelspec": {
   "display_name": ".venv",
   "language": "python",
   "name": "python3"
  },
  "language_info": {
   "codemirror_mode": {
    "name": "ipython",
    "version": 3
   },
   "file_extension": ".py",
   "mimetype": "text/x-python",
   "name": "python",
   "nbconvert_exporter": "python",
   "pygments_lexer": "ipython3",
   "version": "3.13.5"
  }
 },
 "nbformat": 4,
 "nbformat_minor": 5
}
