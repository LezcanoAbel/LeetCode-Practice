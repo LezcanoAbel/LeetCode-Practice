{
 "cells": [
  {
   "cell_type": "markdown",
   "metadata": {},
   "source": [
    "# LeetCode Problem 1636: Sort Array by Increasing Frequency\n",
    "---\n",
    "[Problem Link](https://leetcode.com/problems/sort-array-by-increasing-frequency/description/)\n",
    "\n",
    "## Problem Description\n",
    "\n",
    "Given an array of integers `nums`, sort the array in increasing order based on the frequency of the values. If multiple values have the same frequency, sort them in decreasing order.\n",
    "\n",
    "Return the sorted array.\n",
    "\n",
    "## Example 1\n",
    "\n",
    "**Input:**  \n",
    "`nums = [1,1,2,2,2,3]`  \n",
    "**Output:**  \n",
    "`[3,1,1,2,2,2]`\n",
    "\n",
    "**Explanation:**  \n",
    "'3' has a frequency of 1, '1' has a frequency of 2, and '2' has a frequency of 3.\n",
    "\n",
    "## Example 2\n",
    "\n",
    "**Input:**  \n",
    "`nums = [2,3,1,3,2]`  \n",
    "**Output:**  \n",
    "`[1,3,3,2,2]`\n",
    "\n",
    "**Explanation:**  \n",
    "'2' and '3' both have a frequency of 2, so they are sorted in decreasing order.\n",
    "\n",
    "## Example 3\n",
    "\n",
    "**Input:**  \n",
    "`nums = [-1,1,-6,4,5,-6,1,4,1]`  \n",
    "**Output:**  \n",
    "`[5,-1,4,4,-6,-6,1,1,1]`\n",
    "\n",
    "## Constraints\n",
    "\n",
    "- 1 ≤ nums.length ≤ 100\n",
    "- -100 ≤ nums[i] ≤ 100\n",
    "\n",
    "## Approach to Solve the Problem\n",
    "\n",
    "1. Count the frequency of each number in the array using the `Counter` from the `collections` module.\n",
    "2. Sort the numbers based on their frequencies, and in case of ties, sort them in descending order by the number itself.\n",
    "3. Construct the result array by repeating each number according to its frequency.\n",
    "4. Return the sorted array.\n",
    "\n",
    "Happy coding! 🎉\n"
   ]
  },
  {
   "cell_type": "code",
   "execution_count": 1,
   "metadata": {},
   "outputs": [],
   "source": [
    "class Solution(object):\n",
    "    def frequencySort(self, nums):\n",
    "        \"\"\"\n",
    "        :type nums: List[int]\n",
    "        :rtype: List[int]\n",
    "        \"\"\"\n",
    "        from collections import Counter\n",
    "        frequencies = Counter(nums)\n",
    "        sorted_nums = sorted(nums, key=lambda x: (frequencies[x], -x))\n",
    "        return sorted_nums"
   ]
  },
  {
   "cell_type": "code",
   "execution_count": 2,
   "metadata": {},
   "outputs": [
    {
     "name": "stdout",
     "output_type": "stream",
     "text": [
      "[3, 1, 1, 2, 2, 2]\n"
     ]
    }
   ],
   "source": [
    "nums = [1,1,2,2,2,3]\n",
    "sol1 = Solution()\n",
    "print(sol1.frequencySort(nums))"
   ]
  },
  {
   "cell_type": "code",
   "execution_count": 3,
   "metadata": {},
   "outputs": [
    {
     "name": "stdout",
     "output_type": "stream",
     "text": [
      "[1, 3, 3, 2, 2]\n"
     ]
    }
   ],
   "source": [
    "nums = [2,3,1,3,2]\n",
    "sol2 = Solution()\n",
    "print(sol2.frequencySort(nums))"
   ]
  },
  {
   "cell_type": "code",
   "execution_count": 4,
   "metadata": {},
   "outputs": [
    {
     "name": "stdout",
     "output_type": "stream",
     "text": [
      "[5, -1, 4, 4, -6, -6, 1, 1, 1]\n"
     ]
    }
   ],
   "source": [
    "nums = [-1,1,-6,4,5,-6,1,4,1]\n",
    "sol3 = Solution()\n",
    "print(sol3.frequencySort(nums))"
   ]
  }
 ],
 "metadata": {
  "kernelspec": {
   "display_name": "base",
   "language": "python",
   "name": "python3"
  },
  "language_info": {
   "codemirror_mode": {
    "name": "ipython",
    "version": 3
   },
   "file_extension": ".py",
   "mimetype": "text/x-python",
   "name": "python",
   "nbconvert_exporter": "python",
   "pygments_lexer": "ipython3",
   "version": "3.12.7"
  }
 },
 "nbformat": 4,
 "nbformat_minor": 2
}
