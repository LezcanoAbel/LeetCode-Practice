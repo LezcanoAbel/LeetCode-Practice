{
 "cells": [
  {
   "cell_type": "markdown",
   "metadata": {},
   "source": [
    "# LeetCode Problem 2325: Decode the Message\n",
    "---\n",
    "\n",
    "[Problem Link](https://leetcode.com/problems/decode-the-message/description/)\n",
    "\n",
    "## Problem Description\n",
    "\n",
    "You are given the strings `key` and `message`, which represent a cipher key and a secret message, respectively. The steps to decode the message are as follows:\n",
    "\n",
    "1. Use the first appearance of all 26 lowercase English letters in `key` as the order of the substitution table.\n",
    "2. Align the substitution table with the regular English alphabet.\n",
    "3. Each letter in `message` is substituted using the table.\n",
    "4. Spaces `' '` are transformed into themselves.\n",
    "\n",
    "For example, given `key = \"happy boy\"` (actual key would have at least one instance of each letter in the alphabet), we have the partial substitution table:\n",
    "\n",
    "`('h' -> 'a', 'a' -> 'b', 'p' -> 'c', 'y' -> 'd', 'b' -> 'e', 'o' -> 'f')`\n",
    "\n",
    "Return the decoded message.\n",
    "\n",
    "## Example 1\n",
    "![](../hash-tables/images/2325_example1.jpg)\n",
    "\n",
    "**Input:**  \n",
    "- `key = \"the quick brown fox jumps over the lazy dog\"`\n",
    "- `message = \"vkbs bs t suepuv\"`\n",
    "\n",
    "**Output:** \"this is a secret\"\n",
    "\n",
    "**Explanation:**  \n",
    "The substitution table is obtained by taking the first appearance of each letter in \"the quick brown fox jumps over the lazy dog\".\n",
    "\n",
    "## Example 2\n",
    "![](../hash-tables/images/2325_example2.jpg)\n",
    "\n",
    "**Input:**  \n",
    "- `key = \"eljuxhpwnyrdgtqkviszcfmabo\"`\n",
    "- `message = \"zwx hnfx lqantp mnoeius ycgk vcnjrdb\"`\n",
    "\n",
    "**Output:** \"the five boxing wizards jump quickly\"\n",
    "\n",
    "**Explanation:**  \n",
    "The substitution table is obtained by taking the first appearance of each letter in \"eljuxhpwnyrdgtqkviszcfmabo\".\n",
    "\n",
    "## Constraints\n",
    "\n",
    "- 26 ≤ key.length ≤ 2000\n",
    "- key consists of lowercase English letters and ' '\n",
    "- key contains every letter in the English alphabet ('a' to 'z') at least once\n",
    "- 1 ≤ message.length ≤ 2000\n",
    "- message consists of lowercase English letters and ' '\n",
    "\n",
    "## Approach to Solve the Problem\n",
    "\n",
    "1. Create a mapping of the first occurrences of each letter in `key` to the regular English alphabet ('a' to 'z')\n",
    "2. Skip spaces and duplicate letters in the `key` while building the substitution table\n",
    "3. For each character in `message`:\n",
    "   - Replace it using the substitution table if it's a letter\n",
    "   - Retain it as-is if it's a space\n",
    "4. Combine the decoded characters into the final decoded message\n",
    "\n",
    "Happy coding! 😊\n"
   ]
  },
  {
   "cell_type": "code",
   "execution_count": 16,
   "metadata": {},
   "outputs": [],
   "source": [
    "class Solution(object):\n",
    "    def decodeMessage(self, key, message):\n",
    "        \"\"\"\n",
    "        :type key: str\n",
    "        :type message: str\n",
    "        :rtype: str\n",
    "        \"\"\"\n",
    "        # create a list of unique characters and remove spaces\n",
    "        key_reduzed = list()\n",
    "        for letter in key:\n",
    "            if letter == \" \" or letter in key_reduzed:\n",
    "                pass \n",
    "            else:\n",
    "                key_reduzed.append(letter)\n",
    "\n",
    "        # create a dictionary with the key_reduzed and the alphabet\n",
    "        decoder = dict()\n",
    "        alphabet = 'abcdefghijklmnopqrstuvwxyz'\n",
    "        for i, letter in enumerate(alphabet):\n",
    "            decoder[key_reduzed[i]] = letter\n",
    "        decoder[' '] = ' '\n",
    "\n",
    "        # compare the message with the key_reduzed and decode the message\n",
    "        decoded_message = ''\n",
    "        for letter in message:\n",
    "            decoded_message += decoder[letter]\n",
    "        return decoded_message"
   ]
  },
  {
   "cell_type": "code",
   "execution_count": 19,
   "metadata": {},
   "outputs": [
    {
     "name": "stdout",
     "output_type": "stream",
     "text": [
      "this is a secret\n"
     ]
    }
   ],
   "source": [
    "key = \"the quick brown fox jumps over the lazy dog\"\n",
    "message = \"vkbs bs t suepuv\"\n",
    "sol1 = Solution()\n",
    "print(sol1.decodeMessage(key, message)) "
   ]
  },
  {
   "cell_type": "code",
   "execution_count": 20,
   "metadata": {},
   "outputs": [
    {
     "name": "stdout",
     "output_type": "stream",
     "text": [
      "the five boxing wizards jump quickly\n"
     ]
    }
   ],
   "source": [
    "key = \"eljuxhpwnyrdgtqkviszcfmabo\"\n",
    "message = \"zwx hnfx lqantp mnoeius ycgk vcnjrdb\"\n",
    "\n",
    "sol2 = Solution()\n",
    "print(sol2.decodeMessage(key, message))"
   ]
  },
  {
   "cell_type": "code",
   "execution_count": null,
   "metadata": {},
   "outputs": [],
   "source": []
  }
 ],
 "metadata": {
  "kernelspec": {
   "display_name": "base",
   "language": "python",
   "name": "python3"
  },
  "language_info": {
   "codemirror_mode": {
    "name": "ipython",
    "version": 3
   },
   "file_extension": ".py",
   "mimetype": "text/x-python",
   "name": "python",
   "nbconvert_exporter": "python",
   "pygments_lexer": "ipython3",
   "version": "3.12.7"
  }
 },
 "nbformat": 4,
 "nbformat_minor": 2
}
