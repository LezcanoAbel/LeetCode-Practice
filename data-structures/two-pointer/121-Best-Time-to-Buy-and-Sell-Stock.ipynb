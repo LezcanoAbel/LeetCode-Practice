{
 "cells": [
  {
   "cell_type": "markdown",
   "metadata": {},
   "source": [
    "# LeetCode Problem 121: Best Time to Buy and Sell Stock\n",
    "---\n",
    "[Problem Link](https://leetcode.com/problems/best-time-to-buy-and-sell-stock/description/)\n",
    "\n",
    "## Problem Description\n",
    "\n",
    "You are given an array `prices` where `prices[i]` represents the price of a given stock on the `i`-th day.\n",
    "\n",
    "You want to maximize your profit by choosing a single day to buy one stock and choosing a different day in the future to sell that stock.\n",
    "\n",
    "**Return the maximum profit** you can achieve from this transaction. If no profit can be made, return `0`.\n",
    "\n",
    "### Example 1\n",
    "\n",
    "**Input:**  \n",
    "`prices = [7,1,5,3,6,4]`  \n",
    "\n",
    "**Output:**  \n",
    "`5`  \n",
    "\n",
    "**Explanation:**  \n",
    "- Buy on day `2` (price = `1`)  \n",
    "- Sell on day `5` (price = `6`)  \n",
    "- Profit = `6 - 1 = 5`  \n",
    "\n",
    "### Example 2\n",
    "\n",
    "**Input:**  \n",
    "`prices = [7,6,4,3,1]`  \n",
    "\n",
    "**Output:**  \n",
    "`0`  \n",
    "\n",
    "**Explanation:**  \n",
    "- No transactions are done because stock prices keep decreasing.  \n",
    "- Maximum profit = `0`.\n",
    "\n",
    "## Approach to Solve the Problem\n",
    "\n",
    "1. Initialize two pointers, `left` and `right`.\n",
    "2. Iterate through the list with the `right` pointer.\n",
    "3. If `prices[right]` > `prices[left]`, calculate the profit and update `maxprofit`.\n",
    "4. If not, move `left` to `right`.\n",
    "5. Return `maxprofit`.\n",
    "\n",
    "Happy coding! 🎉"
   ]
  },
  {
   "cell_type": "code",
   "execution_count": 4,
   "metadata": {},
   "outputs": [],
   "source": [
    "class Solution:\n",
    "    def maxProfit(self, prices):\n",
    "        left, right = 0, 1\n",
    "        maxprofit = 0\n",
    "        while right < len(prices):\n",
    "            if prices[right] > prices[left]:\n",
    "                profit = prices[right] - prices[left]\n",
    "                maxprofit = max(maxprofit, profit)\n",
    "            else:\n",
    "                left = right\n",
    "            right += 1\n",
    "\n",
    "        return maxprofit"
   ]
  },
  {
   "cell_type": "code",
   "execution_count": 6,
   "metadata": {},
   "outputs": [
    {
     "name": "stdout",
     "output_type": "stream",
     "text": [
      "5\n"
     ]
    }
   ],
   "source": [
    "prices = [7,1,5,3,6,4]\n",
    "sol1 = Solution()\n",
    "print(sol1.maxProfit(prices))"
   ]
  },
  {
   "cell_type": "code",
   "execution_count": 7,
   "metadata": {},
   "outputs": [
    {
     "name": "stdout",
     "output_type": "stream",
     "text": [
      "0\n"
     ]
    }
   ],
   "source": [
    "prices = [7,6,4,3,1]\n",
    "sol2 = Solution()\n",
    "print(sol2.maxProfit(prices))"
   ]
  }
 ],
 "metadata": {
  "kernelspec": {
   "display_name": "base",
   "language": "python",
   "name": "python3"
  },
  "language_info": {
   "codemirror_mode": {
    "name": "ipython",
    "version": 3
   },
   "file_extension": ".py",
   "mimetype": "text/x-python",
   "name": "python",
   "nbconvert_exporter": "python",
   "pygments_lexer": "ipython3",
   "version": "3.12.7"
  }
 },
 "nbformat": 4,
 "nbformat_minor": 2
}
