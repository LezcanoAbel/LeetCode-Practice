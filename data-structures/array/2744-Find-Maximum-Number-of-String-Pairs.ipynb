{
 "cells": [
  {
   "cell_type": "markdown",
   "metadata": {},
   "source": [
    "# LeetCode Problem 2744: Find Maximum Number of String Pairs\n",
    "---\n",
    "[Problem Link](https://leetcode.com/problems/find-maximum-number-of-string-pairs/description/)\n",
    "\n",
    "## Problem Description\n",
    "You are given a 0-indexed array `words` consisting of distinct strings.\n",
    "\n",
    "A string `words[i]` can be paired with a string `words[j]` if:\n",
    "- The string `words[i]` is equal to the reversed string of `words[j]`\n",
    "- 0 ≤ i < j < words.length\n",
    "\n",
    "Each string can belong to **at most one pair**.\n",
    "\n",
    "Return the **maximum number of pairs** that can be formed from the array `words`.\n",
    "\n",
    "### Example 1:\n",
    "**Input:** words = `[\"cd\",\"ac\",\"dc\",\"ca\",\"zz\"]`\n",
    "\n",
    "**Output:** 2\n",
    "\n",
    "**Explanation:**  \n",
    "In this example, we can form 2 pairs of strings:\n",
    "- Pair the 0th string (\"cd\") with the 2nd string (\"dc\") since \"cd\" reversed is \"dc\"\n",
    "- Pair the 1st string (\"ac\") with the 3rd string (\"ca\") since \"ac\" reversed is \"ca\"\n",
    "It can be proven that 2 is the maximum number of pairs that can be formed.\n",
    "\n",
    "### Example 2:\n",
    "**Input:** words = `[\"ab\",\"ba\",\"cc\"]`\n",
    "\n",
    "**Output:** 1\n",
    "\n",
    "**Explanation:**  \n",
    "In this example, we can form 1 pair of strings:\n",
    "- Pair the 0th string (\"ab\") with the 1st string (\"ba\") since \"ab\" reversed is \"ba\"\n",
    "It can be proven that 1 is the maximum number of pairs that can be formed.\n",
    "\n",
    "### Example 3:\n",
    "**Input:** words = `[\"aa\",\"ab\"]`\n",
    "\n",
    "**Output:** 0\n",
    "\n",
    "**Explanation:** In this example, we are unable to form any pair of strings.\n",
    "\n",
    "## Constraints\n",
    "- 1 ≤ words.length ≤ 50\n",
    "- words[i].length = 2\n",
    "- words consists of distinct strings\n",
    "- words[i] contains only lowercase English letters\n",
    "\n",
    "## Approach\n",
    "1. Reverse each word and store in a new list\n",
    "2. Initialize a counter for valid pairs\n",
    "3. Use nested loops to compare words and their reverses:\n",
    "   - If a word matches its reverse and i < j, increment counter\n",
    "4. Return the counter\n"
   ]
  },
  {
   "cell_type": "code",
   "execution_count": 3,
   "metadata": {},
   "outputs": [],
   "source": [
    "class Solution(object):\n",
    "    def maximumNumberOfStringPairs(self, words):\n",
    "        \"\"\"\n",
    "        :type words: List[str]\n",
    "        :rtype: int\n",
    "        \"\"\"\n",
    "        words_reverse = []\n",
    "        for word in words:\n",
    "            words_reverse.append(word[::-1])\n",
    "\n",
    "        count = 0\n",
    "        for i, values_i in enumerate(words):\n",
    "            for j, values_j in enumerate(words_reverse):\n",
    "                if values_i == values_j and i<j:\n",
    "                    count += 1\n",
    "        return count"
   ]
  },
  {
   "cell_type": "code",
   "execution_count": 4,
   "metadata": {},
   "outputs": [
    {
     "name": "stdout",
     "output_type": "stream",
     "text": [
      "2\n"
     ]
    }
   ],
   "source": [
    "words = [\"cd\",\"ac\",\"dc\",\"ca\",\"zz\"]\n",
    "sol1 = Solution()\n",
    "print(sol1.maximumNumberOfStringPairs(words))"
   ]
  },
  {
   "cell_type": "code",
   "execution_count": 5,
   "metadata": {},
   "outputs": [
    {
     "name": "stdout",
     "output_type": "stream",
     "text": [
      "1\n"
     ]
    }
   ],
   "source": [
    "words = [\"ab\",\"ba\",\"cc\"]\n",
    "sol2 = Solution()\n",
    "print(sol2.maximumNumberOfStringPairs(words))"
   ]
  },
  {
   "cell_type": "code",
   "execution_count": 6,
   "metadata": {},
   "outputs": [
    {
     "name": "stdout",
     "output_type": "stream",
     "text": [
      "0\n"
     ]
    }
   ],
   "source": [
    "words = [\"aa\",\"ab\"]\n",
    "sol3 = Solution()\n",
    "print(sol3.maximumNumberOfStringPairs(words))"
   ]
  }
 ],
 "metadata": {
  "kernelspec": {
   "display_name": "base",
   "language": "python",
   "name": "python3"
  },
  "language_info": {
   "codemirror_mode": {
    "name": "ipython",
    "version": 3
   },
   "file_extension": ".py",
   "mimetype": "text/x-python",
   "name": "python",
   "nbconvert_exporter": "python",
   "pygments_lexer": "ipython3",
   "version": "3.12.7"
  }
 },
 "nbformat": 4,
 "nbformat_minor": 2
}
