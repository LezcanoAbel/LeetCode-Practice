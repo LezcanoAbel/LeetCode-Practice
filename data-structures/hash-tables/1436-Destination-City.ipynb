{
 "cells": [
  {
   "cell_type": "markdown",
   "metadata": {},
   "source": [
    "# LeetCode Problem 1436: Destination City\n",
    "\n",
    "[Problem Link](https://leetcode.com/problems/destination-city/description/)\n",
    "\n",
    "## Problem Description\n",
    "\n",
    "You are given the array `paths`, where `paths[i] = [cityAi, cityBi]` means there exists a direct path going from `cityAi` to `cityBi`.  \n",
    "\n",
    "Return the **destination city**, that is, the city without any outgoing path to another city.\n",
    "\n",
    "It is guaranteed that the graph of paths forms a line without any loop; therefore, there will be exactly one destination city.\n",
    "\n",
    "## Example 1\n",
    "\n",
    "**Input:**  \n",
    "`paths = [[\"London\",\"New York\"],[\"New York\",\"Lima\"],[\"Lima\",\"Sao Paulo\"]]`  \n",
    "**Output:**  \n",
    "`\"Sao Paulo\"`  \n",
    "\n",
    "**Explanation:**  \n",
    "Starting at \"London\", you can follow the paths:  \n",
    "`\"London\" -> \"New York\" -> \"Lima\" -> \"Sao Paulo\"`.  \n",
    "The destination city is `\"Sao Paulo\"`, as it has no outgoing path.\n",
    "\n",
    "## Example 2\n",
    "\n",
    "**Input:**  \n",
    "`paths = [[\"B\",\"C\"],[\"D\",\"B\"],[\"C\",\"A\"]]`  \n",
    "**Output:**  \n",
    "`\"A\"`  \n",
    "\n",
    "**Explanation:**  \n",
    "All possible trips are:  \n",
    "- `\"D\" -> \"B\" -> \"C\" -> \"A\"`  \n",
    "- `\"B\" -> \"C\" -> \"A\"`  \n",
    "- `\"C\" -> \"A\"`  \n",
    "- `\"A\"`  \n",
    "\n",
    "The destination city is `\"A\"`, as it has no outgoing path.\n",
    "\n",
    "## Example 3\n",
    "\n",
    "**Input:**  \n",
    "`paths = [[\"A\",\"Z\"]]`  \n",
    "**Output:**  \n",
    "`\"Z\"`  \n",
    "\n",
    "## Constraints\n",
    "\n",
    "- 1 ≤ paths.length ≤ 100\n",
    "- paths[i].length == 2\n",
    "- 1 ≤ cityAi.length, cityBi.length ≤ 10\n",
    "- cityAi ≠ cityBi\n",
    "- All strings consist of lowercase and uppercase English letters and the space character.\n",
    "\n",
    "## Approach to Solve the Problem\n",
    "\n",
    "1. Create a set of all cities that are the starting points (cityAi)\n",
    "2. Iterate through all the destination cities (cityBi) and check which one is not in the starting points set\n",
    "3. Return that city as the destination city\n",
    "\n",
    "Happy coding! 🎉\n"
   ]
  },
  {
   "cell_type": "code",
   "execution_count": 1,
   "metadata": {},
   "outputs": [],
   "source": [
    "class Solution:\n",
    "    def destCity(self, paths):\n",
    "      points = set()\n",
    "      starts = set()\n",
    "      for i, j in paths:\n",
    "        starts.add(i)\n",
    "        points.add(i)\n",
    "        points.add(j)\n",
    "\n",
    "      for point in list(points):\n",
    "        if point not in starts:\n",
    "          return point"
   ]
  },
  {
   "cell_type": "code",
   "execution_count": 3,
   "metadata": {},
   "outputs": [
    {
     "name": "stdout",
     "output_type": "stream",
     "text": [
      "Sao Paulo\n"
     ]
    }
   ],
   "source": [
    "paths = [[\"London\",\"New York\"],[\"New York\",\"Lima\"],[\"Lima\",\"Sao Paulo\"]]\n",
    "sol1 = Solution()\n",
    "print(sol1.destCity(paths))"
   ]
  },
  {
   "cell_type": "code",
   "execution_count": 4,
   "metadata": {},
   "outputs": [
    {
     "name": "stdout",
     "output_type": "stream",
     "text": [
      "A\n"
     ]
    }
   ],
   "source": [
    "paths = [[\"B\",\"C\"],[\"D\",\"B\"],[\"C\",\"A\"]]\n",
    "sol2 = Solution()\n",
    "print(sol2.destCity(paths))"
   ]
  },
  {
   "cell_type": "code",
   "execution_count": 5,
   "metadata": {},
   "outputs": [
    {
     "name": "stdout",
     "output_type": "stream",
     "text": [
      "Z\n"
     ]
    }
   ],
   "source": [
    "paths = [[\"A\",\"Z\"]]\n",
    "sol3 = Solution()\n",
    "print(sol3.destCity(paths))"
   ]
  }
 ],
 "metadata": {
  "kernelspec": {
   "display_name": "base",
   "language": "python",
   "name": "python3"
  },
  "language_info": {
   "codemirror_mode": {
    "name": "ipython",
    "version": 3
   },
   "file_extension": ".py",
   "mimetype": "text/x-python",
   "name": "python",
   "nbconvert_exporter": "python",
   "pygments_lexer": "ipython3",
   "version": "3.12.7"
  }
 },
 "nbformat": 4,
 "nbformat_minor": 2
}
