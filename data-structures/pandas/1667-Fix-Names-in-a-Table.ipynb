{
 "cells": [
  {
   "cell_type": "markdown",
   "metadata": {},
   "source": [
    "# LeetCode Problem 1667: Fix Names in a Table  \n",
    "---  \n",
    "[Problem Link](https://leetcode.com/problems/fix-names-in-a-table/?envType=study-plan-v2&envId=30-days-of-pandas&lang=pythondata1667)  \n",
    "\n",
    "## Problem Description  \n",
    "\n",
    "You are given a table `Users` with the following structure:  \n",
    "\n",
    "### Table: Users  \n",
    "\n",
    "| Column Name | Type    |  \n",
    "|------------|---------|  \n",
    "| user_id    | int     |  \n",
    "| name       | varchar |  \n",
    "\n",
    "- `user_id` is the primary key (column with unique values) for this table.  \n",
    "- This table contains the ID and the name of the user. The name consists of only lowercase and uppercase characters.  \n",
    "\n",
    "Write a solution to fix the names so that only the first character is uppercase and the rest are lowercase.  \n",
    "\n",
    "Return the result table ordered by `user_id`.  \n",
    "\n",
    "### Example 1  \n",
    "\n",
    "**Input:**  \n",
    "\n",
    "**Users table:**  \n",
    "\n",
    "| user_id | name  |  \n",
    "|---------|-------|  \n",
    "| 1       | aLice |  \n",
    "| 2       | bOB   |  \n",
    "\n",
    "**Output:**  \n",
    "\n",
    "| user_id | name  |  \n",
    "|---------|-------|  \n",
    "| 1       | Alice |  \n",
    "| 2       | Bob   |  \n",
    "\n",
    "## Approach to Solve the Problem  \n",
    "\n",
    "1. Convert the given data into a pandas DataFrame.  \n",
    "2. Define a function `fix_names` that:  \n",
    "   - Uses the `.str.title()` method to transform each name into title case (first letter uppercase, the rest lowercase).  \n",
    "   - Sorts the DataFrame by `user_id`.  \n",
    "3. Return the modified DataFrame.  \n",
    "\n",
    "Happy coding! 🎉"
   ]
  },
  {
   "cell_type": "code",
   "execution_count": 14,
   "metadata": {},
   "outputs": [],
   "source": [
    "import pandas as pd\n",
    "\n",
    "def fix_names(users):\n",
    "    users['name'] = users['name'].str.capitalize()\n",
    "    return users.sort_values(by='user_id', ascending=True)"
   ]
  },
  {
   "cell_type": "code",
   "execution_count": 15,
   "metadata": {},
   "outputs": [],
   "source": [
    "# Data from leetcode problem\n",
    "data = [[1, 'aLice'], \n",
    "        [2, 'bOB']]\n",
    "users = pd.DataFrame(data, columns=['user_id', 'name']).astype({'user_id':'Int64', 'name':'object'})"
   ]
  },
  {
   "cell_type": "code",
   "execution_count": 16,
   "metadata": {},
   "outputs": [
    {
     "data": {
      "text/html": [
       "<div>\n",
       "<style scoped>\n",
       "    .dataframe tbody tr th:only-of-type {\n",
       "        vertical-align: middle;\n",
       "    }\n",
       "\n",
       "    .dataframe tbody tr th {\n",
       "        vertical-align: top;\n",
       "    }\n",
       "\n",
       "    .dataframe thead th {\n",
       "        text-align: right;\n",
       "    }\n",
       "</style>\n",
       "<table border=\"1\" class=\"dataframe\">\n",
       "  <thead>\n",
       "    <tr style=\"text-align: right;\">\n",
       "      <th></th>\n",
       "      <th>user_id</th>\n",
       "      <th>name</th>\n",
       "    </tr>\n",
       "  </thead>\n",
       "  <tbody>\n",
       "    <tr>\n",
       "      <th>0</th>\n",
       "      <td>1</td>\n",
       "      <td>Alice</td>\n",
       "    </tr>\n",
       "    <tr>\n",
       "      <th>1</th>\n",
       "      <td>2</td>\n",
       "      <td>Bob</td>\n",
       "    </tr>\n",
       "  </tbody>\n",
       "</table>\n",
       "</div>"
      ],
      "text/plain": [
       "   user_id   name\n",
       "0        1  Alice\n",
       "1        2    Bob"
      ]
     },
     "execution_count": 16,
     "metadata": {},
     "output_type": "execute_result"
    }
   ],
   "source": [
    "# Example 1\n",
    "fix_names(users)"
   ]
  }
 ],
 "metadata": {
  "kernelspec": {
   "display_name": "base",
   "language": "python",
   "name": "python3"
  },
  "language_info": {
   "codemirror_mode": {
    "name": "ipython",
    "version": 3
   },
   "file_extension": ".py",
   "mimetype": "text/x-python",
   "name": "python",
   "nbconvert_exporter": "python",
   "pygments_lexer": "ipython3",
   "version": "3.12.7"
  }
 },
 "nbformat": 4,
 "nbformat_minor": 2
}
