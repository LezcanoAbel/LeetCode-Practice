{
 "cells": [
  {
   "cell_type": "markdown",
   "metadata": {},
   "source": [
    "# LeetCode Problem 2215: Find the Difference of Two Arrays\n",
    "---\n",
    "[Problem Link](https://leetcode.com/problems/find-the-difference-of-two-arrays/description/)\n",
    "\n",
    "## Problem Description\n",
    "\n",
    "Given two 0-indexed integer arrays `nums1` and `nums2`, return a list `answer` of size 2 where:\n",
    "\n",
    "1. `answer[0]` is a list of all distinct integers in `nums1` that are not present in `nums2`.\n",
    "2. `answer[1]` is a list of all distinct integers in `nums2` that are not present in `nums1`.\n",
    "\n",
    "Note: The integers in the lists may be returned in any order.\n",
    "\n",
    "### Example 1\n",
    "\n",
    "**Input:**  \n",
    "`nums1 = [1,2,3]`  \n",
    "`nums2 = [2,4,6]`  \n",
    "\n",
    "**Output:**  \n",
    "`[[1,3],[4,6]]`  \n",
    "\n",
    "**Explanation:**  \n",
    "- For `nums1`:  \n",
    "  `nums1[1] = 2` is present in `nums2`.  \n",
    "  `nums1[0] = 1` and `nums1[2] = 3` are not present in `nums2`.  \n",
    "  Therefore, `answer[0] = [1,3]`.\n",
    "- For `nums2`:  \n",
    "  `nums2[0] = 2` is present in `nums1`.  \n",
    "  `nums2[1] = 4` and `nums2[2] = 6` are not present in `nums1`.  \n",
    "  Therefore, `answer[1] = [4,6]`.\n",
    "\n",
    "### Example 2\n",
    "\n",
    "**Input:**  \n",
    "`nums1 = [1,2,3,3]`  \n",
    "`nums2 = [1,1,2,2]`  \n",
    "\n",
    "**Output:**  \n",
    "`[[3],[]]`  \n",
    "\n",
    "**Explanation:**  \n",
    "- For `nums1`:  \n",
    "  `nums1[2]` and `nums1[3]` are not present in `nums2`. Since `nums1[2] == nums1[3]`, their value is only included once, making `answer[0] = [3]`.\n",
    "- For `nums2`:  \n",
    "  Every integer in `nums2` is present in `nums1`, so `answer[1] = []`.\n",
    "\n",
    "## Constraints\n",
    "\n",
    "- 1 ≤ nums1.length, nums2.length ≤ 1000\n",
    "- -1000 ≤ nums1[i], nums2[i] ≤ 1000\n",
    "\n",
    "## Approach to Solve the Problem\n",
    "\n",
    "1. Convert `nums1` and `nums2` into sets to remove duplicates.\n",
    "2. Find the difference:\n",
    "   - Elements in `nums1` but not in `nums2` → `answer[0]`.\n",
    "   - Elements in `nums2` but not in `nums1` → `answer[1]`.\n",
    "3. Convert the resulting sets back to lists and return them.\n",
    "\n",
    "Happy coding! 🚀\n"
   ]
  },
  {
   "cell_type": "code",
   "execution_count": null,
   "metadata": {},
   "outputs": [],
   "source": [
    "class Solution(object):\n",
    "    def findDifference(self, nums1, nums2):\n",
    "        cache1 = set(nums1)\n",
    "        cache2 = set(nums2)\n",
    "\n",
    "        ouput1 = []\n",
    "        for n in cache1:\n",
    "            if n not in cache2:\n",
    "                ouput1.append(n)\n",
    "\n",
    "        ouput2 = []\n",
    "        for n in cache2:\n",
    "            if n not in cache1:\n",
    "                ouput2.append(n)\n",
    "\n",
    "        return [ouput1, ouput2]"
   ]
  },
  {
   "cell_type": "code",
   "execution_count": 3,
   "metadata": {},
   "outputs": [
    {
     "name": "stdout",
     "output_type": "stream",
     "text": [
      "[[1, 3], [4, 6]]\n"
     ]
    }
   ],
   "source": [
    "nums1 = [1, 2, 3]\n",
    "nums2 = [2, 4, 6]\n",
    "sol1 = Solution()\n",
    "print(sol1.findDifference(nums1, nums2))"
   ]
  },
  {
   "cell_type": "code",
   "execution_count": 4,
   "metadata": {},
   "outputs": [
    {
     "name": "stdout",
     "output_type": "stream",
     "text": [
      "[[3], []]\n"
     ]
    }
   ],
   "source": [
    "nums1 = [1,2,3,3]\n",
    "nums2 = [1,1,2,2]\n",
    "sol2 = Solution()\n",
    "print(sol2.findDifference(nums1, nums2))"
   ]
  }
 ],
 "metadata": {
  "kernelspec": {
   "display_name": "base",
   "language": "python",
   "name": "python3"
  },
  "language_info": {
   "codemirror_mode": {
    "name": "ipython",
    "version": 3
   },
   "file_extension": ".py",
   "mimetype": "text/x-python",
   "name": "python",
   "nbconvert_exporter": "python",
   "pygments_lexer": "ipython3",
   "version": "3.12.7"
  }
 },
 "nbformat": 4,
 "nbformat_minor": 2
}
