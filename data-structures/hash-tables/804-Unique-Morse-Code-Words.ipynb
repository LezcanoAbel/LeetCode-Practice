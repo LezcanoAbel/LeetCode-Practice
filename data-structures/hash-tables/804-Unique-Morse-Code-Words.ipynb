{
 "cells": [
  {
   "cell_type": "markdown",
   "metadata": {},
   "source": [
    "# LeetCode Problem 804: Unique Morse Code Words\n",
    "\n",
    "[Problem Link](https://leetcode.com/problems/unique-morse-code-words/description/)\n",
    "\n",
    "## Problem Description\n",
    "International Morse Code defines a standard encoding where each letter is mapped to a series of dots and dashes, as follows:\n",
    "\n",
    "- 'a' maps to `\".-\"`\n",
    "- 'b' maps to `\"-...\"`\n",
    "- 'c' maps to `\"-.-.\"`\n",
    "- and so on.\n",
    "\n",
    "For convenience, the full table for the 26 letters of the English alphabet is:  \n",
    "`[\".-\",\"-...\",\"-.-.\",\"-..\",\".\",\"..-.\",\"--.\",\"....\",\"..\",\".---\",\"-.-\",\".-..\",\"--\",\"-.\",\"---\",\".--.\",\"--.-\",\".-.\",\"...\",\"-\",\"..-\",\"...-\",\".--\",\"-..-\",\"-.--\",\"--..\"]`\n",
    "\n",
    "Given an array of strings `words`, where each word can be written as a concatenation of the Morse code of each letter, return the number of different transformations among all the words.\n",
    "\n",
    "For example, the word `\"cab\"` can be written as `\"-.-..--...\"`, which is the concatenation of `\"-.-.\"`, `\".-\"`, and `\"-...\"`.  \n",
    "We will call such a concatenation the transformation of a word.\n",
    "\n",
    "---\n",
    "\n",
    "### Example 1\n",
    "**Input:**  \n",
    "`words = [\"gin\",\"zen\",\"gig\",\"msg\"]`  \n",
    "**Output:**  \n",
    "`2`  \n",
    "\n",
    "**Explanation:**  \n",
    "The transformation of each word is:  \n",
    "- `\"gin\"` -> `\"--...-.\"`  \n",
    "- `\"zen\"` -> `\"--...-.\"`  \n",
    "- `\"gig\"` -> `\"--...--.\"`  \n",
    "- `\"msg\"` -> `\"--...--.\"`  \n",
    "\n",
    "There are 2 different transformations: `\"--...-.\"` and `\"--...--.\"`.\n",
    "\n",
    "---\n",
    "\n",
    "### Example 2\n",
    "**Input:**  \n",
    "`words = [\"a\"]`  \n",
    "**Output:**  \n",
    "`1`\n",
    "\n",
    "---\n",
    "\n",
    "## Constraints\n",
    "- \\( 1 \\leq \\text{words.length} \\leq 100 \\)  \n",
    "- \\( 1 \\leq \\text{words[i].length} \\leq 12 \\)  \n",
    "- `words[i]` consists of lowercase English letters.  \n",
    "\n",
    "---\n",
    "\n",
    "## Approach to Solve the Problem\n",
    "1. Create a mapping of each letter to its Morse code equivalent.\n",
    "2. For each word, compute its Morse code transformation by concatenating the Morse codes of its letters.\n",
    "3. Use a set to store unique transformations.\n",
    "4. Return the size of the set as the number of unique transformations."
   ]
  },
  {
   "cell_type": "code",
   "execution_count": 3,
   "metadata": {},
   "outputs": [],
   "source": [
    "class Solution(object):\n",
    "    def uniqueMorseRepresentations(self, words):\n",
    "        \"\"\"\n",
    "        :type words: List[str]\n",
    "        :rtype: int\n",
    "        \"\"\"\n",
    "        alphabet = 'abcdefghijklmnopqrstuvwxyz'\n",
    "        morse = [\".-\",\"-...\",\"-.-.\",\"-..\",\".\",\"..-.\",\"--.\",\"....\",\"..\",\".---\",\"-.-\",\".-..\",\"--\",\n",
    "                \"-.\",\"---\",\".--.\",\"--.-\",\".-.\",\"...\",\"-\",\"..-\",\"...-\",\".--\",\"-..-\",\"-.--\",\"--..\"]\n",
    "\n",
    "        morse_dict = dict(zip(alphabet, morse))\n",
    "\n",
    "        translate = list()\n",
    "        for word in words:\n",
    "            code_morse = \"\"\n",
    "            for letter in word:\n",
    "                code_morse += morse_dict[letter]\n",
    "            translate.append(code_morse)\n",
    "            \n",
    "        return len(set(translate))"
   ]
  },
  {
   "cell_type": "code",
   "execution_count": 4,
   "metadata": {},
   "outputs": [
    {
     "name": "stdout",
     "output_type": "stream",
     "text": [
      "2\n"
     ]
    }
   ],
   "source": [
    "words = [\"gin\",\"zen\",\"gig\",\"msg\"]\n",
    "sol1 = Solution()\n",
    "print(sol1.uniqueMorseRepresentations(words)) "
   ]
  },
  {
   "cell_type": "code",
   "execution_count": 5,
   "metadata": {},
   "outputs": [
    {
     "name": "stdout",
     "output_type": "stream",
     "text": [
      "1\n"
     ]
    }
   ],
   "source": [
    "words = [\"a\"]\n",
    "sol2 = Solution()\n",
    "print(sol2.uniqueMorseRepresentations(words))"
   ]
  }
 ],
 "metadata": {
  "kernelspec": {
   "display_name": "base",
   "language": "python",
   "name": "python3"
  },
  "language_info": {
   "codemirror_mode": {
    "name": "ipython",
    "version": 3
   },
   "file_extension": ".py",
   "mimetype": "text/x-python",
   "name": "python",
   "nbconvert_exporter": "python",
   "pygments_lexer": "ipython3",
   "version": "3.12.7"
  }
 },
 "nbformat": 4,
 "nbformat_minor": 2
}
