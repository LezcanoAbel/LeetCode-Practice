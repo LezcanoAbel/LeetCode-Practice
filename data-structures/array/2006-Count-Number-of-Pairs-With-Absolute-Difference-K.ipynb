{
 "cells": [
  {
   "cell_type": "markdown",
   "metadata": {},
   "source": [
    "# LeetCode Problem 2006: Count Number of Pairs With Absolute Difference K\n",
    "---\n",
    "[Problem Link](https://leetcode.com/problems/count-number-of-pairs-with-absolute-difference-k/description/)\n",
    "\n",
    "## Problem Description\n",
    "\n",
    "Given an integer array `nums` and an integer `k`, return the number of pairs `(i, j)` where `i < j` such that `|nums[i] - nums[j]| = k`.\n",
    "\n",
    "The value of `|x|` is defined as:\n",
    "- `x if x ≥ 0`\n",
    "- `-x if x < 0`\n",
    "\n",
    "### Example 1\n",
    "\n",
    "**Input:** `nums = [1,2,2,1], k = 1 ` \n",
    "\n",
    "**Output:** 4  \n",
    "\n",
    "**Explanation:**  \n",
    "The pairs with an absolute difference of 1 are:\n",
    "- [**1**, **2**, 2, 1]\n",
    "- [**1**, 2, **2**, 1]\n",
    "- [1, **2**, 2, **1**]\n",
    "- [1, 2, **2**, **1**]\n",
    "\n",
    "### Example 2\n",
    "\n",
    "**Input:** `nums = [1,3], k = 3 `\n",
    "\n",
    "**Output:** 0  \n",
    "\n",
    "**Explanation:** There are no pairs with an absolute difference of 3.\n",
    "\n",
    "### Example 3\n",
    "\n",
    "**Input:** `nums = [3,2,1,5,4], k = 2`  \n",
    "\n",
    "**Output:** 3  \n",
    "\n",
    "**Explanation:**  \n",
    "The pairs with an absolute difference of 2 are:\n",
    "- [**3**, 2, **1**, 5, 4]\n",
    "- [**3**, 2, 1, **5**, 4]\n",
    "- [3, **2**, 1, 5, **4**]\n",
    "\n",
    "## Constraints\n",
    "\n",
    "- `1 ≤ nums.length ≤ 200`\n",
    "- `1 ≤ nums[i] ≤ 100`\n",
    "- `1 ≤ k ≤ 99`\n",
    "\n",
    "## Approach to Solve the Problem\n",
    "\n",
    "1. Iterate through all pairs of indices `(i, j)` such that `i < j`\n",
    "2. Calculate `|nums[i] - nums[j]|`\n",
    "3. Count pairs where the absolute difference equals k\n",
    "\n",
    "Happy coding! 👨‍💻\n"
   ]
  },
  {
   "cell_type": "code",
   "execution_count": 1,
   "metadata": {},
   "outputs": [],
   "source": [
    "class Solution(object):\n",
    "    def countKDifference(self, nums, k):\n",
    "        \"\"\"\n",
    "        :type nums: List[int]\n",
    "        :type k: int\n",
    "        :rtype: int\n",
    "        \"\"\"\n",
    "        count = 0\n",
    "        for i, n in enumerate(nums):\n",
    "            for j, m in enumerate(nums):\n",
    "                if abs(n-m) == k and i < j:\n",
    "                    count += 1\n",
    "        return count"
   ]
  },
  {
   "cell_type": "code",
   "execution_count": 2,
   "metadata": {},
   "outputs": [
    {
     "name": "stdout",
     "output_type": "stream",
     "text": [
      "4\n"
     ]
    }
   ],
   "source": [
    "nums = [1,2,2,1]\n",
    "k = 1\n",
    "sol1 = Solution()\n",
    "print(sol1.countKDifference(nums, k))"
   ]
  },
  {
   "cell_type": "code",
   "execution_count": 3,
   "metadata": {},
   "outputs": [
    {
     "name": "stdout",
     "output_type": "stream",
     "text": [
      "0\n"
     ]
    }
   ],
   "source": [
    "nums = [1,3]\n",
    "k = 3\n",
    "sol2 = Solution()\n",
    "print(sol2.countKDifference(nums, k))"
   ]
  },
  {
   "cell_type": "code",
   "execution_count": 4,
   "metadata": {},
   "outputs": [
    {
     "name": "stdout",
     "output_type": "stream",
     "text": [
      "3\n"
     ]
    }
   ],
   "source": [
    "nums = [3,2,1,5,4]\n",
    "k = 2\n",
    "sol3 = Solution()\n",
    "print(sol3.countKDifference(nums, k))"
   ]
  }
 ],
 "metadata": {
  "kernelspec": {
   "display_name": "base",
   "language": "python",
   "name": "python3"
  },
  "language_info": {
   "codemirror_mode": {
    "name": "ipython",
    "version": 3
   },
   "file_extension": ".py",
   "mimetype": "text/x-python",
   "name": "python",
   "nbconvert_exporter": "python",
   "pygments_lexer": "ipython3",
   "version": "3.12.7"
  }
 },
 "nbformat": 4,
 "nbformat_minor": 2
}
