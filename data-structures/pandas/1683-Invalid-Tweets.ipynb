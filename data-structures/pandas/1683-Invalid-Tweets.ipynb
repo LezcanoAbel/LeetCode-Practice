{
 "cells": [
  {
   "cell_type": "markdown",
   "metadata": {},
   "source": [
    "# LeetCode Problem 1683: Invalid Tweets\n",
    "---\n",
    "[Problem Link](https://leetcode.com/problems/invalid-tweets/?envType=study-plan-v2&envId=30-days-of-pandas&lang=pythondata1683)\n",
    "\n",
    "## Problem Description\n",
    "\n",
    "You are given a table `Tweets` with the following structure:\n",
    "\n",
    "### Table: Tweets\n",
    "\n",
    "| Column Name | Type    |\n",
    "|-------------|---------|\n",
    "| tweet_id    | int     |\n",
    "| content     | varchar |\n",
    "\n",
    "- `tweet_id` is the primary key for this table.\n",
    "- `content` consists of characters on an American keyboard and no other special characters.\n",
    "- The table contains all tweets in a social media app.\n",
    "\n",
    "A tweet is considered **invalid** if its `content` has more than 15 characters.\n",
    "\n",
    "### Example 1\n",
    "\n",
    "**Input:**\n",
    "\n",
    "**Tweets table:**\n",
    "\n",
    "| tweet_id | content                           |\n",
    "|----------|-----------------------------------|\n",
    "| 1        | Let us Code                       |\n",
    "| 2        | More than fifteen chars are here! |\n",
    "\n",
    "**Output:**\n",
    "\n",
    "| tweet_id |\n",
    "|----------|\n",
    "| 2        |\n",
    "\n",
    "**Explanation:**\n",
    "- Tweet 1 has length = 11, so it is valid.\n",
    "- Tweet 2 has length = 33, so it is invalid.\n",
    "\n",
    "## Approach\n",
    "\n",
    "- Filter tweets where the length of `content` is greater than 15.\n",
    "- Return the `tweet_id` of these invalid tweets.\n",
    "\n",
    "Happy coding! 🎉\n"
   ]
  },
  {
   "cell_type": "code",
   "execution_count": 61,
   "metadata": {},
   "outputs": [],
   "source": [
    "import pandas as pd\n",
    "\n",
    "def invalid_tweets(tweets):\n",
    "    invalid = tweets.loc[tweets['content'].str.len() > 15, ['tweet_id']]\n",
    "    return invalid"
   ]
  },
  {
   "cell_type": "code",
   "execution_count": 62,
   "metadata": {},
   "outputs": [],
   "source": [
    "# Data from leetcode problem\n",
    "data = [[1, 'Let us Code'], [2, 'More than fifteen chars are here!']]\n",
    "tweets = pd.DataFrame(data, columns=['tweet_id', 'content']).astype({'tweet_id':'Int64', 'content':'object'})"
   ]
  },
  {
   "cell_type": "code",
   "execution_count": 63,
   "metadata": {},
   "outputs": [
    {
     "data": {
      "text/html": [
       "<div>\n",
       "<style scoped>\n",
       "    .dataframe tbody tr th:only-of-type {\n",
       "        vertical-align: middle;\n",
       "    }\n",
       "\n",
       "    .dataframe tbody tr th {\n",
       "        vertical-align: top;\n",
       "    }\n",
       "\n",
       "    .dataframe thead th {\n",
       "        text-align: right;\n",
       "    }\n",
       "</style>\n",
       "<table border=\"1\" class=\"dataframe\">\n",
       "  <thead>\n",
       "    <tr style=\"text-align: right;\">\n",
       "      <th></th>\n",
       "      <th>tweet_id</th>\n",
       "    </tr>\n",
       "  </thead>\n",
       "  <tbody>\n",
       "    <tr>\n",
       "      <th>1</th>\n",
       "      <td>2</td>\n",
       "    </tr>\n",
       "  </tbody>\n",
       "</table>\n",
       "</div>"
      ],
      "text/plain": [
       "   tweet_id\n",
       "1         2"
      ]
     },
     "execution_count": 63,
     "metadata": {},
     "output_type": "execute_result"
    }
   ],
   "source": [
    "# Example 1\n",
    "invalid_tweets(tweets)"
   ]
  }
 ],
 "metadata": {
  "kernelspec": {
   "display_name": "base",
   "language": "python",
   "name": "python3"
  },
  "language_info": {
   "codemirror_mode": {
    "name": "ipython",
    "version": 3
   },
   "file_extension": ".py",
   "mimetype": "text/x-python",
   "name": "python",
   "nbconvert_exporter": "python",
   "pygments_lexer": "ipython3",
   "version": "3.12.7"
  }
 },
 "nbformat": 4,
 "nbformat_minor": 2
}
