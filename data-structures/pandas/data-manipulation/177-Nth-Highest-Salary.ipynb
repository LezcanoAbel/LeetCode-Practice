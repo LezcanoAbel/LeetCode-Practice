{
 "cells": [
  {
   "cell_type": "markdown",
   "metadata": {},
   "source": [
    "# LeetCode Problem 177: Nth Highest Salary\n",
    "---\n",
    "[Problem Link](https://leetcode.com/problems/nth-highest-salary/description/?envType=study-plan-v2&envId=30-days-of-pandas&lang=pythondata)\n",
    "\n",
    "## Problem Description\n",
    "\n",
    "Given the table `Employee` with columns `id` and `salary`, write a solution to find the nth highest salary from the Employee table. If the nth highest salary does not exist, return null.\n",
    "\n",
    "### Example 1\n",
    "\n",
    "**Input:**  \n",
    "Employee table:\n",
    "\n",
    "| id | salary |\n",
    "|----|--------|\n",
    "| 1  | 100    |\n",
    "| 2  | 200    |\n",
    "| 3  | 300    |\n",
    "\n",
    "n = 2\n",
    "\n",
    "**Output:**  \n",
    "\n",
    "| getNthHighestSalary(2) |\n",
    "|------------------------|\n",
    "| 200                    |\n",
    "\n",
    "### Example 2\n",
    "\n",
    "**Input:**  \n",
    "Employee table:\n",
    "\n",
    "| id | salary |\n",
    "|----|--------|\n",
    "| 1  | 100    |\n",
    "\n",
    "n = 2\n",
    "\n",
    "**Output:**  \n",
    "\n",
    "| getNthHighestSalary(2) |\n",
    "|------------------------|\n",
    "| null                   |\n",
    "\n",
    "**Explanation:**  \n",
    "The result should be the nth highest unique salary from the Employee table.  \n",
    "- In Example 1, the unique salaries sorted in descending order are [300, 200, 100]. Thus, the 2nd highest salary is 200.  \n",
    "- In Example 2, there is only one unique salary, so the 2nd highest salary does not exist and null is returned.\n",
    "\n",
    "## Approach to Solve the Problem\n",
    "\n",
    "1. Generate a list of unique salaries by dropping duplicates.\n",
    "2. Sort the salaries in descending order.\n",
    "3. Check if n is within the valid range.\n",
    "4. If valid, return the nth highest salary.\n",
    "5. If not, return null.\n"
   ]
  },
  {
   "cell_type": "code",
   "execution_count": 47,
   "metadata": {},
   "outputs": [],
   "source": [
    "import pandas as pd\n",
    "\n",
    "\n",
    "def nth_highest_salary(employee, N):\n",
    "    employee.columns = ['id', 'salary']\n",
    "    df = employee[\"salary\"].drop_duplicates().sort_values(ascending=False)\n",
    "    if N > len(df) or N <= 0:\n",
    "        return pd.DataFrame({f\"getNthHighestSalary({N})\": [None]})\n",
    "    else:\n",
    "        return pd.DataFrame({f\"getNthHighestSalary({N})\": [df.iloc[N - 1]]})"
   ]
  },
  {
   "cell_type": "code",
   "execution_count": 48,
   "metadata": {},
   "outputs": [
    {
     "data": {
      "text/html": [
       "<div>\n",
       "<style scoped>\n",
       "    .dataframe tbody tr th:only-of-type {\n",
       "        vertical-align: middle;\n",
       "    }\n",
       "\n",
       "    .dataframe tbody tr th {\n",
       "        vertical-align: top;\n",
       "    }\n",
       "\n",
       "    .dataframe thead th {\n",
       "        text-align: right;\n",
       "    }\n",
       "</style>\n",
       "<table border=\"1\" class=\"dataframe\">\n",
       "  <thead>\n",
       "    <tr style=\"text-align: right;\">\n",
       "      <th></th>\n",
       "      <th>getNthHighestSalary(2)</th>\n",
       "    </tr>\n",
       "  </thead>\n",
       "  <tbody>\n",
       "    <tr>\n",
       "      <th>0</th>\n",
       "      <td>200</td>\n",
       "    </tr>\n",
       "  </tbody>\n",
       "</table>\n",
       "</div>"
      ],
      "text/plain": [
       "   getNthHighestSalary(2)\n",
       "0                     200"
      ]
     },
     "execution_count": 48,
     "metadata": {},
     "output_type": "execute_result"
    }
   ],
   "source": [
    "# Data from LeetCode problem \n",
    "data = [[1, 100], [2, 200], [3, 300]]\n",
    "\n",
    "# Create DataFrame employee and n\n",
    "N = 2\n",
    "employee = pd.DataFrame(data, columns=[\"Id\", \"Salary\"]).astype(\n",
    "    {\"Id\": \"Int64\", \"Salary\": \"Int64\"}\n",
    ")\n",
    "\n",
    "# Call the function \n",
    "nth_highest_salary(employee, N)"
   ]
  }
 ],
 "metadata": {
  "kernelspec": {
   "display_name": "base",
   "language": "python",
   "name": "python3"
  },
  "language_info": {
   "codemirror_mode": {
    "name": "ipython",
    "version": 3
   },
   "file_extension": ".py",
   "mimetype": "text/x-python",
   "name": "python",
   "nbconvert_exporter": "python",
   "pygments_lexer": "ipython3",
   "version": "3.12.7"
  }
 },
 "nbformat": 4,
 "nbformat_minor": 2
}
