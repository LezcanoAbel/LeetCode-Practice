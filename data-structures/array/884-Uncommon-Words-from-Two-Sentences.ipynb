{
 "cells": [
  {
   "cell_type": "markdown",
   "metadata": {},
   "source": [
    "# LeetCode Problem 884: Uncommon Words from Two Sentences\n",
    "---\n",
    "[Problem Link](https://leetcode.com/problems/uncommon-words-from-two-sentences/description/)\n",
    "\n",
    "## Problem Description\n",
    "\n",
    "You are given two sentences `s1` and `s2`. A word is considered **uncommon** if it appears exactly once in one of the sentences, but not at all in the other sentence.\n",
    "\n",
    "Return a list of all **uncommon words**.\n",
    "\n",
    "## Example 1\n",
    "\n",
    "**Input:**  \n",
    "`s1 = \"this apple is sweet\"`  \n",
    "`s2 = \"this apple is sour\"`  \n",
    "**Output:**  \n",
    "`[\"sweet\",\"sour\"]`\n",
    "\n",
    "**Explanation:**  \n",
    "- \"sweet\" appears only in `s1`.\n",
    "- \"sour\" appears only in `s2`.\n",
    "\n",
    "## Example 2\n",
    "\n",
    "**Input:**  \n",
    "`s1 = \"apple apple\"`  \n",
    "`s2 = \"banana\"`  \n",
    "**Output:**  \n",
    "`[\"banana\"]`\n",
    "\n",
    "**Explanation:**  \n",
    "- \"banana\" is the only word that appears once in one sentence but not in the other.\n",
    "\n",
    "## Example 3\n",
    "\n",
    "**Input:**  \n",
    "`s1 = \"hello world\"`  \n",
    "`s2 = \"world world\"`  \n",
    "**Output:**  \n",
    "`[\"hello\"]`\n",
    "\n",
    "## Constraints\n",
    "\n",
    "- 1 ≤ s1.length, s2.length ≤ 200\n",
    "## Approach to Solve the Problem\n",
    "\n",
    "1. Split both sentences into words and combine them\n",
    "2. Count word frequencies in a dictionary\n",
    "3. Find words that appear exactly once\n",
    "\n",
    "Happy coding! 👨‍💻\n"
   ]
  },
  {
   "cell_type": "code",
   "execution_count": 6,
   "metadata": {},
   "outputs": [],
   "source": [
    "class Solution(object):\n",
    "    def uncommonFromSentences(self, s1, s2):\n",
    "        \"\"\"\n",
    "        :type s1: str\n",
    "        :type s2: str\n",
    "        :rtype: List[str]\n",
    "        \"\"\"\n",
    "        words = s1.split() + s2.split()\n",
    "        counter = {}\n",
    "        output = []\n",
    "\n",
    "        for value in words:\n",
    "            if value not in counter:\n",
    "                counter[value] = 1\n",
    "            else:\n",
    "                counter[value] += 1\n",
    "\n",
    "        for key, value in counter.items():\n",
    "            if value == 1:\n",
    "                output.append(key)\n",
    "        \n",
    "        return output"
   ]
  },
  {
   "cell_type": "code",
   "execution_count": 7,
   "metadata": {},
   "outputs": [
    {
     "name": "stdout",
     "output_type": "stream",
     "text": [
      "['sweet', 'sour']\n"
     ]
    }
   ],
   "source": [
    "s1 = \"this apple is sweet\"\n",
    "s2 = \"this apple is sour\"\n",
    "sol1 = Solution()\n",
    "print(sol1.uncommonFromSentences(s1, s2))"
   ]
  },
  {
   "cell_type": "code",
   "execution_count": 8,
   "metadata": {},
   "outputs": [
    {
     "name": "stdout",
     "output_type": "stream",
     "text": [
      "['banana']\n"
     ]
    }
   ],
   "source": [
    "s1 = \"apple apple\"\n",
    "s2 = \"banana\"\n",
    "sol2 = Solution()\n",
    "print(sol2.uncommonFromSentences(s1, s2))\n"
   ]
  }
 ],
 "metadata": {
  "kernelspec": {
   "display_name": "base",
   "language": "python",
   "name": "python3"
  },
  "language_info": {
   "codemirror_mode": {
    "name": "ipython",
    "version": 3
   },
   "file_extension": ".py",
   "mimetype": "text/x-python",
   "name": "python",
   "nbconvert_exporter": "python",
   "pygments_lexer": "ipython3",
   "version": "3.12.7"
  }
 },
 "nbformat": 4,
 "nbformat_minor": 2
}
