{
 "cells": [
  {
   "cell_type": "markdown",
   "metadata": {},
   "source": [
    "# LeetCode Problem 1873: Calculate Special Bonus\n",
    "---\n",
    "[Problem Link](https://leetcode.com/problems/calculate-special-bonus/?envType=study-plan-v2&envId=30-days-of-pandas&lang=pythondata1873)\n",
    "\n",
    "## Problem Description\n",
    "\n",
    "You are given a table `Employees` with the following structure:\n",
    "\n",
    "### Table: Employees\n",
    "\n",
    "| Column Name  | Type    |\n",
    "|-------------|---------|\n",
    "| employee_id | int     |\n",
    "| name        | varchar |\n",
    "| salary      | int     |\n",
    "\n",
    "- `employee_id` is the primary key (column with unique values) for this table.\n",
    "- Each row of this table indicates the employee ID, employee name, and salary.\n",
    "\n",
    "Write a solution to calculate the bonus of each employee. The bonus of an employee is:\n",
    "- 100% of their salary if the `employee_id` is an **odd number** and the employee's `name` does **not** start with the character 'M'.\n",
    "- `0` otherwise.\n",
    "\n",
    "Return the result table ordered by `employee_id`.\n",
    "\n",
    "### Example 1\n",
    "\n",
    "**Input:**\n",
    "\n",
    "**Employees table:**\n",
    "\n",
    "| employee_id | name    | salary |\n",
    "|-------------|---------|--------|\n",
    "| 2           | Meir    | 3000   |\n",
    "| 3           | Michael | 3800   |\n",
    "| 7           | Addilyn | 7400   |\n",
    "| 8           | Juan    | 6100   |\n",
    "| 9           | Kannon  | 7700   |\n",
    "\n",
    "**Output:**\n",
    "\n",
    "| employee_id | bonus |\n",
    "|-------------|-------|\n",
    "| 2           | 0     |\n",
    "| 3           | 0     |\n",
    "| 7           | 7400  |\n",
    "| 8           | 0     |\n",
    "| 9           | 7700  |\n",
    "\n",
    "## Approach to Solve the Problem\n",
    "\n",
    "1. Convert the given data into a pandas DataFrame.\n",
    "2. Define a function `calculate_special_bonus` that:\n",
    "   - Checks if `employee_id` is odd and `name` does not start with 'M'.\n",
    "   - Assigns `salary` as bonus if conditions are met, otherwise assigns `0`.\n",
    "   - Sorts the result by `employee_id`.\n",
    "3. Return the resulting DataFrame.\n",
    "\n",
    "\n",
    "Happy coding! 🎉"
   ]
  },
  {
   "cell_type": "code",
   "execution_count": 53,
   "metadata": {},
   "outputs": [],
   "source": [
    "import pandas as pd\n",
    "import numpy as np\n",
    "\n",
    "def calculate_special_bonus(employees):\n",
    "    conditions =(employees['employee_id'] % 2 != 0)&(employees['name'].apply(lambda x: x[0] != 'M'))\n",
    "    employees['bonus'] = np.where(conditions, employees['salary'], 0)\n",
    "    output = employees[['employee_id', 'bonus']].sort_values(by='employee_id')\n",
    "    return output"
   ]
  },
  {
   "cell_type": "code",
   "execution_count": 54,
   "metadata": {},
   "outputs": [],
   "source": [
    "data = [[2, 'Meir', 3000], \n",
    "        [3, 'Michael', 3800], \n",
    "        [7, 'Addilyn', 7400], \n",
    "        [8, 'Juan', 6100], \n",
    "        [9, 'Kannon', 7700]]\n",
    "employees = pd.DataFrame(data, columns=['employee_id', 'name', 'salary']).astype({'employee_id':'int64', 'name':'object', 'salary':'int64'})"
   ]
  },
  {
   "cell_type": "code",
   "execution_count": 55,
   "metadata": {},
   "outputs": [
    {
     "data": {
      "text/html": [
       "<div>\n",
       "<style scoped>\n",
       "    .dataframe tbody tr th:only-of-type {\n",
       "        vertical-align: middle;\n",
       "    }\n",
       "\n",
       "    .dataframe tbody tr th {\n",
       "        vertical-align: top;\n",
       "    }\n",
       "\n",
       "    .dataframe thead th {\n",
       "        text-align: right;\n",
       "    }\n",
       "</style>\n",
       "<table border=\"1\" class=\"dataframe\">\n",
       "  <thead>\n",
       "    <tr style=\"text-align: right;\">\n",
       "      <th></th>\n",
       "      <th>employee_id</th>\n",
       "      <th>bonus</th>\n",
       "    </tr>\n",
       "  </thead>\n",
       "  <tbody>\n",
       "    <tr>\n",
       "      <th>0</th>\n",
       "      <td>2</td>\n",
       "      <td>0</td>\n",
       "    </tr>\n",
       "    <tr>\n",
       "      <th>1</th>\n",
       "      <td>3</td>\n",
       "      <td>0</td>\n",
       "    </tr>\n",
       "    <tr>\n",
       "      <th>2</th>\n",
       "      <td>7</td>\n",
       "      <td>7400</td>\n",
       "    </tr>\n",
       "    <tr>\n",
       "      <th>3</th>\n",
       "      <td>8</td>\n",
       "      <td>0</td>\n",
       "    </tr>\n",
       "    <tr>\n",
       "      <th>4</th>\n",
       "      <td>9</td>\n",
       "      <td>7700</td>\n",
       "    </tr>\n",
       "  </tbody>\n",
       "</table>\n",
       "</div>"
      ],
      "text/plain": [
       "   employee_id  bonus\n",
       "0            2      0\n",
       "1            3      0\n",
       "2            7   7400\n",
       "3            8      0\n",
       "4            9   7700"
      ]
     },
     "execution_count": 55,
     "metadata": {},
     "output_type": "execute_result"
    }
   ],
   "source": [
    "calculate_special_bonus(employees)"
   ]
  }
 ],
 "metadata": {
  "kernelspec": {
   "display_name": "base",
   "language": "python",
   "name": "python3"
  },
  "language_info": {
   "codemirror_mode": {
    "name": "ipython",
    "version": 3
   },
   "file_extension": ".py",
   "mimetype": "text/x-python",
   "name": "python",
   "nbconvert_exporter": "python",
   "pygments_lexer": "ipython3",
   "version": "3.12.7"
  }
 },
 "nbformat": 4,
 "nbformat_minor": 2
}
