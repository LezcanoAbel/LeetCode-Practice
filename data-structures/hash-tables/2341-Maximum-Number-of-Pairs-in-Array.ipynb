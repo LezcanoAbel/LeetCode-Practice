{
 "cells": [
  {
   "cell_type": "markdown",
   "metadata": {},
   "source": [
    "# LeetCode Problem 2341: Maximum Number of Pairs in Array\n",
    "---\n",
    "[Problem Link](https://leetcode.com/problems/maximum-number-of-pairs-in-array/description/)\n",
    "\n",
    "## Problem Description\n",
    "\n",
    "You are given a 0-indexed integer array `nums`. In one operation, you may do the following:\n",
    "\n",
    "1. Choose two integers in `nums` that are equal.\n",
    "2. Remove both integers from `nums`, forming a pair.\n",
    "\n",
    "The operation is done on `nums` as many times as possible.\n",
    "\n",
    "Return a 0-indexed integer array `answer` of size 2 where:\n",
    "\n",
    "- `answer[0]` is the number of pairs that are formed.\n",
    "- `answer[1]` is the number of leftover integers in `nums` after doing the operation as many times as possible.\n",
    "\n",
    "\n",
    "## Examples\n",
    "\n",
    "### Example 1\n",
    "**Input:**  \n",
    "`nums = [1,3,2,1,3,2,2]`  \n",
    "**Output:**  \n",
    "`[3,1]`  \n",
    "\n",
    "**Explanation:**  \n",
    "- Form a pair with `nums[0]` and `nums[3]` → nums = `[3,2,3,2,2]`\n",
    "- Form a pair with `nums[0]` and `nums[2]` → nums = `[2,2,2]`\n",
    "- Form a pair with `nums[0]` and `nums[1]` → nums = `[2]`\n",
    "\n",
    "Result: 3 pairs formed, 1 leftover number.\n",
    "\n",
    "### Example 2\n",
    "**Input:**  \n",
    "`nums = [1,1]`  \n",
    "**Output:**  \n",
    "`[1,0]`  \n",
    "\n",
    "**Explanation:**  \n",
    "- Form a pair with `nums[0]` and `nums[1]` → nums = `[]`\n",
    "- Result: 1 pair formed, 0 leftover numbers.\n",
    "\n",
    "### Example 3\n",
    "**Input:**  \n",
    "`nums = [0]`  \n",
    "**Output:**  \n",
    "`[0,1]`  \n",
    "\n",
    "**Explanation:**  \n",
    "- No pairs can be formed.  \n",
    "- Result: 0 pairs formed, 1 leftover number.\n",
    "\n",
    "\n",
    "## Constraints\n",
    "- $1 \\leq \\text{nums.length} \\leq 100$\n",
    "- $0 \\leq \\text{nums}[i] \\leq 100$\n",
    "\n",
    "\n",
    "## Approach to Solve the Problem\n",
    "\n",
    "1. Count the frequency of each integer in the `nums` array.\n",
    "2. For each integer, calculate how many pairs can be formed by dividing the frequency by 2.\n",
    "3. The remainder of each frequency is the number of leftover integers.\n",
    "4. Return the total number of pairs and leftover integers.\n",
    "\n",
    "Happy coding! 🎉"
   ]
  },
  {
   "cell_type": "code",
   "execution_count": 1,
   "metadata": {},
   "outputs": [],
   "source": [
    "class Solution(object):\n",
    "    def numberOfPairs(self, nums):\n",
    "        count = {}\n",
    "        pairs, leftover = 0, 0\n",
    "        for num in nums:\n",
    "            if num not in count:\n",
    "                count[num] = 1\n",
    "            else:\n",
    "                count[num] += 1\n",
    "        for i in count.values():\n",
    "            pairs += i//2\n",
    "            leftover += i%2\n",
    "        return [pairs, leftover]"
   ]
  },
  {
   "cell_type": "code",
   "execution_count": 2,
   "metadata": {},
   "outputs": [
    {
     "name": "stdout",
     "output_type": "stream",
     "text": [
      "[3, 1]\n"
     ]
    }
   ],
   "source": [
    "nums = [1,3,2,1,3,2,2]\n",
    "sol1 = Solution()\n",
    "print(sol1.numberOfPairs(nums))"
   ]
  },
  {
   "cell_type": "code",
   "execution_count": 3,
   "metadata": {},
   "outputs": [
    {
     "name": "stdout",
     "output_type": "stream",
     "text": [
      "[1, 0]\n"
     ]
    }
   ],
   "source": [
    "nums = [1,1]\n",
    "sol2 = Solution()\n",
    "print(sol2.numberOfPairs(nums))"
   ]
  },
  {
   "cell_type": "code",
   "execution_count": 4,
   "metadata": {},
   "outputs": [
    {
     "name": "stdout",
     "output_type": "stream",
     "text": [
      "[0, 1]\n"
     ]
    }
   ],
   "source": [
    "nums = [0]\n",
    "sol3 = Solution()\n",
    "print(sol3.numberOfPairs(nums))"
   ]
  }
 ],
 "metadata": {
  "kernelspec": {
   "display_name": "base",
   "language": "python",
   "name": "python3"
  },
  "language_info": {
   "codemirror_mode": {
    "name": "ipython",
    "version": 3
   },
   "file_extension": ".py",
   "mimetype": "text/x-python",
   "name": "python",
   "nbconvert_exporter": "python",
   "pygments_lexer": "ipython3",
   "version": "3.12.7"
  }
 },
 "nbformat": 4,
 "nbformat_minor": 2
}
