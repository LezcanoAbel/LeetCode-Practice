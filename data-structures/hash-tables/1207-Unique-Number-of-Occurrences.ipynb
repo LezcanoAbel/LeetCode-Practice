{
 "cells": [
  {
   "cell_type": "markdown",
   "metadata": {},
   "source": [
    "# LeetCode Problem 1207: Unique Number of Occurrences\n",
    "---\n",
    "[Problem Link](https://leetcode.com/problems/unique-number-of-occurrences/description/)\n",
    "\n",
    "## Problem Description\n",
    "\n",
    "Given an array of integers `arr`, return `true` if the number of occurrences of each value in the array is unique, or `false` otherwise.\n",
    "\n",
    "## Example 1\n",
    "\n",
    "**Input:**  \n",
    "`arr = [1,2,2,1,1,3]`  \n",
    "**Output:**  \n",
    "`true`\n",
    "\n",
    "**Explanation:**  \n",
    "The value `1` has 3 occurrences, `2` has 2, and `3` has 1.  \n",
    "No two values have the same number of occurrences.\n",
    "\n",
    "## Example 2\n",
    "\n",
    "**Input:**  \n",
    "`arr = [1,2]`  \n",
    "**Output:**  \n",
    "`false`\n",
    "\n",
    "## Example 3\n",
    "\n",
    "**Input:**  \n",
    "`arr = [-3,0,1,-3,1,1,1,-3,10,0]`  \n",
    "**Output:**  \n",
    "`true`\n",
    "\n",
    "## Constraints\n",
    "\n",
    "- 1 ≤ `arr.length` ≤ 1000\n",
    "- -1000 ≤ `arr[i]` ≤ 1000\n",
    "\n",
    "## Approach to Solve the Problem\n",
    "1. Count occurrences of each number using a dictionary.\n",
    "2. Convert the dictionary values to a set to remove duplicates.\n",
    "3. Compare the lengths of the set and the dictionary values.\n",
    "4. Return `true` if they are equal, otherwise `false`.\n",
    "\n",
    "Happy coding! 🎉"
   ]
  },
  {
   "cell_type": "code",
   "execution_count": 1,
   "metadata": {},
   "outputs": [],
   "source": [
    "class Solution(object):\n",
    "    def uniqueOccurrences(self, arr):\n",
    "        \"\"\"\n",
    "        :type arr: List[int]\n",
    "        :rtype: bool\n",
    "        \"\"\"\n",
    "        count = {}\n",
    "        for num in arr:\n",
    "            if num not in count:\n",
    "                count[num] = 1\n",
    "            else:\n",
    "                count[num] += 1\n",
    "        return len(set(count.values())) == len(count.values())"
   ]
  },
  {
   "cell_type": "code",
   "execution_count": 2,
   "metadata": {},
   "outputs": [
    {
     "name": "stdout",
     "output_type": "stream",
     "text": [
      "True\n"
     ]
    }
   ],
   "source": [
    "arr = [1,2,2,1,1,3]\n",
    "sol1 = Solution()\n",
    "print(sol1.uniqueOccurrences(arr))"
   ]
  },
  {
   "cell_type": "code",
   "execution_count": 3,
   "metadata": {},
   "outputs": [
    {
     "name": "stdout",
     "output_type": "stream",
     "text": [
      "False\n"
     ]
    }
   ],
   "source": [
    "arr = [1,2]\n",
    "sol2 = Solution()\n",
    "print(sol2.uniqueOccurrences(arr))"
   ]
  },
  {
   "cell_type": "code",
   "execution_count": 4,
   "metadata": {},
   "outputs": [
    {
     "name": "stdout",
     "output_type": "stream",
     "text": [
      "True\n"
     ]
    }
   ],
   "source": [
    "arr = [-3,0,1,-3,1,1,1,-3,10,0]\n",
    "sol3 = Solution()\n",
    "print(sol3.uniqueOccurrences(arr))"
   ]
  }
 ],
 "metadata": {
  "kernelspec": {
   "display_name": "base",
   "language": "python",
   "name": "python3"
  },
  "language_info": {
   "codemirror_mode": {
    "name": "ipython",
    "version": 3
   },
   "file_extension": ".py",
   "mimetype": "text/x-python",
   "name": "python",
   "nbconvert_exporter": "python",
   "pygments_lexer": "ipython3",
   "version": "3.12.7"
  }
 },
 "nbformat": 4,
 "nbformat_minor": 2
}
