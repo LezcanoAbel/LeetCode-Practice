{
 "cells": [
  {
   "cell_type": "markdown",
   "metadata": {},
   "source": [
    "# LeetCode Problem 217: Contains Duplicate\n",
    "---\n",
    "[Problem Link](https://leetcode.com/problems/contains-duplicate/description/)\n",
    "\n",
    "## Problem Description\n",
    "\n",
    "Given an integer array `nums`, return `true` if any value appears at least twice in the array, and return `false` if every element is distinct.\n",
    "\n",
    "\n",
    "## Examples\n",
    "\n",
    "### Example 1\n",
    "**Input:**  \n",
    "`nums = [1,2,3,1]`  \n",
    "**Output:**  \n",
    "`true`  \n",
    "\n",
    "**Explanation:**  \n",
    "The element 1 occurs at indices 0 and 3.\n",
    "\n",
    "### Example 2\n",
    "**Input:**  \n",
    "`nums = [1,2,3,4]`  \n",
    "**Output:**  \n",
    "`false`  \n",
    "\n",
    "**Explanation:**  \n",
    "All elements are distinct.\n",
    "\n",
    "### Example 3\n",
    "**Input:**  \n",
    "`nums = [1,1,1,3,3,4,3,2,4,2]`  \n",
    "**Output:**  \n",
    "`true`  \n",
    "\n",
    "## Constraints\n",
    "\n",
    "- 1 ≤ nums.length ≤ 10^5\n",
    "- -10^9 ≤ nums[i] ≤ 10^9\n",
    "## Approach to Solve the Problem\n",
    "\n",
    "1. Convert the list `nums` to a set.\n",
    "2. Compare the length of the set with the length of the list.\n",
    "3. If the lengths are different, return `true` (indicating duplicates exist).\n",
    "4. If the lengths are the same, return `false` (indicating all elements are distinct).\n",
    "\n",
    "Happy coding! 🎉"
   ]
  },
  {
   "cell_type": "code",
   "execution_count": 2,
   "metadata": {},
   "outputs": [],
   "source": [
    "class Solution(object):\n",
    "    def containsDuplicate(self, nums):\n",
    "        return len(set(nums)) != len(nums)"
   ]
  },
  {
   "cell_type": "code",
   "execution_count": 3,
   "metadata": {},
   "outputs": [
    {
     "name": "stdout",
     "output_type": "stream",
     "text": [
      "True\n"
     ]
    }
   ],
   "source": [
    "nums = [1,2,3,1]\n",
    "sol1 = Solution()\n",
    "print(sol1.containsDuplicate(nums))"
   ]
  },
  {
   "cell_type": "code",
   "execution_count": 4,
   "metadata": {},
   "outputs": [
    {
     "name": "stdout",
     "output_type": "stream",
     "text": [
      "False\n"
     ]
    }
   ],
   "source": [
    "nums = [1,2,3,4]\n",
    "sol2 = Solution()\n",
    "print(sol2.containsDuplicate(nums))"
   ]
  },
  {
   "cell_type": "code",
   "execution_count": 5,
   "metadata": {},
   "outputs": [
    {
     "name": "stdout",
     "output_type": "stream",
     "text": [
      "True\n"
     ]
    }
   ],
   "source": [
    "nums = [1,1,1,3,3,4,3,2,4,2]\n",
    "sol3 = Solution()\n",
    "print(sol3.containsDuplicate(nums))"
   ]
  }
 ],
 "metadata": {
  "kernelspec": {
   "display_name": "base",
   "language": "python",
   "name": "python3"
  },
  "language_info": {
   "codemirror_mode": {
    "name": "ipython",
    "version": 3
   },
   "file_extension": ".py",
   "mimetype": "text/x-python",
   "name": "python",
   "nbconvert_exporter": "python",
   "pygments_lexer": "ipython3",
   "version": "3.12.7"
  }
 },
 "nbformat": 4,
 "nbformat_minor": 2
}
