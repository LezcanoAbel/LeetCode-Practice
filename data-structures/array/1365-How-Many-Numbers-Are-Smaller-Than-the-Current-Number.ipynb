{
 "cells": [
  {
   "cell_type": "markdown",
   "metadata": {},
   "source": [
    "# LeetCode Problem 3165: How Many Numbers Are Smaller Than the Current Number\n",
    "\n",
    "## Problem Description\n",
    "\n",
    "Given the array `nums`, for each element `nums[i]`, find out how many numbers in the array are smaller than it. Specifically, you need to count the number of valid indices \\( j \\) such that \\( j \\neq i \\) and \\( \\text{nums}[j] < \\text{nums}[i] \\).\n",
    "\n",
    "Return the results in an array.\n",
    "\n",
    "---\n",
    "\n",
    "### Example 1\n",
    "\n",
    "**Input:**  \n",
    "`nums = [8,1,2,2,3]`  \n",
    "**Output:**  \n",
    "`[4,0,1,1,3]`  \n",
    "\n",
    "**Explanation:**  \n",
    "- For `nums[0] = 8`, there are 4 numbers smaller than it: `1, 2, 2, 3`.  \n",
    "- For `nums[1] = 1`, there are no numbers smaller than it.  \n",
    "- For `nums[2] = 2`, there is 1 number smaller than it: `1`.  \n",
    "- For `nums[3] = 2`, there is 1 number smaller than it: `1`.  \n",
    "- For `nums[4] = 3`, there are 3 numbers smaller than it: `1, 2, 2`.  \n",
    "\n",
    "---\n",
    "\n",
    "### Example 2\n",
    "\n",
    "**Input:**  \n",
    "`nums = [6,5,4,8]`  \n",
    "**Output:**  \n",
    "`[2,1,0,3]`  \n",
    "\n",
    "---\n",
    "\n",
    "### Example 3\n",
    "\n",
    "**Input:**  \n",
    "`nums = [7,7,7,7]`  \n",
    "**Output:**  \n",
    "`[0,0,0,0]`  \n",
    "\n",
    "---\n",
    "\n",
    "## Constraints\n",
    "\n",
    "- \\( 2 \\leq \\text{nums.length} \\leq 500 \\)\n",
    "- \\( 0 \\leq \\text{nums}[i] \\leq 100 \\)\n",
    "\n",
    "---\n",
    "\n",
    "## Approach to Solve the Problem\n",
    "\n",
    "1. **Naive Approach (O(n²)):**\n",
    "   - For each element in `nums`, iterate through the entire array and count the elements smaller than it.\n",
    "   - Append the count to the result list.\n",
    "\n",
    "2. **Optimized Approach (O(n \\log n)):**\n",
    "   - Use sorting to determine the ranks of the numbers.\n",
    "   - Create a sorted copy of `nums`, and map each number to its index in the sorted array. This index represents how many numbers are smaller than the current number.\n",
    "   - Iterate through the original `nums` and use the precomputed mapping to generate the result.\n",
    "\n",
    "---\n",
    "\n",
    "Happy coding! 😊\n"
   ]
  },
  {
   "cell_type": "code",
   "execution_count": 1,
   "metadata": {},
   "outputs": [],
   "source": [
    "class Solution(object):\n",
    "    def smallerNumbersThanCurrent(self, nums):\n",
    "        \"\"\"\n",
    "        :type nums: List[int]\n",
    "        :rtype: List[int]\n",
    "        \"\"\"\n",
    "        list_min =  list()\n",
    "        for n in nums:\n",
    "            count = 0\n",
    "            for m in nums:\n",
    "                if m < n:\n",
    "                    count += 1\n",
    "            list_min.append(count)\n",
    "        return list_min"
   ]
  },
  {
   "cell_type": "code",
   "execution_count": 2,
   "metadata": {},
   "outputs": [
    {
     "name": "stdout",
     "output_type": "stream",
     "text": [
      "[4, 0, 1, 1, 3]\n"
     ]
    }
   ],
   "source": [
    "nums = [8,1,2,2,3]\n",
    "sol1 = Solution()\n",
    "print(sol1.smallerNumbersThanCurrent(nums))"
   ]
  },
  {
   "cell_type": "code",
   "execution_count": 3,
   "metadata": {},
   "outputs": [
    {
     "name": "stdout",
     "output_type": "stream",
     "text": [
      "[2, 1, 0, 3]\n"
     ]
    }
   ],
   "source": [
    "nums = [6,5,4,8]\n",
    "sol2 = Solution()\n",
    "print(sol2.smallerNumbersThanCurrent(nums))"
   ]
  },
  {
   "cell_type": "code",
   "execution_count": 4,
   "metadata": {},
   "outputs": [
    {
     "name": "stdout",
     "output_type": "stream",
     "text": [
      "[0, 0, 0, 0]\n"
     ]
    }
   ],
   "source": [
    "nums = [7,7,7,7]\n",
    "sol3 = Solution()\n",
    "print(sol3.smallerNumbersThanCurrent(nums))"
   ]
  }
 ],
 "metadata": {
  "kernelspec": {
   "display_name": "base",
   "language": "python",
   "name": "python3"
  },
  "language_info": {
   "codemirror_mode": {
    "name": "ipython",
    "version": 3
   },
   "file_extension": ".py",
   "mimetype": "text/x-python",
   "name": "python",
   "nbconvert_exporter": "python",
   "pygments_lexer": "ipython3",
   "version": "3.12.7"
  }
 },
 "nbformat": 4,
 "nbformat_minor": 2
}
