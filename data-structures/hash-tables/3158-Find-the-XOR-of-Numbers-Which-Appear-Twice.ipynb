{
 "cells": [
  {
   "cell_type": "markdown",
   "metadata": {},
   "source": [
    "#  LeetCode Problem 3158: Find the XOR of Numbers Which Appear Twice\n",
    "---\n",
    "[Problem Link](https://leetcode.com/problems/find-the-xor-of-numbers-which-appear-twice/description/)\n",
    "\n",
    "## Problem Description\n",
    "\n",
    "You are given an array `nums`, where each number in the array appears either once or twice.\n",
    "\n",
    "Return the bitwise XOR of all the numbers that appear twice in the array, or 0 if no number appears twice.\n",
    "\n",
    "## Examples\n",
    "\n",
    "### Example 1\n",
    "**Input:** `nums = [1,2,1,3]`  \n",
    "**Output:** `1`  \n",
    "**Explanation:** The only number that appears twice in `nums` is 1.\n",
    "\n",
    "### Example 2\n",
    "**Input:** `nums = [1,2,3]`  \n",
    "**Output:** `0`  \n",
    "**Explanation:** No number appears twice in `nums`.\n",
    "\n",
    "### Example 3\n",
    "**Input:** `nums = [1,2,2,1]`  \n",
    "**Output:** `3`  \n",
    "**Explanation:** Numbers 1 and 2 appeared twice. `1 XOR 2 == 3`.\n",
    "\n",
    "## Constraints\n",
    "- `1 <= nums.length <= 50`\n",
    "- `1 <= nums[i] <= 50`\n",
    "- Each number in `nums` appears either once or twice.\n",
    "\n",
    "## Approach to Solve the Problem\n",
    "1. Count occurrences of each number using a dictionary\n",
    "2. Identify numbers that appear more than once\n",
    "3. XOR the repeated numbers and return the result\n",
    "\n",
    "\n",
    "Happy coding! 👨‍💻\n"
   ]
  },
  {
   "cell_type": "code",
   "execution_count": 9,
   "metadata": {},
   "outputs": [],
   "source": [
    "class Solution(object):\n",
    "    def duplicateNumbersXOR(self, nums):\n",
    "        \"\"\"\n",
    "        :type nums: List[int]\n",
    "        :rtype: int\n",
    "        \"\"\"\n",
    "        dict_nums = dict()\n",
    "        nums_repeat = list()\n",
    "        XOR = 0\n",
    "\n",
    "        for num in nums:\n",
    "            if num not in dict_nums:\n",
    "                dict_nums[num] = 1\n",
    "            else:\n",
    "                dict_nums[num] += 1\n",
    "\n",
    "        for key, values in dict_nums.items():\n",
    "            if values > 1:\n",
    "                nums_repeat.append(key)\n",
    "\n",
    "        for num in nums_repeat:\n",
    "            XOR ^= num\n",
    "        return XOR"
   ]
  },
  {
   "cell_type": "code",
   "execution_count": 10,
   "metadata": {},
   "outputs": [
    {
     "name": "stdout",
     "output_type": "stream",
     "text": [
      "1\n"
     ]
    }
   ],
   "source": [
    "nums = [1,2,1,3]\n",
    "sol1 = Solution()\n",
    "print(sol1.duplicateNumbersXOR(nums))"
   ]
  },
  {
   "cell_type": "code",
   "execution_count": 11,
   "metadata": {},
   "outputs": [
    {
     "name": "stdout",
     "output_type": "stream",
     "text": [
      "0\n"
     ]
    }
   ],
   "source": [
    "nums = [1,2,3]\n",
    "sol1 = Solution()\n",
    "print(sol1.duplicateNumbersXOR(nums))"
   ]
  },
  {
   "cell_type": "code",
   "execution_count": 12,
   "metadata": {},
   "outputs": [
    {
     "name": "stdout",
     "output_type": "stream",
     "text": [
      "3\n"
     ]
    }
   ],
   "source": [
    "nums = [1,2,2,1]\n",
    "sol1 = Solution()\n",
    "print(sol1.duplicateNumbersXOR(nums))"
   ]
  }
 ],
 "metadata": {
  "kernelspec": {
   "display_name": "base",
   "language": "python",
   "name": "python3"
  },
  "language_info": {
   "codemirror_mode": {
    "name": "ipython",
    "version": 3
   },
   "file_extension": ".py",
   "mimetype": "text/x-python",
   "name": "python",
   "nbconvert_exporter": "python",
   "pygments_lexer": "ipython3",
   "version": "3.12.7"
  }
 },
 "nbformat": 4,
 "nbformat_minor": 2
}
