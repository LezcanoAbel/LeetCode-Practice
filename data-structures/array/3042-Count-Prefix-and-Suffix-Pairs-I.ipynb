{
 "cells": [
  {
   "cell_type": "markdown",
   "metadata": {},
   "source": [
    "# LeetCode Problem 3042: Count Prefix and Suffix Pairs I\n",
    "---\n",
    "[Problem Link](https://leetcode.com/problems/count-prefix-and-suffix-pairs-i/description/)\n",
    "\n",
    "## Problem Description\n",
    "\n",
    "You are given a 0-indexed string array `words`.  \n",
    "\n",
    "Let's define a boolean function `isPrefixAndSuffix` that takes two strings, `str1` and `str2`:  \n",
    "- `isPrefixAndSuffix(str1, str2)` returns `true` if `str1` is both a **prefix** and a **suffix** of `str2`, and `false` otherwise.  \n",
    "\n",
    "For example:  \n",
    "- `isPrefixAndSuffix(\"aba\", \"ababa\")` is `true` because `\"aba\"` is a prefix and a suffix of `\"ababa\"`.  \n",
    "- `isPrefixAndSuffix(\"abc\", \"abcd\")` is `false`.  \n",
    "\n",
    "Return an integer denoting the number of index pairs `(i, j)` such that `i < j`, and `isPrefixAndSuffix(words[i], words[j])` is `true`.\n",
    "\n",
    "### Example 1\n",
    "\n",
    "**Input:**  \n",
    "`words = [\"a\",\"aba\",\"ababa\",\"aa\"]`  \n",
    "**Output:**  \n",
    "`4`  \n",
    "\n",
    "**Explanation:**  \n",
    "- `(i = 0, j = 1)` → `isPrefixAndSuffix(\"a\", \"aba\")` is `true`.  \n",
    "- `(i = 0, j = 2)` → `isPrefixAndSuffix(\"a\", \"ababa\")` is `true`.  \n",
    "- `(i = 0, j = 3)` → `isPrefixAndSuffix(\"a\", \"aa\")` is `true`.  \n",
    "- `(i = 1, j = 2)` → `isPrefixAndSuffix(\"aba\", \"ababa\")` is `true`.  \n",
    "\n",
    "### Example 2\n",
    "\n",
    "**Input:**  \n",
    "`words = [\"pa\",\"papa\",\"ma\",\"mama\"]`  \n",
    "**Output:**  \n",
    "`2`  \n",
    "\n",
    "**Explanation:**  \n",
    "- `(i = 0, j = 1)` → `isPrefixAndSuffix(\"pa\", \"papa\")` is `true`.  \n",
    "- `(i = 2, j = 3)` → `isPrefixAndSuffix(\"ma\", \"mama\")` is `true`.  \n",
    "\n",
    "### Example 3\n",
    "\n",
    "**Input:**  \n",
    "`words = [\"abab\",\"ab\"]`  \n",
    "**Output:**  \n",
    "`0`  \n",
    "\n",
    "**Explanation:**  \n",
    "There are no valid pairs `(i, j)` such that `isPrefixAndSuffix(words[i], words[j])` is `true`.  \n",
    "\n",
    "## Constraints\n",
    "\n",
    "- `1 ≤ words.length ≤ 50`\n",
    "- `1 ≤ words[i].length ≤ 10`\n",
    "- `words[i]` consists only of lowercase English letters.\n",
    "\n",
    "## Approach to Solve the Problem\n",
    "\n",
    "1. Define a helper function `isPrefixAndSuffix` to check if one string is both a prefix and suffix of another.\n",
    "2. Initialize a counter `count` to zero.\n",
    "3. Iterate through each pair of words in `words` and use the helper function to check the condition.\n",
    "4. Increment the counter if the condition is met.\n",
    "5. Return the final count.\n",
    "\n",
    "Happy coding! 🎉\n"
   ]
  },
  {
   "cell_type": "code",
   "execution_count": null,
   "metadata": {},
   "outputs": [],
   "source": [
    "class Solution:\n",
    "    def countPrefixSuffixPairs(self, words):\n",
    "        def isPrefixAndSuffix(str1, str2):\n",
    "            if len(str1) > len(str2):\n",
    "                return False\n",
    "            return str1 == str2[: len(str1)] and str1 == str2[-len(str1) :]\n",
    "\n",
    "        count = 0\n",
    "        for i in range(len(words)):\n",
    "            for j in range(i + 1, len(words)):\n",
    "                if isPrefixAndSuffix(words[i], words[j]):\n",
    "                    count += 1\n",
    "        return count"
   ]
  },
  {
   "cell_type": "code",
   "execution_count": 32,
   "metadata": {},
   "outputs": [
    {
     "name": "stdout",
     "output_type": "stream",
     "text": [
      "4\n"
     ]
    }
   ],
   "source": [
    "words = [\"a\",\"aba\",\"ababa\",\"aa\"]\n",
    "sol1 = Solution()\n",
    "print(sol1.countPrefixSuffixPairs(words)) "
   ]
  },
  {
   "cell_type": "code",
   "execution_count": 33,
   "metadata": {},
   "outputs": [
    {
     "name": "stdout",
     "output_type": "stream",
     "text": [
      "2\n"
     ]
    }
   ],
   "source": [
    "words = [\"pa\",\"papa\",\"ma\",\"mama\"]\n",
    "sol2 = Solution()\n",
    "print(sol2.countPrefixSuffixPairs(words))"
   ]
  },
  {
   "cell_type": "code",
   "execution_count": 34,
   "metadata": {},
   "outputs": [
    {
     "name": "stdout",
     "output_type": "stream",
     "text": [
      "0\n"
     ]
    }
   ],
   "source": [
    "words = [\"abab\",\"ab\"]\n",
    "sol3 = Solution()\n",
    "print(sol3.countPrefixSuffixPairs(words))"
   ]
  }
 ],
 "metadata": {
  "kernelspec": {
   "display_name": "base",
   "language": "python",
   "name": "python3"
  },
  "language_info": {
   "codemirror_mode": {
    "name": "ipython",
    "version": 3
   },
   "file_extension": ".py",
   "mimetype": "text/x-python",
   "name": "python",
   "nbconvert_exporter": "python",
   "pygments_lexer": "ipython3",
   "version": "3.12.7"
  }
 },
 "nbformat": 4,
 "nbformat_minor": 2
}
