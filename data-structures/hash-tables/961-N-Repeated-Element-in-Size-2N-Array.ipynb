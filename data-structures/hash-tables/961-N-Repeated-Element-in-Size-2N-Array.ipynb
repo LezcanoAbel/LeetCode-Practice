{
 "cells": [
  {
   "cell_type": "markdown",
   "metadata": {},
   "source": [
    "\n",
    "# LeetCode Problem 961: N-Repeated Element in Size 2N Array\n",
    "---\n",
    "[Problem Link](https://leetcode.com/problems/n-repeated-element-in-size-2n-array/)\n",
    "\n",
    "## Problem Description\n",
    "\n",
    "You are given an integer array `nums` with the following properties:\n",
    "\n",
    "- `nums.length == 2 * n`\n",
    "- `nums` contains `n + 1` unique elements.\n",
    "- Exactly one element of `nums` is repeated `n` times.\n",
    "\n",
    "Return the element that is repeated `n` times.\n",
    "\n",
    "## Example 1\n",
    "\n",
    "**Input:**  \n",
    "`nums = [1,2,3,3]`  \n",
    "**Output:**  \n",
    "`3`\n",
    "\n",
    "## Example 2\n",
    "\n",
    "**Input:**  \n",
    "`nums = [2,1,2,5,3,2]`  \n",
    "**Output:**  \n",
    "`2`\n",
    "\n",
    "## Example 3\n",
    "\n",
    "**Input:**  \n",
    "`nums = [5,1,5,2,5,3,5,4]`  \n",
    "**Output:**  \n",
    "`5`\n",
    "\n",
    "## Constraints\n",
    "\n",
    "- 2 ≤ `n` ≤ 5000\n",
    "- `nums.length == 2 * n`\n",
    "- 0 ≤ `nums[i]` ≤ 10⁴\n",
    "- `nums` contains `n + 1` unique elements, and one of them is repeated exactly `n` times.\n",
    "\n",
    "## Approach to Solve the Problem\n",
    "\n",
    "1. Use a dictionary to count the frequency of each element in `nums`.\n",
    "2. Return the element with a frequency of `n` (i.e., `len(nums) / 2`).\n",
    "\n",
    "Happy coding! 🎉"
   ]
  },
  {
   "cell_type": "code",
   "execution_count": 1,
   "metadata": {},
   "outputs": [],
   "source": [
    "class Solution(object):\n",
    "    def repeatedNTimes(self, nums):\n",
    "        \"\"\"\n",
    "        :type nums: List[int]\n",
    "        :rtype: int\n",
    "        \"\"\"\n",
    "        frequencies = {}\n",
    "        output = 0\n",
    "        \n",
    "        for num in nums:\n",
    "            if num not in frequencies:\n",
    "                frequencies[num] = 1\n",
    "            else:\n",
    "                frequencies[num] += 1\n",
    "                \n",
    "        for key, value in frequencies.items():\n",
    "            if (len(nums)/2) == value:\n",
    "                output = key\n",
    "        return output"
   ]
  },
  {
   "cell_type": "code",
   "execution_count": 2,
   "metadata": {},
   "outputs": [
    {
     "name": "stdout",
     "output_type": "stream",
     "text": [
      "3\n"
     ]
    }
   ],
   "source": [
    "nums = [1,2,3,3]\n",
    "sol1 = Solution()\n",
    "print(sol1.repeatedNTimes(nums))"
   ]
  },
  {
   "cell_type": "code",
   "execution_count": 3,
   "metadata": {},
   "outputs": [
    {
     "name": "stdout",
     "output_type": "stream",
     "text": [
      "2\n"
     ]
    }
   ],
   "source": [
    "nums = [2,1,2,5,3,2]\n",
    "sol2 = Solution()\n",
    "print(sol2.repeatedNTimes(nums))"
   ]
  },
  {
   "cell_type": "code",
   "execution_count": 4,
   "metadata": {},
   "outputs": [
    {
     "name": "stdout",
     "output_type": "stream",
     "text": [
      "5\n"
     ]
    }
   ],
   "source": [
    "nums = [5,1,5,2,5,3,5,4]\n",
    "sol2 = Solution()\n",
    "print(sol2.repeatedNTimes(nums))"
   ]
  }
 ],
 "metadata": {
  "kernelspec": {
   "display_name": "base",
   "language": "python",
   "name": "python3"
  },
  "language_info": {
   "codemirror_mode": {
    "name": "ipython",
    "version": 3
   },
   "file_extension": ".py",
   "mimetype": "text/x-python",
   "name": "python",
   "nbconvert_exporter": "python",
   "pygments_lexer": "ipython3",
   "version": "3.12.7"
  }
 },
 "nbformat": 4,
 "nbformat_minor": 2
}
