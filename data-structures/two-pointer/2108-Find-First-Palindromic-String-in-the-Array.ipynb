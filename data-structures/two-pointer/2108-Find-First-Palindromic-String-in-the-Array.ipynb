{
 "cells": [
  {
   "cell_type": "markdown",
   "metadata": {},
   "source": [
    "# LeetCode Problem 2108: Find First Palindromic String in the Array\n",
    "---\n",
    "[Problem Link](https://leetcode.com/problems/find-first-palindromic-string-in-the-array/description/)\n",
    "\n",
    "## Problem Description\n",
    "\n",
    "Given an array of strings `words`, return the first palindromic string in the array. If there is no such string, return an empty string `\"\"`.\n",
    "\n",
    "A string is **palindromic** if it reads the same forward and backward.\n",
    "\n",
    "### Example 1\n",
    "\n",
    "**Input:**  \n",
    "`words = [\"abc\",\"car\",\"ada\",\"racecar\",\"cool\"]`  \n",
    "**Output:**  \n",
    "`\"ada\"`\n",
    "\n",
    "**Explanation:**  \n",
    "The first string that is palindromic is `\"ada\"`.  \n",
    "Note that `\"racecar\"` is also palindromic, but it is not the first.\n",
    "\n",
    "### Example 2\n",
    "\n",
    "**Input:**  \n",
    "`words = [\"notapalindrome\",\"racecar\"]`  \n",
    "**Output:**  \n",
    "`\"racecar\"`\n",
    "\n",
    "**Explanation:**  \n",
    "The first and only string that is palindromic is `\"racecar\"`.\n",
    "\n",
    "### Example 3\n",
    "\n",
    "**Input:**  \n",
    "`words = [\"def\",\"ghi\"]`  \n",
    "**Output:**  \n",
    "`\"\"`\n",
    "\n",
    "**Explanation:**  \n",
    "There are no palindromic strings, so the empty string is returned.\n",
    "\n",
    "## Constraints\n",
    "\n",
    "- `1 ≤ words.length ≤ 100`\n",
    "- `1 ≤ words[i].length ≤ 100`\n",
    "- `words[i]` consists only of lowercase English letters.\n",
    "\n",
    "## Approach to Solve the Problem\n",
    "We use the two-pointer technique:  \n",
    "1. Iterate through each word in `words`.  \n",
    "2. Use two pointers (`left` at the start, `right` at the end) to check if the word is a palindrome.  \n",
    "3. If a palindrome is found, return it; otherwise, continue.  \n",
    "4. If no palindromic word is found, return an empty string. \n",
    "\n",
    "Happy coding! 🎉"
   ]
  },
  {
   "cell_type": "code",
   "execution_count": 40,
   "metadata": {},
   "outputs": [],
   "source": [
    "class Solution:    \n",
    "    def firstPalindrome(self, words):\n",
    "        for word in words:\n",
    "            left, right = 0, len(word) - 1\n",
    "            while left < right:\n",
    "                if word[left] != word[right]:\n",
    "                    break\n",
    "                left += 1\n",
    "                right -= 1\n",
    "            \n",
    "            else:\n",
    "                return word\n",
    "        return \"\""
   ]
  },
  {
   "cell_type": "code",
   "execution_count": 44,
   "metadata": {},
   "outputs": [
    {
     "name": "stdout",
     "output_type": "stream",
     "text": [
      "ada\n"
     ]
    }
   ],
   "source": [
    "words = [\"abc\",\"car\",\"ada\",\"racecar\",\"cool\"]\n",
    "sol1 = Solution()\n",
    "print(sol1.firstPalindrome(words))"
   ]
  },
  {
   "cell_type": "code",
   "execution_count": 45,
   "metadata": {},
   "outputs": [
    {
     "name": "stdout",
     "output_type": "stream",
     "text": [
      "racecar\n"
     ]
    }
   ],
   "source": [
    "words = [\"notapalindrome\",\"racecar\"]\n",
    "sol2 = Solution()\n",
    "print(sol2.firstPalindrome(words))"
   ]
  },
  {
   "cell_type": "code",
   "execution_count": 46,
   "metadata": {},
   "outputs": [
    {
     "name": "stdout",
     "output_type": "stream",
     "text": [
      "\n"
     ]
    }
   ],
   "source": [
    "words = [\"def\",\"ghi\"]\n",
    "sol3 = Solution()\n",
    "print(sol3.firstPalindrome(words))"
   ]
  },
  {
   "cell_type": "code",
   "execution_count": null,
   "metadata": {},
   "outputs": [],
   "source": []
  }
 ],
 "metadata": {
  "kernelspec": {
   "display_name": "base",
   "language": "python",
   "name": "python3"
  },
  "language_info": {
   "codemirror_mode": {
    "name": "ipython",
    "version": 3
   },
   "file_extension": ".py",
   "mimetype": "text/x-python",
   "name": "python",
   "nbconvert_exporter": "python",
   "pygments_lexer": "ipython3",
   "version": "3.12.7"
  }
 },
 "nbformat": 4,
 "nbformat_minor": 2
}
