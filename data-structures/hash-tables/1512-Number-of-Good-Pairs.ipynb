{
 "cells": [
  {
   "cell_type": "markdown",
   "metadata": {},
   "source": [
    "# LeetCode Problem 1512: Number of Good Pairs\n",
    "---\n",
    "[Problem Link](https://leetcode.com/problems/number-of-good-pairs/description/)\n",
    "\n",
    "## Problem Description\n",
    "\n",
    "Given an array of integers `nums`, return the number of good pairs.\n",
    "\n",
    "A pair `(i, j)` is called good if `nums[i] == nums[j]` and `i < j`.\n",
    "\n",
    "### Example 1\n",
    "\n",
    "**Input:**  \n",
    "`nums = [1,2,3,1,1,3]`  \n",
    "**Output:**  \n",
    "`4`  \n",
    "**Explanation:**  \n",
    "There are 4 good pairs `(0,3), (0,4), (3,4), (2,5)` (0-indexed).\n",
    "\n",
    "### Example 2\n",
    "\n",
    "**Input:**  \n",
    "`nums = [1,1,1,1]`  \n",
    "**Output:**  \n",
    "`6`  \n",
    "**Explanation:**  \n",
    "Each pair in the array are good.\n",
    "\n",
    "### Example 3\n",
    "\n",
    "**Input:**  \n",
    "`nums = [1,2,3]`  \n",
    "**Output:**  \n",
    "`0`  \n",
    "**Explanation:**  \n",
    "No good pairs exist.\n",
    "\n",
    "## Constraints\n",
    "\n",
    "- 1 ≤ nums.length ≤ 100\n",
    "- 1 ≤ nums[i] ≤ 100\n",
    "\n",
    "## Approach to Solve the Problem\n",
    "\n",
    "1. Iterate through the array using two nested loops.\n",
    "2. For each pair `(i, j)` where `i < j`, check if `nums[i] == nums[j]`.\n",
    "3. Count and sum up all such good pairs.\n",
    "\n",
    "Happy coding! 😊\n"
   ]
  },
  {
   "cell_type": "code",
   "execution_count": null,
   "metadata": {},
   "outputs": [],
   "source": [
    "class Solution(object):\n",
    "    def numIdenticalPairs(self, nums):\n",
    "        count = 0\n",
    "        for pos_i, num_i in enumerate(nums):\n",
    "            for pos_j, num_j in enumerate(nums):\n",
    "                if pos_i < pos_j:\n",
    "                    if num_i == num_j:\n",
    "                        count += 1\n",
    "        return count"
   ]
  },
  {
   "cell_type": "code",
   "execution_count": 3,
   "metadata": {},
   "outputs": [
    {
     "name": "stdout",
     "output_type": "stream",
     "text": [
      "4\n"
     ]
    }
   ],
   "source": [
    "nums = [1,2,3,1,1,3]\n",
    "sol1 = Solution()\n",
    "print(sol1.numIdenticalPairs(nums))"
   ]
  },
  {
   "cell_type": "code",
   "execution_count": 4,
   "metadata": {},
   "outputs": [
    {
     "name": "stdout",
     "output_type": "stream",
     "text": [
      "6\n"
     ]
    }
   ],
   "source": [
    "nums = [1,1,1,1]\n",
    "sol2 = Solution()\n",
    "print(sol2.numIdenticalPairs(nums))"
   ]
  },
  {
   "cell_type": "code",
   "execution_count": 5,
   "metadata": {},
   "outputs": [
    {
     "name": "stdout",
     "output_type": "stream",
     "text": [
      "0\n"
     ]
    }
   ],
   "source": [
    "nums = [1,2,3]\n",
    "sol3 = Solution()\n",
    "print(sol3.numIdenticalPairs(nums))"
   ]
  },
  {
   "cell_type": "code",
   "execution_count": null,
   "metadata": {},
   "outputs": [],
   "source": []
  }
 ],
 "metadata": {
  "kernelspec": {
   "display_name": "base",
   "language": "python",
   "name": "python3"
  },
  "language_info": {
   "codemirror_mode": {
    "name": "ipython",
    "version": 3
   },
   "file_extension": ".py",
   "mimetype": "text/x-python",
   "name": "python",
   "nbconvert_exporter": "python",
   "pygments_lexer": "ipython3",
   "version": "3.12.7"
  }
 },
 "nbformat": 4,
 "nbformat_minor": 2
}
