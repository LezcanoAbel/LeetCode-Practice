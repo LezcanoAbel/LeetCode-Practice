{
 "cells": [
  {
   "cell_type": "markdown",
   "metadata": {},
   "source": [
    "# LeetCode Problem 2418: Sort the People\n",
    "---\n",
    "[Problem Link](https://leetcode.com/problems/sort-the-people/description/)\n",
    "\n",
    "## Problem Description\n",
    "\n",
    "You are given two arrays:\n",
    "- `names` — an array of strings representing the names of people.\n",
    "- `heights` — an array of distinct positive integers representing the heights of the same people.\n",
    "\n",
    "Both arrays have the same length n, and each pair `names[i]` and `heights[i]` corresponds to the name and height of the i-th person.\n",
    "\n",
    "Your task is to return the `names` array sorted in **descending order** by the values in the `heights` array.\n",
    "\n",
    "### Example 1\n",
    "\n",
    "**Input:**  \n",
    "`names = [\"Mary\", \"John\", \"Emma\"]`  \n",
    "`heights = [180, 165, 170]`  \n",
    "\n",
    "**Output:**  \n",
    "`[\"Mary\", \"Emma\", \"John\"]`  \n",
    "\n",
    "**Explanation:**  \n",
    "- Mary is the tallest (180 cm).  \n",
    "- Emma is the second tallest (170 cm).  \n",
    "- John is the shortest (165 cm).\n",
    "\n",
    "### Example 2\n",
    "\n",
    "**Input:**  \n",
    "`names = [\"Alice\", \"Bob\", \"Bob\"]`  \n",
    "`heights = [155, 185, 150]`  \n",
    "\n",
    "**Output:**  \n",
    "`[\"Bob\", \"Alice\", \"Bob\"]`  \n",
    "\n",
    "**Explanation:**  \n",
    "- The first Bob is the tallest (185 cm).  \n",
    "- Alice is the second tallest (155 cm).  \n",
    "- The second Bob is the shortest (150 cm).\n",
    "\n",
    "## Constraints\n",
    "\n",
    "- n == names.length == heights.length\n",
    "- 1 <= n <= 1000\n",
    "- 1 <= names[i].length <= 20\n",
    "- 1 <= heights[i] <= 100000\n",
    "- All the values of `heights` are **distinct**\n",
    "- Each `names[i]` consists of lower and upper case English letters.\n",
    "\n",
    "## Approach to Solve the Problem\n",
    "\n",
    "1. Combine the `names` and `heights` arrays into a list of tuples: (name, height)\n",
    "2. Sort the list of tuples in descending order by height\n",
    "3. Extract the names from the sorted list and return them\n",
    "\n",
    "Happy coding! 😊"
   ]
  },
  {
   "cell_type": "code",
   "execution_count": null,
   "metadata": {},
   "outputs": [],
   "source": [
    "class Solution(object):\n",
    "    def sortPeople(self, names, heights):\n",
    "        \"\"\"\n",
    "        :type names: List[str]\n",
    "        :type heights: List[int]\n",
    "        :rtype: List[str]\n",
    "        \"\"\"\n",
    "        report = dict()\n",
    "        for i, people in enumerate(names):\n",
    "            report[heights[i]] = people\n",
    "        decreasing_weight = sorted(report, reverse=True)\n",
    "\n",
    "        names_organized = list()\n",
    "        for i in decreasing_weight:\n",
    "            names_organized.append(report[i])\n",
    "        return names_organized"
   ]
  },
  {
   "cell_type": "code",
   "execution_count": null,
   "metadata": {},
   "outputs": [],
   "source": []
  },
  {
   "cell_type": "code",
   "execution_count": 2,
   "metadata": {},
   "outputs": [
    {
     "name": "stdout",
     "output_type": "stream",
     "text": [
      "['Mary', 'Emma', 'John']\n"
     ]
    }
   ],
   "source": [
    "names = [\"Mary\",\"John\",\"Emma\"]\n",
    "heights = [180,165,170]\n",
    "sol1 = Solution()\n",
    "print(sol1.sortPeople(names, heights))"
   ]
  },
  {
   "cell_type": "code",
   "execution_count": 3,
   "metadata": {},
   "outputs": [
    {
     "name": "stdout",
     "output_type": "stream",
     "text": [
      "['Bob', 'Alice', 'Bob']\n"
     ]
    }
   ],
   "source": [
    "names = [\"Alice\",\"Bob\",\"Bob\"]\n",
    "heights = [155,185,150]\n",
    "sol2 = Solution()\n",
    "print(sol2.sortPeople(names, heights))"
   ]
  }
 ],
 "metadata": {
  "kernelspec": {
   "display_name": "base",
   "language": "python",
   "name": "python3"
  },
  "language_info": {
   "codemirror_mode": {
    "name": "ipython",
    "version": 3
   },
   "file_extension": ".py",
   "mimetype": "text/x-python",
   "name": "python",
   "nbconvert_exporter": "python",
   "pygments_lexer": "ipython3",
   "version": "3.12.7"
  }
 },
 "nbformat": 4,
 "nbformat_minor": 2
}
