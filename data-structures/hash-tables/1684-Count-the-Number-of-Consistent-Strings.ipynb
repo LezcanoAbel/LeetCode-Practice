{
 "cells": [
  {
   "cell_type": "markdown",
   "metadata": {},
   "source": [
    "# LeetCode Problem 1684: Count the Number of Consistent Strings\n",
    "---\n",
    "[Problem Link](https://leetcode.com/problems/count-the-number-of-consistent-strings/description/)\n",
    "\n",
    "## Problem Description\n",
    "\n",
    "You are given:\n",
    "- A string `allowed` consisting of distinct characters.\n",
    "- An array of strings `words`.\n",
    "\n",
    "A string is considered **consistent** if all characters in the string appear in the string `allowed`.  \n",
    "\n",
    "Your task is to return the number of consistent strings in the array `words`.\n",
    "\n",
    "### Example 1\n",
    "\n",
    "**Input:**  \n",
    "`allowed = \"ab\"`  \n",
    "`words = [\"ad\", \"bd\", \"aaab\", \"baa\", \"badab\"]`  \n",
    "**Output:**  \n",
    "`2`  \n",
    "\n",
    "**Explanation:**  \n",
    "- `\"aaab\"` and `\"baa\"` are consistent strings since they only contain the characters `'a'` and `'b'`.\n",
    "\n",
    "### Example 2\n",
    "\n",
    "**Input:**  \n",
    "`allowed = \"abc\"`  \n",
    "`words = [\"a\", \"b\", \"c\", \"ab\", \"ac\", \"bc\", \"abc\"]`  \n",
    "**Output:**  \n",
    "`7`  \n",
    "\n",
    "**Explanation:**  \n",
    "- All strings are consistent because they only contain characters `'a'`, `'b'`, and `'c'`.\n",
    "\n",
    "### Example 3\n",
    "\n",
    "**Input:**  \n",
    "`allowed = \"cad\"`  \n",
    "`words = [\"cc\", \"acd\", \"b\", \"ba\", \"bac\", \"bad\", \"ac\", \"d\"]`  \n",
    "**Output:**  \n",
    "`4`  \n",
    "\n",
    "**Explanation:**  \n",
    "- The consistent strings are `\"cc\"`, `\"acd\"`, `\"ac\"`, and `\"d\"`.\n",
    "\n",
    "## Constraints\n",
    "\n",
    "- 1 ≤ words.length ≤ 10^4\n",
    "- 1 ≤ allowed.length ≤ 26\n",
    "- 1 ≤ words[i].length ≤ 10\n",
    "- The characters in `allowed` are distinct.\n",
    "- `words[i]` and `allowed` contain only lowercase English letters.\n",
    "\n",
    "## Approach to Solve the Problem\n",
    "\n",
    "1. Convert the string `allowed` into a set of characters for efficient lookup.\n",
    "2. For each string in `words`, check if all its characters are present in the `allowed` set.\n",
    "3. Maintain a count of consistent strings.\n",
    "4. Return the final count.\n"
   ]
  },
  {
   "cell_type": "code",
   "execution_count": 12,
   "metadata": {},
   "outputs": [],
   "source": [
    "class Solution:\n",
    "    def countConsistentStrings(self, allowed, words):\n",
    "        count = 0\n",
    "        for word in words:\n",
    "            consistent = True\n",
    "            for character in word:\n",
    "                if character not in allowed:\n",
    "                    consistent = False\n",
    "                    break\n",
    "            if consistent:\n",
    "                count += 1\n",
    "        return count"
   ]
  },
  {
   "cell_type": "code",
   "execution_count": 15,
   "metadata": {},
   "outputs": [
    {
     "name": "stdout",
     "output_type": "stream",
     "text": [
      "2\n"
     ]
    }
   ],
   "source": [
    "allowed = \"ab\"\n",
    "words = [\"ad\",\"bd\",\"aaab\",\"baa\",\"badab\"]\n",
    "sol1 = Solution()\n",
    "print(sol1.countConsistentStrings(allowed, words))"
   ]
  },
  {
   "cell_type": "code",
   "execution_count": 16,
   "metadata": {},
   "outputs": [
    {
     "name": "stdout",
     "output_type": "stream",
     "text": [
      "7\n"
     ]
    }
   ],
   "source": [
    "allowed = \"abc\"\n",
    "words = [\"a\",\"b\",\"c\",\"ab\",\"ac\",\"bc\",\"abc\"]\n",
    "sol2 = Solution()\n",
    "print(sol2.countConsistentStrings(allowed, words))"
   ]
  },
  {
   "cell_type": "code",
   "execution_count": 17,
   "metadata": {},
   "outputs": [
    {
     "name": "stdout",
     "output_type": "stream",
     "text": [
      "4\n"
     ]
    }
   ],
   "source": [
    "allowed = \"cad\"\n",
    "words = [\"cc\",\"acd\",\"b\",\"ba\",\"bac\",\"bad\",\"ac\",\"d\"]\n",
    "sol3 = Solution()\n",
    "print(sol3.countConsistentStrings(allowed, words))"
   ]
  }
 ],
 "metadata": {
  "kernelspec": {
   "display_name": "base",
   "language": "python",
   "name": "python3"
  },
  "language_info": {
   "codemirror_mode": {
    "name": "ipython",
    "version": 3
   },
   "file_extension": ".py",
   "mimetype": "text/x-python",
   "name": "python",
   "nbconvert_exporter": "python",
   "pygments_lexer": "ipython3",
   "version": "3.12.7"
  }
 },
 "nbformat": 4,
 "nbformat_minor": 2
}
