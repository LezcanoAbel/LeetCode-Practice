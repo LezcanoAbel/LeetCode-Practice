{
 "cells": [
  {
   "cell_type": "markdown",
   "metadata": {},
   "source": [
    "# LeetCode Problem 1: Two Sum\n",
    "---\n",
    "[Problem Link](https://leetcode.com/problems/two-sum/)\n",
    "\n",
    "## Problem Description\n",
    "\n",
    "Given an array of integers `nums` and an integer `target`, return indices of the two numbers such that they add up to `target`.\n",
    "\n",
    "You may assume that each input would have exactly one solution, and you may not use the same element twice.\n",
    "\n",
    "You can return the answer in any order.\n",
    "\n",
    "### Example 1\n",
    "\n",
    "**Input:** nums = [2,7,11,15], target = 9  \n",
    "**Output:** [0,1]  \n",
    "**Explanation:** Because nums[0] + nums[1] == 9, we return [0, 1].\n",
    "\n",
    "### Example 2\n",
    "\n",
    "**Input:** nums = [3,2,4], target = 6  \n",
    "**Output:** [1,2]  \n",
    "\n",
    "### Example 3\n",
    "\n",
    "**Input:** nums = [3,3], target = 6  \n",
    "**Output:** [0,1]  \n",
    "\n",
    "## Constraints\n",
    "\n",
    "- 2 <= nums.length <= 10⁴\n",
    "- -10⁹ <= nums[i] <= 10⁹\n",
    "- -10⁹ <= target <= 10⁹\n",
    "- Only one valid answer exists.\n",
    "\n",
    "## Follow-up\n",
    "\n",
    "Can you come up with an algorithm that is less than O(n²) time complexity?\n",
    "\n",
    "## Approach to Solve the Problem\n",
    "\n",
    "1. Create a dictionary to store the numbers seen so far and their indices.\n",
    "2. Iterate through the list, computing the difference between `target` and the current number.\n",
    "3. If the difference exists in the dictionary, return its index along with the current index.\n",
    "4. Otherwise, add the current number and its index to the dictionary.\n",
    "\n",
    "Happy coding! 🎉\n"
   ]
  },
  {
   "cell_type": "code",
   "execution_count": 2,
   "metadata": {},
   "outputs": [],
   "source": [
    "class Solution(object):\n",
    "    def twoSum(self, nums, target):\n",
    "        prevMap = {}\n",
    "        for i, n in enumerate(nums):\n",
    "            diff = target - n\n",
    "            if diff in prevMap:\n",
    "                return [prevMap[diff], i]\n",
    "            prevMap[n] = i"
   ]
  },
  {
   "cell_type": "code",
   "execution_count": 3,
   "metadata": {},
   "outputs": [
    {
     "data": {
      "text/plain": [
       "[0, 1]"
      ]
     },
     "execution_count": 3,
     "metadata": {},
     "output_type": "execute_result"
    }
   ],
   "source": [
    "# Example 1\n",
    "nums = [2, 7, 11, 15]\n",
    "target = 9\n",
    "sol1 = Solution()\n",
    "sol1.twoSum(nums, target)"
   ]
  },
  {
   "cell_type": "code",
   "execution_count": 4,
   "metadata": {},
   "outputs": [
    {
     "data": {
      "text/plain": [
       "[1, 2]"
      ]
     },
     "execution_count": 4,
     "metadata": {},
     "output_type": "execute_result"
    }
   ],
   "source": [
    "# Example 2\n",
    "nums = [3, 2, 4]\n",
    "target = 6\n",
    "sol2 = Solution()\n",
    "sol2.twoSum(nums, target)"
   ]
  },
  {
   "cell_type": "code",
   "execution_count": 5,
   "metadata": {},
   "outputs": [
    {
     "data": {
      "text/plain": [
       "[0, 1]"
      ]
     },
     "execution_count": 5,
     "metadata": {},
     "output_type": "execute_result"
    }
   ],
   "source": [
    "# Example 3\n",
    "nums = [3, 3]\n",
    "target = 6\n",
    "sol3 = Solution()\n",
    "sol3.twoSum(nums, target)"
   ]
  }
 ],
 "metadata": {
  "kernelspec": {
   "display_name": "base",
   "language": "python",
   "name": "python3"
  },
  "language_info": {
   "codemirror_mode": {
    "name": "ipython",
    "version": 3
   },
   "file_extension": ".py",
   "mimetype": "text/x-python",
   "name": "python",
   "nbconvert_exporter": "python",
   "pygments_lexer": "ipython3",
   "version": "3.12.7"
  }
 },
 "nbformat": 4,
 "nbformat_minor": 2
}
